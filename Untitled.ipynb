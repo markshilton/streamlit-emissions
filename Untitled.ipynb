{
 "cells": [
  {
   "cell_type": "code",
   "execution_count": 106,
   "metadata": {},
   "outputs": [],
   "source": [
    "import pandas as pd\n",
    "import plotly.express as px\n",
    "import plotly.graph_objects as go\n",
    "from tqdm.notebook import tqdm"
   ]
  },
  {
   "cell_type": "code",
   "execution_count": 2,
   "metadata": {},
   "outputs": [],
   "source": [
    "xlsx = pd.ExcelFile('Mordor LLC Emissions Calculations Report 08-12-2021.xlsx')"
   ]
  },
  {
   "cell_type": "code",
   "execution_count": 142,
   "metadata": {},
   "outputs": [
    {
     "data": {
      "application/vnd.jupyter.widget-view+json": {
       "model_id": "18cfd150a0aa4b198e7c541b3315d9ab",
       "version_major": 2,
       "version_minor": 0
      },
      "text/plain": [
       "HBox(children=(FloatProgress(value=0.0, max=10.0), HTML(value='')))"
      ]
     },
     "metadata": {},
     "output_type": "display_data"
    },
    {
     "name": "stderr",
     "output_type": "stream",
     "text": [
      "/usr/local/lib/python3.7/site-packages/openpyxl/worksheet/_reader.py:300: UserWarning:\n",
      "\n",
      "Unknown extension is not supported and will be removed\n",
      "\n"
     ]
    },
    {
     "name": "stdout",
     "output_type": "stream",
     "text": [
      "\n"
     ]
    },
    {
     "name": "stderr",
     "output_type": "stream",
     "text": [
      "/usr/local/lib/python3.7/site-packages/ipykernel_launcher.py:23: UserWarning:\n",
      "\n",
      "Pandas doesn't allow columns to be created via a new attribute name - see https://pandas.pydata.org/pandas-docs/stable/indexing.html#attribute-access\n",
      "\n"
     ]
    },
    {
     "data": {
      "text/html": [
       "<div>\n",
       "<style scoped>\n",
       "    .dataframe tbody tr th:only-of-type {\n",
       "        vertical-align: middle;\n",
       "    }\n",
       "\n",
       "    .dataframe tbody tr th {\n",
       "        vertical-align: top;\n",
       "    }\n",
       "\n",
       "    .dataframe thead th {\n",
       "        text-align: right;\n",
       "    }\n",
       "</style>\n",
       "<table border=\"1\" class=\"dataframe\">\n",
       "  <thead>\n",
       "    <tr style=\"text-align: right;\">\n",
       "      <th></th>\n",
       "      <th>date</th>\n",
       "      <th>site_location</th>\n",
       "      <th>quantity</th>\n",
       "      <th>source_unit</th>\n",
       "      <th>conversion</th>\n",
       "      <th>quantity_ghg_emissions</th>\n",
       "      <th>emissions_unit</th>\n",
       "      <th>emission_factor</th>\n",
       "      <th>emission_factor_unit</th>\n",
       "      <th>source_of_emission_factor</th>\n",
       "      <th>scope</th>\n",
       "      <th>category</th>\n",
       "      <th>emission_group</th>\n",
       "      <th>source_type</th>\n",
       "      <th>isic</th>\n",
       "    </tr>\n",
       "  </thead>\n",
       "  <tbody>\n",
       "    <tr>\n",
       "      <th>0</th>\n",
       "      <td>2019-01-01</td>\n",
       "      <td>Rouen</td>\n",
       "      <td>83333.33333</td>\n",
       "      <td>Km</td>\n",
       "      <td>NaN</td>\n",
       "      <td>14036.666666</td>\n",
       "      <td>Kgco2e</td>\n",
       "      <td>Use of passengers by car, average car (diesel)</td>\n",
       "      <td>Km</td>\n",
       "      <td>Defra</td>\n",
       "      <td>3</td>\n",
       "      <td>Business travel</td>\n",
       "      <td>business_travel</td>\n",
       "      <td>NaN</td>\n",
       "      <td>NaN</td>\n",
       "    </tr>\n",
       "    <tr>\n",
       "      <th>1</th>\n",
       "      <td>2019-01-01</td>\n",
       "      <td>Rouen</td>\n",
       "      <td>83333.33333</td>\n",
       "      <td>Km</td>\n",
       "      <td>NaN</td>\n",
       "      <td>3374.166667</td>\n",
       "      <td>Kgco2e</td>\n",
       "      <td>Use of passengers by car, average car (diesel)</td>\n",
       "      <td>Km</td>\n",
       "      <td>Defra</td>\n",
       "      <td>3</td>\n",
       "      <td>Fuel and energy related services</td>\n",
       "      <td>business_travel</td>\n",
       "      <td>NaN</td>\n",
       "      <td>NaN</td>\n",
       "    </tr>\n",
       "    <tr>\n",
       "      <th>2</th>\n",
       "      <td>2019-01-01</td>\n",
       "      <td>Rouen</td>\n",
       "      <td>83333.33333</td>\n",
       "      <td>Km</td>\n",
       "      <td>NaN</td>\n",
       "      <td>14524.999999</td>\n",
       "      <td>Kgco2e</td>\n",
       "      <td>Use of passengers by car, average car (petrol)</td>\n",
       "      <td>Km</td>\n",
       "      <td>Defra</td>\n",
       "      <td>3</td>\n",
       "      <td>Business travel</td>\n",
       "      <td>business_travel</td>\n",
       "      <td>NaN</td>\n",
       "      <td>NaN</td>\n",
       "    </tr>\n",
       "    <tr>\n",
       "      <th>3</th>\n",
       "      <td>2019-01-01</td>\n",
       "      <td>Rouen</td>\n",
       "      <td>83333.33333</td>\n",
       "      <td>Km</td>\n",
       "      <td>NaN</td>\n",
       "      <td>3984.166667</td>\n",
       "      <td>Kgco2e</td>\n",
       "      <td>Use of passengers by car, average car (petrol)</td>\n",
       "      <td>Km</td>\n",
       "      <td>Defra</td>\n",
       "      <td>3</td>\n",
       "      <td>Fuel and energy related services</td>\n",
       "      <td>business_travel</td>\n",
       "      <td>NaN</td>\n",
       "      <td>NaN</td>\n",
       "    </tr>\n",
       "    <tr>\n",
       "      <th>4</th>\n",
       "      <td>2019-01-01</td>\n",
       "      <td>Oxford</td>\n",
       "      <td>12500.00000</td>\n",
       "      <td>Km</td>\n",
       "      <td>NaN</td>\n",
       "      <td>2105.500000</td>\n",
       "      <td>Kgco2e</td>\n",
       "      <td>Use of passengers by car, average car (diesel)</td>\n",
       "      <td>Km</td>\n",
       "      <td>Defra</td>\n",
       "      <td>3</td>\n",
       "      <td>Business travel</td>\n",
       "      <td>business_travel</td>\n",
       "      <td>NaN</td>\n",
       "      <td>NaN</td>\n",
       "    </tr>\n",
       "  </tbody>\n",
       "</table>\n",
       "</div>"
      ],
      "text/plain": [
       "        date site_location     quantity source_unit conversion  \\\n",
       "0 2019-01-01         Rouen  83333.33333          Km        NaN   \n",
       "1 2019-01-01         Rouen  83333.33333          Km        NaN   \n",
       "2 2019-01-01         Rouen  83333.33333          Km        NaN   \n",
       "3 2019-01-01         Rouen  83333.33333          Km        NaN   \n",
       "4 2019-01-01        Oxford  12500.00000          Km        NaN   \n",
       "\n",
       "   quantity_ghg_emissions emissions_unit  \\\n",
       "0            14036.666666         Kgco2e   \n",
       "1             3374.166667         Kgco2e   \n",
       "2            14524.999999         Kgco2e   \n",
       "3             3984.166667         Kgco2e   \n",
       "4             2105.500000         Kgco2e   \n",
       "\n",
       "                                  emission_factor emission_factor_unit  \\\n",
       "0  Use of passengers by car, average car (diesel)                   Km   \n",
       "1  Use of passengers by car, average car (diesel)                   Km   \n",
       "2  Use of passengers by car, average car (petrol)                   Km   \n",
       "3  Use of passengers by car, average car (petrol)                   Km   \n",
       "4  Use of passengers by car, average car (diesel)                   Km   \n",
       "\n",
       "  source_of_emission_factor scope                          category  \\\n",
       "0                     Defra     3                   Business travel   \n",
       "1                     Defra     3  Fuel and energy related services   \n",
       "2                     Defra     3                   Business travel   \n",
       "3                     Defra     3  Fuel and energy related services   \n",
       "4                     Defra     3                   Business travel   \n",
       "\n",
       "    emission_group source_type isic  \n",
       "0  business_travel         NaN  NaN  \n",
       "1  business_travel         NaN  NaN  \n",
       "2  business_travel         NaN  NaN  \n",
       "3  business_travel         NaN  NaN  \n",
       "4  business_travel         NaN  NaN  "
      ]
     },
     "execution_count": 142,
     "metadata": {},
     "output_type": "execute_result"
    }
   ],
   "source": [
    "df = pd.DataFrame()\n",
    "sheets = xlsx.sheet_names\n",
    "\n",
    "for sheet in tqdm(sheets):\n",
    "    if sheet != 'Notes':\n",
    "        temp_df = pd.read_excel(xlsx, sheet)\n",
    "        \n",
    "        column_names = [col.strip()\n",
    "                          .lower()\n",
    "                          .replace(' ', '_')\n",
    "                          .replace('(', '')\n",
    "                          .replace(')', '') for col in temp_df.columns]\n",
    "        \n",
    "        temp_df.columns = column_names\n",
    "        \n",
    "        temp_df = temp_df[[col for col in column_names if 'unnamed' not in col]]\n",
    "        \n",
    "        temp_df['emission_group'] = sheet.lower().replace(' ', '_')\n",
    "        \n",
    "        df = pd.concat([df, temp_df], ignore_index=True)\n",
    "\n",
    "df.date = pd.to_datetime(df.date)   \n",
    "df.month = df.date.dt.to_period('M').astype('str')\n",
    "df.scope = df.scope.astype('str')\n",
    "\n",
    "df.to_csv('data.csv')\n",
    "df.head()"
   ]
  },
  {
   "cell_type": "code",
   "execution_count": 121,
   "metadata": {},
   "outputs": [
    {
     "data": {
      "text/html": [
       "<div>\n",
       "<style scoped>\n",
       "    .dataframe tbody tr th:only-of-type {\n",
       "        vertical-align: middle;\n",
       "    }\n",
       "\n",
       "    .dataframe tbody tr th {\n",
       "        vertical-align: top;\n",
       "    }\n",
       "\n",
       "    .dataframe thead th {\n",
       "        text-align: right;\n",
       "    }\n",
       "</style>\n",
       "<table border=\"1\" class=\"dataframe\">\n",
       "  <thead>\n",
       "    <tr style=\"text-align: right;\">\n",
       "      <th></th>\n",
       "      <th>date</th>\n",
       "      <th>site_location</th>\n",
       "      <th>quantity</th>\n",
       "      <th>source_unit</th>\n",
       "      <th>conversion</th>\n",
       "      <th>quantity_ghg_emissions</th>\n",
       "      <th>emissions_unit</th>\n",
       "      <th>emission_factor</th>\n",
       "      <th>emission_factor_unit</th>\n",
       "      <th>source_of_emission_factor</th>\n",
       "      <th>scope</th>\n",
       "      <th>category</th>\n",
       "      <th>emission_group</th>\n",
       "      <th>source_type</th>\n",
       "      <th>isic</th>\n",
       "    </tr>\n",
       "  </thead>\n",
       "  <tbody>\n",
       "    <tr>\n",
       "      <th>0</th>\n",
       "      <td>2019-01-01</td>\n",
       "      <td>Rouen</td>\n",
       "      <td>83333.33333</td>\n",
       "      <td>Km</td>\n",
       "      <td>NaN</td>\n",
       "      <td>14036.666666</td>\n",
       "      <td>Kgco2e</td>\n",
       "      <td>Use of passengers by car, average car (diesel)</td>\n",
       "      <td>Km</td>\n",
       "      <td>Defra</td>\n",
       "      <td>3</td>\n",
       "      <td>Business travel</td>\n",
       "      <td>business_travel</td>\n",
       "      <td>NaN</td>\n",
       "      <td>NaN</td>\n",
       "    </tr>\n",
       "    <tr>\n",
       "      <th>1</th>\n",
       "      <td>2019-01-01</td>\n",
       "      <td>Rouen</td>\n",
       "      <td>83333.33333</td>\n",
       "      <td>Km</td>\n",
       "      <td>NaN</td>\n",
       "      <td>3374.166667</td>\n",
       "      <td>Kgco2e</td>\n",
       "      <td>Use of passengers by car, average car (diesel)</td>\n",
       "      <td>Km</td>\n",
       "      <td>Defra</td>\n",
       "      <td>3</td>\n",
       "      <td>Fuel and energy related services</td>\n",
       "      <td>business_travel</td>\n",
       "      <td>NaN</td>\n",
       "      <td>NaN</td>\n",
       "    </tr>\n",
       "    <tr>\n",
       "      <th>2</th>\n",
       "      <td>2019-01-01</td>\n",
       "      <td>Rouen</td>\n",
       "      <td>83333.33333</td>\n",
       "      <td>Km</td>\n",
       "      <td>NaN</td>\n",
       "      <td>14524.999999</td>\n",
       "      <td>Kgco2e</td>\n",
       "      <td>Use of passengers by car, average car (petrol)</td>\n",
       "      <td>Km</td>\n",
       "      <td>Defra</td>\n",
       "      <td>3</td>\n",
       "      <td>Business travel</td>\n",
       "      <td>business_travel</td>\n",
       "      <td>NaN</td>\n",
       "      <td>NaN</td>\n",
       "    </tr>\n",
       "    <tr>\n",
       "      <th>3</th>\n",
       "      <td>2019-01-01</td>\n",
       "      <td>Rouen</td>\n",
       "      <td>83333.33333</td>\n",
       "      <td>Km</td>\n",
       "      <td>NaN</td>\n",
       "      <td>3984.166667</td>\n",
       "      <td>Kgco2e</td>\n",
       "      <td>Use of passengers by car, average car (petrol)</td>\n",
       "      <td>Km</td>\n",
       "      <td>Defra</td>\n",
       "      <td>3</td>\n",
       "      <td>Fuel and energy related services</td>\n",
       "      <td>business_travel</td>\n",
       "      <td>NaN</td>\n",
       "      <td>NaN</td>\n",
       "    </tr>\n",
       "    <tr>\n",
       "      <th>4</th>\n",
       "      <td>2019-01-01</td>\n",
       "      <td>Oxford</td>\n",
       "      <td>12500.00000</td>\n",
       "      <td>Km</td>\n",
       "      <td>NaN</td>\n",
       "      <td>2105.500000</td>\n",
       "      <td>Kgco2e</td>\n",
       "      <td>Use of passengers by car, average car (diesel)</td>\n",
       "      <td>Km</td>\n",
       "      <td>Defra</td>\n",
       "      <td>3</td>\n",
       "      <td>Business travel</td>\n",
       "      <td>business_travel</td>\n",
       "      <td>NaN</td>\n",
       "      <td>NaN</td>\n",
       "    </tr>\n",
       "  </tbody>\n",
       "</table>\n",
       "</div>"
      ],
      "text/plain": [
       "        date site_location     quantity source_unit conversion  \\\n",
       "0 2019-01-01         Rouen  83333.33333          Km        NaN   \n",
       "1 2019-01-01         Rouen  83333.33333          Km        NaN   \n",
       "2 2019-01-01         Rouen  83333.33333          Km        NaN   \n",
       "3 2019-01-01         Rouen  83333.33333          Km        NaN   \n",
       "4 2019-01-01        Oxford  12500.00000          Km        NaN   \n",
       "\n",
       "   quantity_ghg_emissions emissions_unit  \\\n",
       "0            14036.666666         Kgco2e   \n",
       "1             3374.166667         Kgco2e   \n",
       "2            14524.999999         Kgco2e   \n",
       "3             3984.166667         Kgco2e   \n",
       "4             2105.500000         Kgco2e   \n",
       "\n",
       "                                  emission_factor emission_factor_unit  \\\n",
       "0  Use of passengers by car, average car (diesel)                   Km   \n",
       "1  Use of passengers by car, average car (diesel)                   Km   \n",
       "2  Use of passengers by car, average car (petrol)                   Km   \n",
       "3  Use of passengers by car, average car (petrol)                   Km   \n",
       "4  Use of passengers by car, average car (diesel)                   Km   \n",
       "\n",
       "  source_of_emission_factor  scope                          category  \\\n",
       "0                     Defra      3                   Business travel   \n",
       "1                     Defra      3  Fuel and energy related services   \n",
       "2                     Defra      3                   Business travel   \n",
       "3                     Defra      3  Fuel and energy related services   \n",
       "4                     Defra      3                   Business travel   \n",
       "\n",
       "    emission_group source_type isic  \n",
       "0  business_travel         NaN  NaN  \n",
       "1  business_travel         NaN  NaN  \n",
       "2  business_travel         NaN  NaN  \n",
       "3  business_travel         NaN  NaN  \n",
       "4  business_travel         NaN  NaN  "
      ]
     },
     "execution_count": 121,
     "metadata": {},
     "output_type": "execute_result"
    }
   ],
   "source": [
    "df.head()"
   ]
  },
  {
   "cell_type": "code",
   "execution_count": 84,
   "metadata": {},
   "outputs": [
    {
     "data": {
      "text/plain": [
       "286535.77556205954"
      ]
     },
     "execution_count": 84,
     "metadata": {},
     "output_type": "execute_result"
    }
   ],
   "source": [
    "df['quantity_ghg_emissions'].sum() / 1000"
   ]
  },
  {
   "cell_type": "code",
   "execution_count": 82,
   "metadata": {},
   "outputs": [],
   "source": [
    "df.to_csv('data.csv')"
   ]
  },
  {
   "cell_type": "code",
   "execution_count": 93,
   "metadata": {},
   "outputs": [
    {
     "data": {
      "text/html": [
       "<div>\n",
       "<style scoped>\n",
       "    .dataframe tbody tr th:only-of-type {\n",
       "        vertical-align: middle;\n",
       "    }\n",
       "\n",
       "    .dataframe tbody tr th {\n",
       "        vertical-align: top;\n",
       "    }\n",
       "\n",
       "    .dataframe thead th {\n",
       "        text-align: right;\n",
       "    }\n",
       "</style>\n",
       "<table border=\"1\" class=\"dataframe\">\n",
       "  <thead>\n",
       "    <tr style=\"text-align: right;\">\n",
       "      <th></th>\n",
       "      <th>emission_group</th>\n",
       "      <th>quantity_ghg_emissions</th>\n",
       "    </tr>\n",
       "  </thead>\n",
       "  <tbody>\n",
       "    <tr>\n",
       "      <th>5</th>\n",
       "      <td>purchases</td>\n",
       "      <td>196245.692597</td>\n",
       "    </tr>\n",
       "    <tr>\n",
       "      <th>1</th>\n",
       "      <td>electricity</td>\n",
       "      <td>65023.604751</td>\n",
       "    </tr>\n",
       "    <tr>\n",
       "      <th>4</th>\n",
       "      <td>natural_gas</td>\n",
       "      <td>19540.189737</td>\n",
       "    </tr>\n",
       "    <tr>\n",
       "      <th>2</th>\n",
       "      <td>employee_commuting</td>\n",
       "      <td>2259.714238</td>\n",
       "    </tr>\n",
       "    <tr>\n",
       "      <th>3</th>\n",
       "      <td>fuel</td>\n",
       "      <td>1677.763422</td>\n",
       "    </tr>\n",
       "    <tr>\n",
       "      <th>7</th>\n",
       "      <td>waste</td>\n",
       "      <td>1199.933989</td>\n",
       "    </tr>\n",
       "    <tr>\n",
       "      <th>0</th>\n",
       "      <td>business_travel</td>\n",
       "      <td>549.470345</td>\n",
       "    </tr>\n",
       "    <tr>\n",
       "      <th>6</th>\n",
       "      <td>teleworking</td>\n",
       "      <td>27.417640</td>\n",
       "    </tr>\n",
       "    <tr>\n",
       "      <th>8</th>\n",
       "      <td>water</td>\n",
       "      <td>11.988842</td>\n",
       "    </tr>\n",
       "  </tbody>\n",
       "</table>\n",
       "</div>"
      ],
      "text/plain": [
       "       emission_group  quantity_ghg_emissions\n",
       "5           purchases           196245.692597\n",
       "1         electricity            65023.604751\n",
       "4         natural_gas            19540.189737\n",
       "2  employee_commuting             2259.714238\n",
       "3                fuel             1677.763422\n",
       "7               waste             1199.933989\n",
       "0     business_travel              549.470345\n",
       "6         teleworking               27.417640\n",
       "8               water               11.988842"
      ]
     },
     "execution_count": 93,
     "metadata": {},
     "output_type": "execute_result"
    }
   ],
   "source": [
    "(df.groupby('emission_group')['quantity_ghg_emissions'].sum() / 1000).to_frame().reset_index().sort_values(by='quantity_ghg_emissions', ascending=False)"
   ]
  },
  {
   "cell_type": "code",
   "execution_count": 122,
   "metadata": {},
   "outputs": [
    {
     "data": {
      "text/plain": [
       "date                         datetime64[ns]\n",
       "site_location                        object\n",
       "quantity                            float64\n",
       "source_unit                          object\n",
       "conversion                           object\n",
       "quantity_ghg_emissions              float64\n",
       "emissions_unit                       object\n",
       "emission_factor                      object\n",
       "emission_factor_unit                 object\n",
       "source_of_emission_factor            object\n",
       "scope                                 int64\n",
       "category                             object\n",
       "emission_group                       object\n",
       "source_type                          object\n",
       "isic                                 object\n",
       "month                                object\n",
       "dtype: object"
      ]
     },
     "execution_count": 122,
     "metadata": {},
     "output_type": "execute_result"
    }
   ],
   "source": [
    "df['month'] = df.date.dt.to_period('M').astype('str')\n",
    "df.dtypes"
   ]
  },
  {
   "cell_type": "code",
   "execution_count": 44,
   "metadata": {},
   "outputs": [
    {
     "data": {
      "text/plain": [
       "emission_group\n",
       "purchases             196245.692597\n",
       "electricity            65023.604751\n",
       "natural_gas            19540.189737\n",
       "employee_commuting      2259.714238\n",
       "fuel                    1677.763422\n",
       "waste                   1199.933989\n",
       "business_travel          549.470345\n",
       "teleworking               27.417640\n",
       "water                     11.988842\n",
       "Name: quantity_ghg_emissions, dtype: float64"
      ]
     },
     "execution_count": 44,
     "metadata": {},
     "output_type": "execute_result"
    }
   ],
   "source": [
    "(df.groupby('emission_group')['quantity_ghg_emissions'].sum() / 1000).sort_values(ascending=False)"
   ]
  },
  {
   "cell_type": "code",
   "execution_count": 55,
   "metadata": {},
   "outputs": [
    {
     "data": {
      "text/html": [
       "<div>\n",
       "<style scoped>\n",
       "    .dataframe tbody tr th:only-of-type {\n",
       "        vertical-align: middle;\n",
       "    }\n",
       "\n",
       "    .dataframe tbody tr th {\n",
       "        vertical-align: top;\n",
       "    }\n",
       "\n",
       "    .dataframe thead th {\n",
       "        text-align: right;\n",
       "    }\n",
       "</style>\n",
       "<table border=\"1\" class=\"dataframe\">\n",
       "  <thead>\n",
       "    <tr style=\"text-align: right;\">\n",
       "      <th></th>\n",
       "      <th>scope</th>\n",
       "      <th>quantity_ghg_emissions</th>\n",
       "      <th>pc_ghg_emissions</th>\n",
       "    </tr>\n",
       "  </thead>\n",
       "  <tbody>\n",
       "    <tr>\n",
       "      <th>0</th>\n",
       "      <td>3</td>\n",
       "      <td>205666.034920</td>\n",
       "      <td>0.717767</td>\n",
       "    </tr>\n",
       "    <tr>\n",
       "      <th>1</th>\n",
       "      <td>2</td>\n",
       "      <td>62163.946597</td>\n",
       "      <td>0.216950</td>\n",
       "    </tr>\n",
       "    <tr>\n",
       "      <th>2</th>\n",
       "      <td>1</td>\n",
       "      <td>18705.794045</td>\n",
       "      <td>0.065283</td>\n",
       "    </tr>\n",
       "  </tbody>\n",
       "</table>\n",
       "</div>"
      ],
      "text/plain": [
       "   scope  quantity_ghg_emissions  pc_ghg_emissions\n",
       "0      3           205666.034920          0.717767\n",
       "1      2            62163.946597          0.216950\n",
       "2      1            18705.794045          0.065283"
      ]
     },
     "execution_count": 55,
     "metadata": {},
     "output_type": "execute_result"
    }
   ],
   "source": [
    "scope_summary = (df.groupby('scope')['quantity_ghg_emissions'].sum() / 1000).sort_values(ascending=False).to_frame().reset_index()\n",
    "scope_summary['pc_ghg_emissions'] = scope_summary['quantity_ghg_emissions'] / scope_summary['quantity_ghg_emissions'].sum()\n",
    "scope_summary"
   ]
  },
  {
   "cell_type": "code",
   "execution_count": 72,
   "metadata": {},
   "outputs": [
    {
     "data": {
      "application/vnd.plotly.v1+json": {
       "config": {
        "plotlyServerURL": "https://plot.ly"
       },
       "data": [
        {
         "alignmentgroup": "True",
         "hovertemplate": "emission_group=fuel<br>scope=%{x}<br>quantity_ghg_emissions=%{y}<extra></extra>",
         "legendgroup": "fuel",
         "marker": {
          "color": "#636efa"
         },
         "name": "fuel",
         "offsetgroup": "fuel",
         "orientation": "v",
         "showlegend": true,
         "textposition": "auto",
         "type": "bar",
         "x": [
          1,
          3
         ],
         "xaxis": "x",
         "y": [
          1304.4321160461145,
          373.33130629331595
         ],
         "yaxis": "y"
        },
        {
         "alignmentgroup": "True",
         "hovertemplate": "emission_group=natural_gas<br>scope=%{x}<br>quantity_ghg_emissions=%{y}<extra></extra>",
         "legendgroup": "natural_gas",
         "marker": {
          "color": "#EF553B"
         },
         "name": "natural_gas",
         "offsetgroup": "natural_gas",
         "orientation": "v",
         "showlegend": true,
         "textposition": "auto",
         "type": "bar",
         "x": [
          1,
          3
         ],
         "xaxis": "x",
         "y": [
          17291.917894933973,
          2248.271841743412
         ],
         "yaxis": "y"
        },
        {
         "alignmentgroup": "True",
         "hovertemplate": "emission_group=purchases<br>scope=%{x}<br>quantity_ghg_emissions=%{y}<extra></extra>",
         "legendgroup": "purchases",
         "marker": {
          "color": "#00cc96"
         },
         "name": "purchases",
         "offsetgroup": "purchases",
         "orientation": "v",
         "showlegend": true,
         "textposition": "auto",
         "type": "bar",
         "x": [
          1,
          3
         ],
         "xaxis": "x",
         "y": [
          109.44403419453533,
          196136.2485632074
         ],
         "yaxis": "y"
        },
        {
         "alignmentgroup": "True",
         "hovertemplate": "emission_group=electricity<br>scope=%{x}<br>quantity_ghg_emissions=%{y}<extra></extra>",
         "legendgroup": "electricity",
         "marker": {
          "color": "#ab63fa"
         },
         "name": "electricity",
         "offsetgroup": "electricity",
         "orientation": "v",
         "showlegend": true,
         "textposition": "auto",
         "type": "bar",
         "x": [
          2,
          3
         ],
         "xaxis": "x",
         "y": [
          62163.94659706417,
          2859.6581544022174
         ],
         "yaxis": "y"
        },
        {
         "alignmentgroup": "True",
         "hovertemplate": "emission_group=business_travel<br>scope=%{x}<br>quantity_ghg_emissions=%{y}<extra></extra>",
         "legendgroup": "business_travel",
         "marker": {
          "color": "#FFA15A"
         },
         "name": "business_travel",
         "offsetgroup": "business_travel",
         "orientation": "v",
         "showlegend": true,
         "textposition": "auto",
         "type": "bar",
         "x": [
          3
         ],
         "xaxis": "x",
         "y": [
          549.4703452818704
         ],
         "yaxis": "y"
        },
        {
         "alignmentgroup": "True",
         "hovertemplate": "emission_group=employee_commuting<br>scope=%{x}<br>quantity_ghg_emissions=%{y}<extra></extra>",
         "legendgroup": "employee_commuting",
         "marker": {
          "color": "#19d3f3"
         },
         "name": "employee_commuting",
         "offsetgroup": "employee_commuting",
         "orientation": "v",
         "showlegend": true,
         "textposition": "auto",
         "type": "bar",
         "x": [
          3
         ],
         "xaxis": "x",
         "y": [
          2259.7142376491847
         ],
         "yaxis": "y"
        },
        {
         "alignmentgroup": "True",
         "hovertemplate": "emission_group=teleworking<br>scope=%{x}<br>quantity_ghg_emissions=%{y}<extra></extra>",
         "legendgroup": "teleworking",
         "marker": {
          "color": "#FF6692"
         },
         "name": "teleworking",
         "offsetgroup": "teleworking",
         "orientation": "v",
         "showlegend": true,
         "textposition": "auto",
         "type": "bar",
         "x": [
          3
         ],
         "xaxis": "x",
         "y": [
          27.417639766630813
         ],
         "yaxis": "y"
        },
        {
         "alignmentgroup": "True",
         "hovertemplate": "emission_group=waste<br>scope=%{x}<br>quantity_ghg_emissions=%{y}<extra></extra>",
         "legendgroup": "waste",
         "marker": {
          "color": "#B6E880"
         },
         "name": "waste",
         "offsetgroup": "waste",
         "orientation": "v",
         "showlegend": true,
         "textposition": "auto",
         "type": "bar",
         "x": [
          3
         ],
         "xaxis": "x",
         "y": [
          1199.9339894002335
         ],
         "yaxis": "y"
        },
        {
         "alignmentgroup": "True",
         "hovertemplate": "emission_group=water<br>scope=%{x}<br>quantity_ghg_emissions=%{y}<extra></extra>",
         "legendgroup": "water",
         "marker": {
          "color": "#FF97FF"
         },
         "name": "water",
         "offsetgroup": "water",
         "orientation": "v",
         "showlegend": true,
         "textposition": "auto",
         "type": "bar",
         "x": [
          3
         ],
         "xaxis": "x",
         "y": [
          11.988842071592769
         ],
         "yaxis": "y"
        }
       ],
       "layout": {
        "autosize": true,
        "barmode": "relative",
        "legend": {
         "title": {
          "text": "emission_group"
         },
         "tracegroupgap": 0
        },
        "margin": {
         "t": 60
        },
        "template": {
         "data": {
          "bar": [
           {
            "error_x": {
             "color": "#2a3f5f"
            },
            "error_y": {
             "color": "#2a3f5f"
            },
            "marker": {
             "line": {
              "color": "#E5ECF6",
              "width": 0.5
             }
            },
            "type": "bar"
           }
          ],
          "barpolar": [
           {
            "marker": {
             "line": {
              "color": "#E5ECF6",
              "width": 0.5
             }
            },
            "type": "barpolar"
           }
          ],
          "carpet": [
           {
            "aaxis": {
             "endlinecolor": "#2a3f5f",
             "gridcolor": "white",
             "linecolor": "white",
             "minorgridcolor": "white",
             "startlinecolor": "#2a3f5f"
            },
            "baxis": {
             "endlinecolor": "#2a3f5f",
             "gridcolor": "white",
             "linecolor": "white",
             "minorgridcolor": "white",
             "startlinecolor": "#2a3f5f"
            },
            "type": "carpet"
           }
          ],
          "choropleth": [
           {
            "colorbar": {
             "outlinewidth": 0,
             "ticks": ""
            },
            "type": "choropleth"
           }
          ],
          "contour": [
           {
            "colorbar": {
             "outlinewidth": 0,
             "ticks": ""
            },
            "colorscale": [
             [
              0,
              "#0d0887"
             ],
             [
              0.1111111111111111,
              "#46039f"
             ],
             [
              0.2222222222222222,
              "#7201a8"
             ],
             [
              0.3333333333333333,
              "#9c179e"
             ],
             [
              0.4444444444444444,
              "#bd3786"
             ],
             [
              0.5555555555555556,
              "#d8576b"
             ],
             [
              0.6666666666666666,
              "#ed7953"
             ],
             [
              0.7777777777777778,
              "#fb9f3a"
             ],
             [
              0.8888888888888888,
              "#fdca26"
             ],
             [
              1,
              "#f0f921"
             ]
            ],
            "type": "contour"
           }
          ],
          "contourcarpet": [
           {
            "colorbar": {
             "outlinewidth": 0,
             "ticks": ""
            },
            "type": "contourcarpet"
           }
          ],
          "heatmap": [
           {
            "colorbar": {
             "outlinewidth": 0,
             "ticks": ""
            },
            "colorscale": [
             [
              0,
              "#0d0887"
             ],
             [
              0.1111111111111111,
              "#46039f"
             ],
             [
              0.2222222222222222,
              "#7201a8"
             ],
             [
              0.3333333333333333,
              "#9c179e"
             ],
             [
              0.4444444444444444,
              "#bd3786"
             ],
             [
              0.5555555555555556,
              "#d8576b"
             ],
             [
              0.6666666666666666,
              "#ed7953"
             ],
             [
              0.7777777777777778,
              "#fb9f3a"
             ],
             [
              0.8888888888888888,
              "#fdca26"
             ],
             [
              1,
              "#f0f921"
             ]
            ],
            "type": "heatmap"
           }
          ],
          "heatmapgl": [
           {
            "colorbar": {
             "outlinewidth": 0,
             "ticks": ""
            },
            "colorscale": [
             [
              0,
              "#0d0887"
             ],
             [
              0.1111111111111111,
              "#46039f"
             ],
             [
              0.2222222222222222,
              "#7201a8"
             ],
             [
              0.3333333333333333,
              "#9c179e"
             ],
             [
              0.4444444444444444,
              "#bd3786"
             ],
             [
              0.5555555555555556,
              "#d8576b"
             ],
             [
              0.6666666666666666,
              "#ed7953"
             ],
             [
              0.7777777777777778,
              "#fb9f3a"
             ],
             [
              0.8888888888888888,
              "#fdca26"
             ],
             [
              1,
              "#f0f921"
             ]
            ],
            "type": "heatmapgl"
           }
          ],
          "histogram": [
           {
            "marker": {
             "colorbar": {
              "outlinewidth": 0,
              "ticks": ""
             }
            },
            "type": "histogram"
           }
          ],
          "histogram2d": [
           {
            "colorbar": {
             "outlinewidth": 0,
             "ticks": ""
            },
            "colorscale": [
             [
              0,
              "#0d0887"
             ],
             [
              0.1111111111111111,
              "#46039f"
             ],
             [
              0.2222222222222222,
              "#7201a8"
             ],
             [
              0.3333333333333333,
              "#9c179e"
             ],
             [
              0.4444444444444444,
              "#bd3786"
             ],
             [
              0.5555555555555556,
              "#d8576b"
             ],
             [
              0.6666666666666666,
              "#ed7953"
             ],
             [
              0.7777777777777778,
              "#fb9f3a"
             ],
             [
              0.8888888888888888,
              "#fdca26"
             ],
             [
              1,
              "#f0f921"
             ]
            ],
            "type": "histogram2d"
           }
          ],
          "histogram2dcontour": [
           {
            "colorbar": {
             "outlinewidth": 0,
             "ticks": ""
            },
            "colorscale": [
             [
              0,
              "#0d0887"
             ],
             [
              0.1111111111111111,
              "#46039f"
             ],
             [
              0.2222222222222222,
              "#7201a8"
             ],
             [
              0.3333333333333333,
              "#9c179e"
             ],
             [
              0.4444444444444444,
              "#bd3786"
             ],
             [
              0.5555555555555556,
              "#d8576b"
             ],
             [
              0.6666666666666666,
              "#ed7953"
             ],
             [
              0.7777777777777778,
              "#fb9f3a"
             ],
             [
              0.8888888888888888,
              "#fdca26"
             ],
             [
              1,
              "#f0f921"
             ]
            ],
            "type": "histogram2dcontour"
           }
          ],
          "mesh3d": [
           {
            "colorbar": {
             "outlinewidth": 0,
             "ticks": ""
            },
            "type": "mesh3d"
           }
          ],
          "parcoords": [
           {
            "line": {
             "colorbar": {
              "outlinewidth": 0,
              "ticks": ""
             }
            },
            "type": "parcoords"
           }
          ],
          "pie": [
           {
            "automargin": true,
            "type": "pie"
           }
          ],
          "scatter": [
           {
            "marker": {
             "colorbar": {
              "outlinewidth": 0,
              "ticks": ""
             }
            },
            "type": "scatter"
           }
          ],
          "scatter3d": [
           {
            "line": {
             "colorbar": {
              "outlinewidth": 0,
              "ticks": ""
             }
            },
            "marker": {
             "colorbar": {
              "outlinewidth": 0,
              "ticks": ""
             }
            },
            "type": "scatter3d"
           }
          ],
          "scattercarpet": [
           {
            "marker": {
             "colorbar": {
              "outlinewidth": 0,
              "ticks": ""
             }
            },
            "type": "scattercarpet"
           }
          ],
          "scattergeo": [
           {
            "marker": {
             "colorbar": {
              "outlinewidth": 0,
              "ticks": ""
             }
            },
            "type": "scattergeo"
           }
          ],
          "scattergl": [
           {
            "marker": {
             "colorbar": {
              "outlinewidth": 0,
              "ticks": ""
             }
            },
            "type": "scattergl"
           }
          ],
          "scattermapbox": [
           {
            "marker": {
             "colorbar": {
              "outlinewidth": 0,
              "ticks": ""
             }
            },
            "type": "scattermapbox"
           }
          ],
          "scatterpolar": [
           {
            "marker": {
             "colorbar": {
              "outlinewidth": 0,
              "ticks": ""
             }
            },
            "type": "scatterpolar"
           }
          ],
          "scatterpolargl": [
           {
            "marker": {
             "colorbar": {
              "outlinewidth": 0,
              "ticks": ""
             }
            },
            "type": "scatterpolargl"
           }
          ],
          "scatterternary": [
           {
            "marker": {
             "colorbar": {
              "outlinewidth": 0,
              "ticks": ""
             }
            },
            "type": "scatterternary"
           }
          ],
          "surface": [
           {
            "colorbar": {
             "outlinewidth": 0,
             "ticks": ""
            },
            "colorscale": [
             [
              0,
              "#0d0887"
             ],
             [
              0.1111111111111111,
              "#46039f"
             ],
             [
              0.2222222222222222,
              "#7201a8"
             ],
             [
              0.3333333333333333,
              "#9c179e"
             ],
             [
              0.4444444444444444,
              "#bd3786"
             ],
             [
              0.5555555555555556,
              "#d8576b"
             ],
             [
              0.6666666666666666,
              "#ed7953"
             ],
             [
              0.7777777777777778,
              "#fb9f3a"
             ],
             [
              0.8888888888888888,
              "#fdca26"
             ],
             [
              1,
              "#f0f921"
             ]
            ],
            "type": "surface"
           }
          ],
          "table": [
           {
            "cells": {
             "fill": {
              "color": "#EBF0F8"
             },
             "line": {
              "color": "white"
             }
            },
            "header": {
             "fill": {
              "color": "#C8D4E3"
             },
             "line": {
              "color": "white"
             }
            },
            "type": "table"
           }
          ]
         },
         "layout": {
          "annotationdefaults": {
           "arrowcolor": "#2a3f5f",
           "arrowhead": 0,
           "arrowwidth": 1
          },
          "coloraxis": {
           "colorbar": {
            "outlinewidth": 0,
            "ticks": ""
           }
          },
          "colorscale": {
           "diverging": [
            [
             0,
             "#8e0152"
            ],
            [
             0.1,
             "#c51b7d"
            ],
            [
             0.2,
             "#de77ae"
            ],
            [
             0.3,
             "#f1b6da"
            ],
            [
             0.4,
             "#fde0ef"
            ],
            [
             0.5,
             "#f7f7f7"
            ],
            [
             0.6,
             "#e6f5d0"
            ],
            [
             0.7,
             "#b8e186"
            ],
            [
             0.8,
             "#7fbc41"
            ],
            [
             0.9,
             "#4d9221"
            ],
            [
             1,
             "#276419"
            ]
           ],
           "sequential": [
            [
             0,
             "#0d0887"
            ],
            [
             0.1111111111111111,
             "#46039f"
            ],
            [
             0.2222222222222222,
             "#7201a8"
            ],
            [
             0.3333333333333333,
             "#9c179e"
            ],
            [
             0.4444444444444444,
             "#bd3786"
            ],
            [
             0.5555555555555556,
             "#d8576b"
            ],
            [
             0.6666666666666666,
             "#ed7953"
            ],
            [
             0.7777777777777778,
             "#fb9f3a"
            ],
            [
             0.8888888888888888,
             "#fdca26"
            ],
            [
             1,
             "#f0f921"
            ]
           ],
           "sequentialminus": [
            [
             0,
             "#0d0887"
            ],
            [
             0.1111111111111111,
             "#46039f"
            ],
            [
             0.2222222222222222,
             "#7201a8"
            ],
            [
             0.3333333333333333,
             "#9c179e"
            ],
            [
             0.4444444444444444,
             "#bd3786"
            ],
            [
             0.5555555555555556,
             "#d8576b"
            ],
            [
             0.6666666666666666,
             "#ed7953"
            ],
            [
             0.7777777777777778,
             "#fb9f3a"
            ],
            [
             0.8888888888888888,
             "#fdca26"
            ],
            [
             1,
             "#f0f921"
            ]
           ]
          },
          "colorway": [
           "#636efa",
           "#EF553B",
           "#00cc96",
           "#ab63fa",
           "#FFA15A",
           "#19d3f3",
           "#FF6692",
           "#B6E880",
           "#FF97FF",
           "#FECB52"
          ],
          "font": {
           "color": "#2a3f5f"
          },
          "geo": {
           "bgcolor": "white",
           "lakecolor": "white",
           "landcolor": "#E5ECF6",
           "showlakes": true,
           "showland": true,
           "subunitcolor": "white"
          },
          "hoverlabel": {
           "align": "left"
          },
          "hovermode": "closest",
          "mapbox": {
           "style": "light"
          },
          "paper_bgcolor": "white",
          "plot_bgcolor": "#E5ECF6",
          "polar": {
           "angularaxis": {
            "gridcolor": "white",
            "linecolor": "white",
            "ticks": ""
           },
           "bgcolor": "#E5ECF6",
           "radialaxis": {
            "gridcolor": "white",
            "linecolor": "white",
            "ticks": ""
           }
          },
          "scene": {
           "xaxis": {
            "backgroundcolor": "#E5ECF6",
            "gridcolor": "white",
            "gridwidth": 2,
            "linecolor": "white",
            "showbackground": true,
            "ticks": "",
            "zerolinecolor": "white"
           },
           "yaxis": {
            "backgroundcolor": "#E5ECF6",
            "gridcolor": "white",
            "gridwidth": 2,
            "linecolor": "white",
            "showbackground": true,
            "ticks": "",
            "zerolinecolor": "white"
           },
           "zaxis": {
            "backgroundcolor": "#E5ECF6",
            "gridcolor": "white",
            "gridwidth": 2,
            "linecolor": "white",
            "showbackground": true,
            "ticks": "",
            "zerolinecolor": "white"
           }
          },
          "shapedefaults": {
           "line": {
            "color": "#2a3f5f"
           }
          },
          "ternary": {
           "aaxis": {
            "gridcolor": "white",
            "linecolor": "white",
            "ticks": ""
           },
           "baxis": {
            "gridcolor": "white",
            "linecolor": "white",
            "ticks": ""
           },
           "bgcolor": "#E5ECF6",
           "caxis": {
            "gridcolor": "white",
            "linecolor": "white",
            "ticks": ""
           }
          },
          "title": {
           "x": 0.05
          },
          "xaxis": {
           "automargin": true,
           "gridcolor": "white",
           "linecolor": "white",
           "ticks": "",
           "title": {
            "standoff": 15
           },
           "zerolinecolor": "white",
           "zerolinewidth": 2
          },
          "yaxis": {
           "automargin": true,
           "gridcolor": "white",
           "linecolor": "white",
           "ticks": "",
           "title": {
            "standoff": 15
           },
           "zerolinecolor": "white",
           "zerolinewidth": 2
          }
         }
        },
        "xaxis": {
         "anchor": "y",
         "autorange": true,
         "domain": [
          0,
          1
         ],
         "range": [
          0.5,
          3.5
         ],
         "title": {
          "text": "scope"
         },
         "type": "linear"
        },
        "yaxis": {
         "anchor": "x",
         "autorange": true,
         "domain": [
          0,
          1
         ],
         "range": [
          0,
          216490.56307349043
         ],
         "title": {
          "text": "quantity_ghg_emissions"
         },
         "type": "linear"
        }
       }
      },
      "image/png": "[encoded data removed]",
      "text/html": [
       "<div>\n",
       "        \n",
       "        \n",
       "            <div id=\"8cada5b8-83a4-44fd-a0c5-b45fe772deb6\" class=\"plotly-graph-div\" style=\"height:525px; width:100%;\"></div>\n",
       "            <script type=\"text/javascript\">\n",
       "                require([\"plotly\"], function(Plotly) {\n",
       "                    window.PLOTLYENV=window.PLOTLYENV || {};\n",
       "                    \n",
       "                if (document.getElementById(\"8cada5b8-83a4-44fd-a0c5-b45fe772deb6\")) {\n",
       "                    Plotly.newPlot(\n",
       "                        '8cada5b8-83a4-44fd-a0c5-b45fe772deb6',\n",
       "                        [{\"alignmentgroup\": \"True\", \"hovertemplate\": \"emission_group=fuel<br>scope=%{x}<br>quantity_ghg_emissions=%{y}<extra></extra>\", \"legendgroup\": \"fuel\", \"marker\": {\"color\": \"#636efa\"}, \"name\": \"fuel\", \"offsetgroup\": \"fuel\", \"orientation\": \"v\", \"showlegend\": true, \"textposition\": \"auto\", \"type\": \"bar\", \"x\": [1, 3], \"xaxis\": \"x\", \"y\": [1304.4321160461145, 373.33130629331595], \"yaxis\": \"y\"}, {\"alignmentgroup\": \"True\", \"hovertemplate\": \"emission_group=natural_gas<br>scope=%{x}<br>quantity_ghg_emissions=%{y}<extra></extra>\", \"legendgroup\": \"natural_gas\", \"marker\": {\"color\": \"#EF553B\"}, \"name\": \"natural_gas\", \"offsetgroup\": \"natural_gas\", \"orientation\": \"v\", \"showlegend\": true, \"textposition\": \"auto\", \"type\": \"bar\", \"x\": [1, 3], \"xaxis\": \"x\", \"y\": [17291.917894933973, 2248.271841743412], \"yaxis\": \"y\"}, {\"alignmentgroup\": \"True\", \"hovertemplate\": \"emission_group=purchases<br>scope=%{x}<br>quantity_ghg_emissions=%{y}<extra></extra>\", \"legendgroup\": \"purchases\", \"marker\": {\"color\": \"#00cc96\"}, \"name\": \"purchases\", \"offsetgroup\": \"purchases\", \"orientation\": \"v\", \"showlegend\": true, \"textposition\": \"auto\", \"type\": \"bar\", \"x\": [1, 3], \"xaxis\": \"x\", \"y\": [109.44403419453533, 196136.2485632074], \"yaxis\": \"y\"}, {\"alignmentgroup\": \"True\", \"hovertemplate\": \"emission_group=electricity<br>scope=%{x}<br>quantity_ghg_emissions=%{y}<extra></extra>\", \"legendgroup\": \"electricity\", \"marker\": {\"color\": \"#ab63fa\"}, \"name\": \"electricity\", \"offsetgroup\": \"electricity\", \"orientation\": \"v\", \"showlegend\": true, \"textposition\": \"auto\", \"type\": \"bar\", \"x\": [2, 3], \"xaxis\": \"x\", \"y\": [62163.94659706417, 2859.6581544022174], \"yaxis\": \"y\"}, {\"alignmentgroup\": \"True\", \"hovertemplate\": \"emission_group=business_travel<br>scope=%{x}<br>quantity_ghg_emissions=%{y}<extra></extra>\", \"legendgroup\": \"business_travel\", \"marker\": {\"color\": \"#FFA15A\"}, \"name\": \"business_travel\", \"offsetgroup\": \"business_travel\", \"orientation\": \"v\", \"showlegend\": true, \"textposition\": \"auto\", \"type\": \"bar\", \"x\": [3], \"xaxis\": \"x\", \"y\": [549.4703452818704], \"yaxis\": \"y\"}, {\"alignmentgroup\": \"True\", \"hovertemplate\": \"emission_group=employee_commuting<br>scope=%{x}<br>quantity_ghg_emissions=%{y}<extra></extra>\", \"legendgroup\": \"employee_commuting\", \"marker\": {\"color\": \"#19d3f3\"}, \"name\": \"employee_commuting\", \"offsetgroup\": \"employee_commuting\", \"orientation\": \"v\", \"showlegend\": true, \"textposition\": \"auto\", \"type\": \"bar\", \"x\": [3], \"xaxis\": \"x\", \"y\": [2259.7142376491847], \"yaxis\": \"y\"}, {\"alignmentgroup\": \"True\", \"hovertemplate\": \"emission_group=teleworking<br>scope=%{x}<br>quantity_ghg_emissions=%{y}<extra></extra>\", \"legendgroup\": \"teleworking\", \"marker\": {\"color\": \"#FF6692\"}, \"name\": \"teleworking\", \"offsetgroup\": \"teleworking\", \"orientation\": \"v\", \"showlegend\": true, \"textposition\": \"auto\", \"type\": \"bar\", \"x\": [3], \"xaxis\": \"x\", \"y\": [27.417639766630813], \"yaxis\": \"y\"}, {\"alignmentgroup\": \"True\", \"hovertemplate\": \"emission_group=waste<br>scope=%{x}<br>quantity_ghg_emissions=%{y}<extra></extra>\", \"legendgroup\": \"waste\", \"marker\": {\"color\": \"#B6E880\"}, \"name\": \"waste\", \"offsetgroup\": \"waste\", \"orientation\": \"v\", \"showlegend\": true, \"textposition\": \"auto\", \"type\": \"bar\", \"x\": [3], \"xaxis\": \"x\", \"y\": [1199.9339894002335], \"yaxis\": \"y\"}, {\"alignmentgroup\": \"True\", \"hovertemplate\": \"emission_group=water<br>scope=%{x}<br>quantity_ghg_emissions=%{y}<extra></extra>\", \"legendgroup\": \"water\", \"marker\": {\"color\": \"#FF97FF\"}, \"name\": \"water\", \"offsetgroup\": \"water\", \"orientation\": \"v\", \"showlegend\": true, \"textposition\": \"auto\", \"type\": \"bar\", \"x\": [3], \"xaxis\": \"x\", \"y\": [11.988842071592769], \"yaxis\": \"y\"}],\n",
       "                        {\"barmode\": \"relative\", \"legend\": {\"title\": {\"text\": \"emission_group\"}, \"tracegroupgap\": 0}, \"margin\": {\"t\": 60}, \"template\": {\"data\": {\"bar\": [{\"error_x\": {\"color\": \"#2a3f5f\"}, \"error_y\": {\"color\": \"#2a3f5f\"}, \"marker\": {\"line\": {\"color\": \"#E5ECF6\", \"width\": 0.5}}, \"type\": \"bar\"}], \"barpolar\": [{\"marker\": {\"line\": {\"color\": \"#E5ECF6\", \"width\": 0.5}}, \"type\": \"barpolar\"}], \"carpet\": [{\"aaxis\": {\"endlinecolor\": \"#2a3f5f\", \"gridcolor\": \"white\", \"linecolor\": \"white\", \"minorgridcolor\": \"white\", \"startlinecolor\": \"#2a3f5f\"}, \"baxis\": {\"endlinecolor\": \"#2a3f5f\", \"gridcolor\": \"white\", \"linecolor\": \"white\", \"minorgridcolor\": \"white\", \"startlinecolor\": \"#2a3f5f\"}, \"type\": \"carpet\"}], \"choropleth\": [{\"colorbar\": {\"outlinewidth\": 0, \"ticks\": \"\"}, \"type\": \"choropleth\"}], \"contour\": [{\"colorbar\": {\"outlinewidth\": 0, \"ticks\": \"\"}, \"colorscale\": [[0.0, \"#0d0887\"], [0.1111111111111111, \"#46039f\"], [0.2222222222222222, \"#7201a8\"], [0.3333333333333333, \"#9c179e\"], [0.4444444444444444, \"#bd3786\"], [0.5555555555555556, \"#d8576b\"], [0.6666666666666666, \"#ed7953\"], [0.7777777777777778, \"#fb9f3a\"], [0.8888888888888888, \"#fdca26\"], [1.0, \"#f0f921\"]], \"type\": \"contour\"}], \"contourcarpet\": [{\"colorbar\": {\"outlinewidth\": 0, \"ticks\": \"\"}, \"type\": \"contourcarpet\"}], \"heatmap\": [{\"colorbar\": {\"outlinewidth\": 0, \"ticks\": \"\"}, \"colorscale\": [[0.0, \"#0d0887\"], [0.1111111111111111, \"#46039f\"], [0.2222222222222222, \"#7201a8\"], [0.3333333333333333, \"#9c179e\"], [0.4444444444444444, \"#bd3786\"], [0.5555555555555556, \"#d8576b\"], [0.6666666666666666, \"#ed7953\"], [0.7777777777777778, \"#fb9f3a\"], [0.8888888888888888, \"#fdca26\"], [1.0, \"#f0f921\"]], \"type\": \"heatmap\"}], \"heatmapgl\": [{\"colorbar\": {\"outlinewidth\": 0, \"ticks\": \"\"}, \"colorscale\": [[0.0, \"#0d0887\"], [0.1111111111111111, \"#46039f\"], [0.2222222222222222, \"#7201a8\"], [0.3333333333333333, \"#9c179e\"], [0.4444444444444444, \"#bd3786\"], [0.5555555555555556, \"#d8576b\"], [0.6666666666666666, \"#ed7953\"], [0.7777777777777778, \"#fb9f3a\"], [0.8888888888888888, \"#fdca26\"], [1.0, \"#f0f921\"]], \"type\": \"heatmapgl\"}], \"histogram\": [{\"marker\": {\"colorbar\": {\"outlinewidth\": 0, \"ticks\": \"\"}}, \"type\": \"histogram\"}], \"histogram2d\": [{\"colorbar\": {\"outlinewidth\": 0, \"ticks\": \"\"}, \"colorscale\": [[0.0, \"#0d0887\"], [0.1111111111111111, \"#46039f\"], [0.2222222222222222, \"#7201a8\"], [0.3333333333333333, \"#9c179e\"], [0.4444444444444444, \"#bd3786\"], [0.5555555555555556, \"#d8576b\"], [0.6666666666666666, \"#ed7953\"], [0.7777777777777778, \"#fb9f3a\"], [0.8888888888888888, \"#fdca26\"], [1.0, \"#f0f921\"]], \"type\": \"histogram2d\"}], \"histogram2dcontour\": [{\"colorbar\": {\"outlinewidth\": 0, \"ticks\": \"\"}, \"colorscale\": [[0.0, \"#0d0887\"], [0.1111111111111111, \"#46039f\"], [0.2222222222222222, \"#7201a8\"], [0.3333333333333333, \"#9c179e\"], [0.4444444444444444, \"#bd3786\"], [0.5555555555555556, \"#d8576b\"], [0.6666666666666666, \"#ed7953\"], [0.7777777777777778, \"#fb9f3a\"], [0.8888888888888888, \"#fdca26\"], [1.0, \"#f0f921\"]], \"type\": \"histogram2dcontour\"}], \"mesh3d\": [{\"colorbar\": {\"outlinewidth\": 0, \"ticks\": \"\"}, \"type\": \"mesh3d\"}], \"parcoords\": [{\"line\": {\"colorbar\": {\"outlinewidth\": 0, \"ticks\": \"\"}}, \"type\": \"parcoords\"}], \"pie\": [{\"automargin\": true, \"type\": \"pie\"}], \"scatter\": [{\"marker\": {\"colorbar\": {\"outlinewidth\": 0, \"ticks\": \"\"}}, \"type\": \"scatter\"}], \"scatter3d\": [{\"line\": {\"colorbar\": {\"outlinewidth\": 0, \"ticks\": \"\"}}, \"marker\": {\"colorbar\": {\"outlinewidth\": 0, \"ticks\": \"\"}}, \"type\": \"scatter3d\"}], \"scattercarpet\": [{\"marker\": {\"colorbar\": {\"outlinewidth\": 0, \"ticks\": \"\"}}, \"type\": \"scattercarpet\"}], \"scattergeo\": [{\"marker\": {\"colorbar\": {\"outlinewidth\": 0, \"ticks\": \"\"}}, \"type\": \"scattergeo\"}], \"scattergl\": [{\"marker\": {\"colorbar\": {\"outlinewidth\": 0, \"ticks\": \"\"}}, \"type\": \"scattergl\"}], \"scattermapbox\": [{\"marker\": {\"colorbar\": {\"outlinewidth\": 0, \"ticks\": \"\"}}, \"type\": \"scattermapbox\"}], \"scatterpolar\": [{\"marker\": {\"colorbar\": {\"outlinewidth\": 0, \"ticks\": \"\"}}, \"type\": \"scatterpolar\"}], \"scatterpolargl\": [{\"marker\": {\"colorbar\": {\"outlinewidth\": 0, \"ticks\": \"\"}}, \"type\": \"scatterpolargl\"}], \"scatterternary\": [{\"marker\": {\"colorbar\": {\"outlinewidth\": 0, \"ticks\": \"\"}}, \"type\": \"scatterternary\"}], \"surface\": [{\"colorbar\": {\"outlinewidth\": 0, \"ticks\": \"\"}, \"colorscale\": [[0.0, \"#0d0887\"], [0.1111111111111111, \"#46039f\"], [0.2222222222222222, \"#7201a8\"], [0.3333333333333333, \"#9c179e\"], [0.4444444444444444, \"#bd3786\"], [0.5555555555555556, \"#d8576b\"], [0.6666666666666666, \"#ed7953\"], [0.7777777777777778, \"#fb9f3a\"], [0.8888888888888888, \"#fdca26\"], [1.0, \"#f0f921\"]], \"type\": \"surface\"}], \"table\": [{\"cells\": {\"fill\": {\"color\": \"#EBF0F8\"}, \"line\": {\"color\": \"white\"}}, \"header\": {\"fill\": {\"color\": \"#C8D4E3\"}, \"line\": {\"color\": \"white\"}}, \"type\": \"table\"}]}, \"layout\": {\"annotationdefaults\": {\"arrowcolor\": \"#2a3f5f\", \"arrowhead\": 0, \"arrowwidth\": 1}, \"coloraxis\": {\"colorbar\": {\"outlinewidth\": 0, \"ticks\": \"\"}}, \"colorscale\": {\"diverging\": [[0, \"#8e0152\"], [0.1, \"#c51b7d\"], [0.2, \"#de77ae\"], [0.3, \"#f1b6da\"], [0.4, \"#fde0ef\"], [0.5, \"#f7f7f7\"], [0.6, \"#e6f5d0\"], [0.7, \"#b8e186\"], [0.8, \"#7fbc41\"], [0.9, \"#4d9221\"], [1, \"#276419\"]], \"sequential\": [[0.0, \"#0d0887\"], [0.1111111111111111, \"#46039f\"], [0.2222222222222222, \"#7201a8\"], [0.3333333333333333, \"#9c179e\"], [0.4444444444444444, \"#bd3786\"], [0.5555555555555556, \"#d8576b\"], [0.6666666666666666, \"#ed7953\"], [0.7777777777777778, \"#fb9f3a\"], [0.8888888888888888, \"#fdca26\"], [1.0, \"#f0f921\"]], \"sequentialminus\": [[0.0, \"#0d0887\"], [0.1111111111111111, \"#46039f\"], [0.2222222222222222, \"#7201a8\"], [0.3333333333333333, \"#9c179e\"], [0.4444444444444444, \"#bd3786\"], [0.5555555555555556, \"#d8576b\"], [0.6666666666666666, \"#ed7953\"], [0.7777777777777778, \"#fb9f3a\"], [0.8888888888888888, \"#fdca26\"], [1.0, \"#f0f921\"]]}, \"colorway\": [\"#636efa\", \"#EF553B\", \"#00cc96\", \"#ab63fa\", \"#FFA15A\", \"#19d3f3\", \"#FF6692\", \"#B6E880\", \"#FF97FF\", \"#FECB52\"], \"font\": {\"color\": \"#2a3f5f\"}, \"geo\": {\"bgcolor\": \"white\", \"lakecolor\": \"white\", \"landcolor\": \"#E5ECF6\", \"showlakes\": true, \"showland\": true, \"subunitcolor\": \"white\"}, \"hoverlabel\": {\"align\": \"left\"}, \"hovermode\": \"closest\", \"mapbox\": {\"style\": \"light\"}, \"paper_bgcolor\": \"white\", \"plot_bgcolor\": \"#E5ECF6\", \"polar\": {\"angularaxis\": {\"gridcolor\": \"white\", \"linecolor\": \"white\", \"ticks\": \"\"}, \"bgcolor\": \"#E5ECF6\", \"radialaxis\": {\"gridcolor\": \"white\", \"linecolor\": \"white\", \"ticks\": \"\"}}, \"scene\": {\"xaxis\": {\"backgroundcolor\": \"#E5ECF6\", \"gridcolor\": \"white\", \"gridwidth\": 2, \"linecolor\": \"white\", \"showbackground\": true, \"ticks\": \"\", \"zerolinecolor\": \"white\"}, \"yaxis\": {\"backgroundcolor\": \"#E5ECF6\", \"gridcolor\": \"white\", \"gridwidth\": 2, \"linecolor\": \"white\", \"showbackground\": true, \"ticks\": \"\", \"zerolinecolor\": \"white\"}, \"zaxis\": {\"backgroundcolor\": \"#E5ECF6\", \"gridcolor\": \"white\", \"gridwidth\": 2, \"linecolor\": \"white\", \"showbackground\": true, \"ticks\": \"\", \"zerolinecolor\": \"white\"}}, \"shapedefaults\": {\"line\": {\"color\": \"#2a3f5f\"}}, \"ternary\": {\"aaxis\": {\"gridcolor\": \"white\", \"linecolor\": \"white\", \"ticks\": \"\"}, \"baxis\": {\"gridcolor\": \"white\", \"linecolor\": \"white\", \"ticks\": \"\"}, \"bgcolor\": \"#E5ECF6\", \"caxis\": {\"gridcolor\": \"white\", \"linecolor\": \"white\", \"ticks\": \"\"}}, \"title\": {\"x\": 0.05}, \"xaxis\": {\"automargin\": true, \"gridcolor\": \"white\", \"linecolor\": \"white\", \"ticks\": \"\", \"title\": {\"standoff\": 15}, \"zerolinecolor\": \"white\", \"zerolinewidth\": 2}, \"yaxis\": {\"automargin\": true, \"gridcolor\": \"white\", \"linecolor\": \"white\", \"ticks\": \"\", \"title\": {\"standoff\": 15}, \"zerolinecolor\": \"white\", \"zerolinewidth\": 2}}}, \"xaxis\": {\"anchor\": \"y\", \"domain\": [0.0, 1.0], \"title\": {\"text\": \"scope\"}}, \"yaxis\": {\"anchor\": \"x\", \"domain\": [0.0, 1.0], \"title\": {\"text\": \"quantity_ghg_emissions\"}}},\n",
       "                        {\"responsive\": true}\n",
       "                    ).then(function(){\n",
       "                            \n",
       "var gd = document.getElementById('8cada5b8-83a4-44fd-a0c5-b45fe772deb6');\n",
       "var x = new MutationObserver(function (mutations, observer) {{\n",
       "        var display = window.getComputedStyle(gd).display;\n",
       "        if (!display || display === 'none') {{\n",
       "            console.log([gd, 'removed!']);\n",
       "            Plotly.purge(gd);\n",
       "            observer.disconnect();\n",
       "        }}\n",
       "}});\n",
       "\n",
       "// Listen for the removal of the full notebook cells\n",
       "var notebookContainer = gd.closest('#notebook-container');\n",
       "if (notebookContainer) {{\n",
       "    x.observe(notebookContainer, {childList: true});\n",
       "}}\n",
       "\n",
       "// Listen for the clearing of the current output cell\n",
       "var outputEl = gd.closest('.output');\n",
       "if (outputEl) {{\n",
       "    x.observe(outputEl, {childList: true});\n",
       "}}\n",
       "\n",
       "                        })\n",
       "                };\n",
       "                });\n",
       "            </script>\n",
       "        </div>"
      ]
     },
     "metadata": {},
     "output_type": "display_data"
    }
   ],
   "source": [
    "emissions_ts = (df.groupby(['scope', 'emission_group'])['quantity_ghg_emissions'].sum() / 1000).to_frame().reset_index()\n",
    "px.bar(emissions_ts, x='scope', y='quantity_ghg_emissions', color='emission_group')"
   ]
  },
  {
   "cell_type": "code",
   "execution_count": 79,
   "metadata": {},
   "outputs": [
    {
     "data": {
      "text/html": [
       "<div>\n",
       "<style scoped>\n",
       "    .dataframe tbody tr th:only-of-type {\n",
       "        vertical-align: middle;\n",
       "    }\n",
       "\n",
       "    .dataframe tbody tr th {\n",
       "        vertical-align: top;\n",
       "    }\n",
       "\n",
       "    .dataframe thead th {\n",
       "        text-align: right;\n",
       "    }\n",
       "</style>\n",
       "<table border=\"1\" class=\"dataframe\">\n",
       "  <thead>\n",
       "    <tr style=\"text-align: right;\">\n",
       "      <th></th>\n",
       "      <th>date</th>\n",
       "      <th>site_location</th>\n",
       "      <th>quantity</th>\n",
       "      <th>source_unit</th>\n",
       "      <th>conversion</th>\n",
       "      <th>quantity_ghg_emissions</th>\n",
       "      <th>emissions_unit</th>\n",
       "      <th>emission_factor</th>\n",
       "      <th>emission_factor_unit</th>\n",
       "      <th>source_of_emission_factor</th>\n",
       "      <th>scope</th>\n",
       "      <th>category</th>\n",
       "      <th>emission_group</th>\n",
       "      <th>source_type</th>\n",
       "      <th>isic</th>\n",
       "      <th>month</th>\n",
       "    </tr>\n",
       "  </thead>\n",
       "  <tbody>\n",
       "    <tr>\n",
       "      <th>168</th>\n",
       "      <td>2019-01-01</td>\n",
       "      <td>Rouen</td>\n",
       "      <td>12919.870968</td>\n",
       "      <td>Kwh</td>\n",
       "      <td>NaN</td>\n",
       "      <td>8125.292532</td>\n",
       "      <td>Kgco2e</td>\n",
       "      <td>Market for electricity, medium voltage</td>\n",
       "      <td>Kwh</td>\n",
       "      <td>Ecoinvent</td>\n",
       "      <td>2</td>\n",
       "      <td>Purchased electricity</td>\n",
       "      <td>electricity</td>\n",
       "      <td>NaN</td>\n",
       "      <td>NaN</td>\n",
       "      <td>2019-01</td>\n",
       "    </tr>\n",
       "    <tr>\n",
       "      <th>169</th>\n",
       "      <td>2019-01-01</td>\n",
       "      <td>Rouen</td>\n",
       "      <td>12919.870968</td>\n",
       "      <td>Kwh</td>\n",
       "      <td>NaN</td>\n",
       "      <td>26.622946</td>\n",
       "      <td>Kgco2e</td>\n",
       "      <td>Market for electricity, medium voltage</td>\n",
       "      <td>Kwh</td>\n",
       "      <td>Ecoinvent</td>\n",
       "      <td>3</td>\n",
       "      <td>Fuel and energy related services</td>\n",
       "      <td>electricity</td>\n",
       "      <td>NaN</td>\n",
       "      <td>NaN</td>\n",
       "      <td>2019-01</td>\n",
       "    </tr>\n",
       "    <tr>\n",
       "      <th>170</th>\n",
       "      <td>2019-01-01</td>\n",
       "      <td>Kansas City, ms</td>\n",
       "      <td>30377.000000</td>\n",
       "      <td>Kwh</td>\n",
       "      <td>NaN</td>\n",
       "      <td>13396.275516</td>\n",
       "      <td>Kgco2e</td>\n",
       "      <td>Egrid 2018 for us state: az</td>\n",
       "      <td>Kwh</td>\n",
       "      <td>Egrid</td>\n",
       "      <td>2</td>\n",
       "      <td>Purchased electricity</td>\n",
       "      <td>electricity</td>\n",
       "      <td>NaN</td>\n",
       "      <td>NaN</td>\n",
       "      <td>2019-01</td>\n",
       "    </tr>\n",
       "    <tr>\n",
       "      <th>171</th>\n",
       "      <td>2019-01-01</td>\n",
       "      <td>Kansas City, ms</td>\n",
       "      <td>30377.000000</td>\n",
       "      <td>Kwh</td>\n",
       "      <td>NaN</td>\n",
       "      <td>643.021225</td>\n",
       "      <td>Kgco2e</td>\n",
       "      <td>Egrid 2018 for us state: az</td>\n",
       "      <td>Kwh</td>\n",
       "      <td>Egrid</td>\n",
       "      <td>3</td>\n",
       "      <td>Fuel and energy related services</td>\n",
       "      <td>electricity</td>\n",
       "      <td>NaN</td>\n",
       "      <td>NaN</td>\n",
       "      <td>2019-01</td>\n",
       "    </tr>\n",
       "    <tr>\n",
       "      <th>172</th>\n",
       "      <td>2019-01-01</td>\n",
       "      <td>Elkhorn, wi</td>\n",
       "      <td>24000.000000</td>\n",
       "      <td>Kwh</td>\n",
       "      <td>NaN</td>\n",
       "      <td>15199.844445</td>\n",
       "      <td>Kgco2e</td>\n",
       "      <td>Egrid 2018 for us state: wi</td>\n",
       "      <td>Kwh</td>\n",
       "      <td>Egrid</td>\n",
       "      <td>2</td>\n",
       "      <td>Purchased electricity</td>\n",
       "      <td>electricity</td>\n",
       "      <td>NaN</td>\n",
       "      <td>NaN</td>\n",
       "      <td>2019-01</td>\n",
       "    </tr>\n",
       "  </tbody>\n",
       "</table>\n",
       "</div>"
      ],
      "text/plain": [
       "          date    site_location      quantity source_unit conversion  \\\n",
       "168 2019-01-01            Rouen  12919.870968         Kwh        NaN   \n",
       "169 2019-01-01            Rouen  12919.870968         Kwh        NaN   \n",
       "170 2019-01-01  Kansas City, ms  30377.000000         Kwh        NaN   \n",
       "171 2019-01-01  Kansas City, ms  30377.000000         Kwh        NaN   \n",
       "172 2019-01-01      Elkhorn, wi  24000.000000         Kwh        NaN   \n",
       "\n",
       "     quantity_ghg_emissions emissions_unit  \\\n",
       "168             8125.292532         Kgco2e   \n",
       "169               26.622946         Kgco2e   \n",
       "170            13396.275516         Kgco2e   \n",
       "171              643.021225         Kgco2e   \n",
       "172            15199.844445         Kgco2e   \n",
       "\n",
       "                            emission_factor emission_factor_unit  \\\n",
       "168  Market for electricity, medium voltage                  Kwh   \n",
       "169  Market for electricity, medium voltage                  Kwh   \n",
       "170             Egrid 2018 for us state: az                  Kwh   \n",
       "171             Egrid 2018 for us state: az                  Kwh   \n",
       "172             Egrid 2018 for us state: wi                  Kwh   \n",
       "\n",
       "    source_of_emission_factor  scope                          category  \\\n",
       "168                 Ecoinvent      2             Purchased electricity   \n",
       "169                 Ecoinvent      3  Fuel and energy related services   \n",
       "170                     Egrid      2             Purchased electricity   \n",
       "171                     Egrid      3  Fuel and energy related services   \n",
       "172                     Egrid      2             Purchased electricity   \n",
       "\n",
       "    emission_group source_type isic    month  \n",
       "168    electricity         NaN  NaN  2019-01  \n",
       "169    electricity         NaN  NaN  2019-01  \n",
       "170    electricity         NaN  NaN  2019-01  \n",
       "171    electricity         NaN  NaN  2019-01  \n",
       "172    electricity         NaN  NaN  2019-01  "
      ]
     },
     "execution_count": 79,
     "metadata": {},
     "output_type": "execute_result"
    }
   ],
   "source": [
    "(df[df['emission_group'] == 'electricity'].groupby('emission_factor')['quantity_ghg_emissions'].sum() / 1000).sort_values(ascending=False)\n",
    "df[df['emission_group'] == 'electricity'].head()"
   ]
  },
  {
   "cell_type": "code",
   "execution_count": 131,
   "metadata": {},
   "outputs": [
    {
     "data": {
      "text/plain": [
       "Index(['date', 'site_location', 'quantity', 'source_unit', 'conversion',\n",
       "       'quantity_ghg_emissions', 'emissions_unit', 'emission_factor',\n",
       "       'emission_factor_unit', 'source_of_emission_factor', 'scope',\n",
       "       'category', 'emission_group', 'source_type', 'isic'],\n",
       "      dtype='object')"
      ]
     },
     "execution_count": 131,
     "metadata": {},
     "output_type": "execute_result"
    }
   ],
   "source": [
    "['site_location', 'scope', 'category', 'emission_group', 'source_type', 'isic']"
   ]
  },
  {
   "cell_type": "code",
   "execution_count": 114,
   "metadata": {},
   "outputs": [
    {
     "data": {
      "application/vnd.plotly.v1+json": {
       "config": {
        "plotlyServerURL": "https://plot.ly"
       },
       "data": [
        {
         "orientation": "h",
         "text": [
          11.988842071592769,
          27.417639766630813,
          549.4703452818704,
          1199.9339894002335,
          1677.7634223394148,
          2259.7142376491847,
          19540.18973667739,
          65023.60475146696,
          196245.6925974014
         ],
         "type": "bar",
         "x": [
          11.988842071592769,
          27.417639766630813,
          549.4703452818704,
          1199.9339894002335,
          1677.7634223394148,
          2259.7142376491847,
          19540.18973667739,
          65023.60475146696,
          196245.6925974014
         ],
         "y": [
          "water",
          "teleworking",
          "business_travel",
          "waste",
          "fuel",
          "employee_commuting",
          "natural_gas",
          "electricity",
          "purchases"
         ]
        }
       ],
       "layout": {
        "autosize": true,
        "template": {
         "data": {
          "bar": [
           {
            "error_x": {
             "color": "#2a3f5f"
            },
            "error_y": {
             "color": "#2a3f5f"
            },
            "marker": {
             "line": {
              "color": "#E5ECF6",
              "width": 0.5
             }
            },
            "type": "bar"
           }
          ],
          "barpolar": [
           {
            "marker": {
             "line": {
              "color": "#E5ECF6",
              "width": 0.5
             }
            },
            "type": "barpolar"
           }
          ],
          "carpet": [
           {
            "aaxis": {
             "endlinecolor": "#2a3f5f",
             "gridcolor": "white",
             "linecolor": "white",
             "minorgridcolor": "white",
             "startlinecolor": "#2a3f5f"
            },
            "baxis": {
             "endlinecolor": "#2a3f5f",
             "gridcolor": "white",
             "linecolor": "white",
             "minorgridcolor": "white",
             "startlinecolor": "#2a3f5f"
            },
            "type": "carpet"
           }
          ],
          "choropleth": [
           {
            "colorbar": {
             "outlinewidth": 0,
             "ticks": ""
            },
            "type": "choropleth"
           }
          ],
          "contour": [
           {
            "colorbar": {
             "outlinewidth": 0,
             "ticks": ""
            },
            "colorscale": [
             [
              0,
              "#0d0887"
             ],
             [
              0.1111111111111111,
              "#46039f"
             ],
             [
              0.2222222222222222,
              "#7201a8"
             ],
             [
              0.3333333333333333,
              "#9c179e"
             ],
             [
              0.4444444444444444,
              "#bd3786"
             ],
             [
              0.5555555555555556,
              "#d8576b"
             ],
             [
              0.6666666666666666,
              "#ed7953"
             ],
             [
              0.7777777777777778,
              "#fb9f3a"
             ],
             [
              0.8888888888888888,
              "#fdca26"
             ],
             [
              1,
              "#f0f921"
             ]
            ],
            "type": "contour"
           }
          ],
          "contourcarpet": [
           {
            "colorbar": {
             "outlinewidth": 0,
             "ticks": ""
            },
            "type": "contourcarpet"
           }
          ],
          "heatmap": [
           {
            "colorbar": {
             "outlinewidth": 0,
             "ticks": ""
            },
            "colorscale": [
             [
              0,
              "#0d0887"
             ],
             [
              0.1111111111111111,
              "#46039f"
             ],
             [
              0.2222222222222222,
              "#7201a8"
             ],
             [
              0.3333333333333333,
              "#9c179e"
             ],
             [
              0.4444444444444444,
              "#bd3786"
             ],
             [
              0.5555555555555556,
              "#d8576b"
             ],
             [
              0.6666666666666666,
              "#ed7953"
             ],
             [
              0.7777777777777778,
              "#fb9f3a"
             ],
             [
              0.8888888888888888,
              "#fdca26"
             ],
             [
              1,
              "#f0f921"
             ]
            ],
            "type": "heatmap"
           }
          ],
          "heatmapgl": [
           {
            "colorbar": {
             "outlinewidth": 0,
             "ticks": ""
            },
            "colorscale": [
             [
              0,
              "#0d0887"
             ],
             [
              0.1111111111111111,
              "#46039f"
             ],
             [
              0.2222222222222222,
              "#7201a8"
             ],
             [
              0.3333333333333333,
              "#9c179e"
             ],
             [
              0.4444444444444444,
              "#bd3786"
             ],
             [
              0.5555555555555556,
              "#d8576b"
             ],
             [
              0.6666666666666666,
              "#ed7953"
             ],
             [
              0.7777777777777778,
              "#fb9f3a"
             ],
             [
              0.8888888888888888,
              "#fdca26"
             ],
             [
              1,
              "#f0f921"
             ]
            ],
            "type": "heatmapgl"
           }
          ],
          "histogram": [
           {
            "marker": {
             "colorbar": {
              "outlinewidth": 0,
              "ticks": ""
             }
            },
            "type": "histogram"
           }
          ],
          "histogram2d": [
           {
            "colorbar": {
             "outlinewidth": 0,
             "ticks": ""
            },
            "colorscale": [
             [
              0,
              "#0d0887"
             ],
             [
              0.1111111111111111,
              "#46039f"
             ],
             [
              0.2222222222222222,
              "#7201a8"
             ],
             [
              0.3333333333333333,
              "#9c179e"
             ],
             [
              0.4444444444444444,
              "#bd3786"
             ],
             [
              0.5555555555555556,
              "#d8576b"
             ],
             [
              0.6666666666666666,
              "#ed7953"
             ],
             [
              0.7777777777777778,
              "#fb9f3a"
             ],
             [
              0.8888888888888888,
              "#fdca26"
             ],
             [
              1,
              "#f0f921"
             ]
            ],
            "type": "histogram2d"
           }
          ],
          "histogram2dcontour": [
           {
            "colorbar": {
             "outlinewidth": 0,
             "ticks": ""
            },
            "colorscale": [
             [
              0,
              "#0d0887"
             ],
             [
              0.1111111111111111,
              "#46039f"
             ],
             [
              0.2222222222222222,
              "#7201a8"
             ],
             [
              0.3333333333333333,
              "#9c179e"
             ],
             [
              0.4444444444444444,
              "#bd3786"
             ],
             [
              0.5555555555555556,
              "#d8576b"
             ],
             [
              0.6666666666666666,
              "#ed7953"
             ],
             [
              0.7777777777777778,
              "#fb9f3a"
             ],
             [
              0.8888888888888888,
              "#fdca26"
             ],
             [
              1,
              "#f0f921"
             ]
            ],
            "type": "histogram2dcontour"
           }
          ],
          "mesh3d": [
           {
            "colorbar": {
             "outlinewidth": 0,
             "ticks": ""
            },
            "type": "mesh3d"
           }
          ],
          "parcoords": [
           {
            "line": {
             "colorbar": {
              "outlinewidth": 0,
              "ticks": ""
             }
            },
            "type": "parcoords"
           }
          ],
          "pie": [
           {
            "automargin": true,
            "type": "pie"
           }
          ],
          "scatter": [
           {
            "marker": {
             "colorbar": {
              "outlinewidth": 0,
              "ticks": ""
             }
            },
            "type": "scatter"
           }
          ],
          "scatter3d": [
           {
            "line": {
             "colorbar": {
              "outlinewidth": 0,
              "ticks": ""
             }
            },
            "marker": {
             "colorbar": {
              "outlinewidth": 0,
              "ticks": ""
             }
            },
            "type": "scatter3d"
           }
          ],
          "scattercarpet": [
           {
            "marker": {
             "colorbar": {
              "outlinewidth": 0,
              "ticks": ""
             }
            },
            "type": "scattercarpet"
           }
          ],
          "scattergeo": [
           {
            "marker": {
             "colorbar": {
              "outlinewidth": 0,
              "ticks": ""
             }
            },
            "type": "scattergeo"
           }
          ],
          "scattergl": [
           {
            "marker": {
             "colorbar": {
              "outlinewidth": 0,
              "ticks": ""
             }
            },
            "type": "scattergl"
           }
          ],
          "scattermapbox": [
           {
            "marker": {
             "colorbar": {
              "outlinewidth": 0,
              "ticks": ""
             }
            },
            "type": "scattermapbox"
           }
          ],
          "scatterpolar": [
           {
            "marker": {
             "colorbar": {
              "outlinewidth": 0,
              "ticks": ""
             }
            },
            "type": "scatterpolar"
           }
          ],
          "scatterpolargl": [
           {
            "marker": {
             "colorbar": {
              "outlinewidth": 0,
              "ticks": ""
             }
            },
            "type": "scatterpolargl"
           }
          ],
          "scatterternary": [
           {
            "marker": {
             "colorbar": {
              "outlinewidth": 0,
              "ticks": ""
             }
            },
            "type": "scatterternary"
           }
          ],
          "surface": [
           {
            "colorbar": {
             "outlinewidth": 0,
             "ticks": ""
            },
            "colorscale": [
             [
              0,
              "#0d0887"
             ],
             [
              0.1111111111111111,
              "#46039f"
             ],
             [
              0.2222222222222222,
              "#7201a8"
             ],
             [
              0.3333333333333333,
              "#9c179e"
             ],
             [
              0.4444444444444444,
              "#bd3786"
             ],
             [
              0.5555555555555556,
              "#d8576b"
             ],
             [
              0.6666666666666666,
              "#ed7953"
             ],
             [
              0.7777777777777778,
              "#fb9f3a"
             ],
             [
              0.8888888888888888,
              "#fdca26"
             ],
             [
              1,
              "#f0f921"
             ]
            ],
            "type": "surface"
           }
          ],
          "table": [
           {
            "cells": {
             "fill": {
              "color": "#EBF0F8"
             },
             "line": {
              "color": "white"
             }
            },
            "header": {
             "fill": {
              "color": "#C8D4E3"
             },
             "line": {
              "color": "white"
             }
            },
            "type": "table"
           }
          ]
         },
         "layout": {
          "annotationdefaults": {
           "arrowcolor": "#2a3f5f",
           "arrowhead": 0,
           "arrowwidth": 1
          },
          "coloraxis": {
           "colorbar": {
            "outlinewidth": 0,
            "ticks": ""
           }
          },
          "colorscale": {
           "diverging": [
            [
             0,
             "#8e0152"
            ],
            [
             0.1,
             "#c51b7d"
            ],
            [
             0.2,
             "#de77ae"
            ],
            [
             0.3,
             "#f1b6da"
            ],
            [
             0.4,
             "#fde0ef"
            ],
            [
             0.5,
             "#f7f7f7"
            ],
            [
             0.6,
             "#e6f5d0"
            ],
            [
             0.7,
             "#b8e186"
            ],
            [
             0.8,
             "#7fbc41"
            ],
            [
             0.9,
             "#4d9221"
            ],
            [
             1,
             "#276419"
            ]
           ],
           "sequential": [
            [
             0,
             "#0d0887"
            ],
            [
             0.1111111111111111,
             "#46039f"
            ],
            [
             0.2222222222222222,
             "#7201a8"
            ],
            [
             0.3333333333333333,
             "#9c179e"
            ],
            [
             0.4444444444444444,
             "#bd3786"
            ],
            [
             0.5555555555555556,
             "#d8576b"
            ],
            [
             0.6666666666666666,
             "#ed7953"
            ],
            [
             0.7777777777777778,
             "#fb9f3a"
            ],
            [
             0.8888888888888888,
             "#fdca26"
            ],
            [
             1,
             "#f0f921"
            ]
           ],
           "sequentialminus": [
            [
             0,
             "#0d0887"
            ],
            [
             0.1111111111111111,
             "#46039f"
            ],
            [
             0.2222222222222222,
             "#7201a8"
            ],
            [
             0.3333333333333333,
             "#9c179e"
            ],
            [
             0.4444444444444444,
             "#bd3786"
            ],
            [
             0.5555555555555556,
             "#d8576b"
            ],
            [
             0.6666666666666666,
             "#ed7953"
            ],
            [
             0.7777777777777778,
             "#fb9f3a"
            ],
            [
             0.8888888888888888,
             "#fdca26"
            ],
            [
             1,
             "#f0f921"
            ]
           ]
          },
          "colorway": [
           "#636efa",
           "#EF553B",
           "#00cc96",
           "#ab63fa",
           "#FFA15A",
           "#19d3f3",
           "#FF6692",
           "#B6E880",
           "#FF97FF",
           "#FECB52"
          ],
          "font": {
           "color": "#2a3f5f"
          },
          "geo": {
           "bgcolor": "white",
           "lakecolor": "white",
           "landcolor": "#E5ECF6",
           "showlakes": true,
           "showland": true,
           "subunitcolor": "white"
          },
          "hoverlabel": {
           "align": "left"
          },
          "hovermode": "closest",
          "mapbox": {
           "style": "light"
          },
          "paper_bgcolor": "white",
          "plot_bgcolor": "#E5ECF6",
          "polar": {
           "angularaxis": {
            "gridcolor": "white",
            "linecolor": "white",
            "ticks": ""
           },
           "bgcolor": "#E5ECF6",
           "radialaxis": {
            "gridcolor": "white",
            "linecolor": "white",
            "ticks": ""
           }
          },
          "scene": {
           "xaxis": {
            "backgroundcolor": "#E5ECF6",
            "gridcolor": "white",
            "gridwidth": 2,
            "linecolor": "white",
            "showbackground": true,
            "ticks": "",
            "zerolinecolor": "white"
           },
           "yaxis": {
            "backgroundcolor": "#E5ECF6",
            "gridcolor": "white",
            "gridwidth": 2,
            "linecolor": "white",
            "showbackground": true,
            "ticks": "",
            "zerolinecolor": "white"
           },
           "zaxis": {
            "backgroundcolor": "#E5ECF6",
            "gridcolor": "white",
            "gridwidth": 2,
            "linecolor": "white",
            "showbackground": true,
            "ticks": "",
            "zerolinecolor": "white"
           }
          },
          "shapedefaults": {
           "line": {
            "color": "#2a3f5f"
           }
          },
          "ternary": {
           "aaxis": {
            "gridcolor": "white",
            "linecolor": "white",
            "ticks": ""
           },
           "baxis": {
            "gridcolor": "white",
            "linecolor": "white",
            "ticks": ""
           },
           "bgcolor": "#E5ECF6",
           "caxis": {
            "gridcolor": "white",
            "linecolor": "white",
            "ticks": ""
           }
          },
          "title": {
           "x": 0.05
          },
          "xaxis": {
           "automargin": true,
           "gridcolor": "white",
           "linecolor": "white",
           "ticks": "",
           "title": {
            "standoff": 15
           },
           "zerolinecolor": "white",
           "zerolinewidth": 2
          },
          "yaxis": {
           "automargin": true,
           "gridcolor": "white",
           "linecolor": "white",
           "ticks": "",
           "title": {
            "standoff": 15
           },
           "zerolinecolor": "white",
           "zerolinewidth": 2
          }
         }
        },
        "xaxis": {
         "autorange": true,
         "range": [
          0,
          206574.4132604225
         ],
         "type": "linear"
        },
        "yaxis": {
         "autorange": true,
         "range": [
          -0.5,
          8.5
         ],
         "type": "category"
        }
       }
      },
      "image/png": "[encoded data removed]",
      "text/html": [
       "<div>\n",
       "        \n",
       "        \n",
       "            <div id=\"4694947a-74fe-4f02-81f6-63d3080d2ac6\" class=\"plotly-graph-div\" style=\"height:525px; width:100%;\"></div>\n",
       "            <script type=\"text/javascript\">\n",
       "                require([\"plotly\"], function(Plotly) {\n",
       "                    window.PLOTLYENV=window.PLOTLYENV || {};\n",
       "                    \n",
       "                if (document.getElementById(\"4694947a-74fe-4f02-81f6-63d3080d2ac6\")) {\n",
       "                    Plotly.newPlot(\n",
       "                        '4694947a-74fe-4f02-81f6-63d3080d2ac6',\n",
       "                        [{\"orientation\": \"h\", \"text\": [11.988842071592769, 27.417639766630813, 549.4703452818704, 1199.9339894002335, 1677.7634223394148, 2259.7142376491847, 19540.18973667739, 65023.60475146696, 196245.6925974014], \"type\": \"bar\", \"x\": [11.988842071592769, 27.417639766630813, 549.4703452818704, 1199.9339894002335, 1677.7634223394148, 2259.7142376491847, 19540.18973667739, 65023.60475146696, 196245.6925974014], \"y\": [\"water\", \"teleworking\", \"business_travel\", \"waste\", \"fuel\", \"employee_commuting\", \"natural_gas\", \"electricity\", \"purchases\"]}],\n",
       "                        {\"template\": {\"data\": {\"bar\": [{\"error_x\": {\"color\": \"#2a3f5f\"}, \"error_y\": {\"color\": \"#2a3f5f\"}, \"marker\": {\"line\": {\"color\": \"#E5ECF6\", \"width\": 0.5}}, \"type\": \"bar\"}], \"barpolar\": [{\"marker\": {\"line\": {\"color\": \"#E5ECF6\", \"width\": 0.5}}, \"type\": \"barpolar\"}], \"carpet\": [{\"aaxis\": {\"endlinecolor\": \"#2a3f5f\", \"gridcolor\": \"white\", \"linecolor\": \"white\", \"minorgridcolor\": \"white\", \"startlinecolor\": \"#2a3f5f\"}, \"baxis\": {\"endlinecolor\": \"#2a3f5f\", \"gridcolor\": \"white\", \"linecolor\": \"white\", \"minorgridcolor\": \"white\", \"startlinecolor\": \"#2a3f5f\"}, \"type\": \"carpet\"}], \"choropleth\": [{\"colorbar\": {\"outlinewidth\": 0, \"ticks\": \"\"}, \"type\": \"choropleth\"}], \"contour\": [{\"colorbar\": {\"outlinewidth\": 0, \"ticks\": \"\"}, \"colorscale\": [[0.0, \"#0d0887\"], [0.1111111111111111, \"#46039f\"], [0.2222222222222222, \"#7201a8\"], [0.3333333333333333, \"#9c179e\"], [0.4444444444444444, \"#bd3786\"], [0.5555555555555556, \"#d8576b\"], [0.6666666666666666, \"#ed7953\"], [0.7777777777777778, \"#fb9f3a\"], [0.8888888888888888, \"#fdca26\"], [1.0, \"#f0f921\"]], \"type\": \"contour\"}], \"contourcarpet\": [{\"colorbar\": {\"outlinewidth\": 0, \"ticks\": \"\"}, \"type\": \"contourcarpet\"}], \"heatmap\": [{\"colorbar\": {\"outlinewidth\": 0, \"ticks\": \"\"}, \"colorscale\": [[0.0, \"#0d0887\"], [0.1111111111111111, \"#46039f\"], [0.2222222222222222, \"#7201a8\"], [0.3333333333333333, \"#9c179e\"], [0.4444444444444444, \"#bd3786\"], [0.5555555555555556, \"#d8576b\"], [0.6666666666666666, \"#ed7953\"], [0.7777777777777778, \"#fb9f3a\"], [0.8888888888888888, \"#fdca26\"], [1.0, \"#f0f921\"]], \"type\": \"heatmap\"}], \"heatmapgl\": [{\"colorbar\": {\"outlinewidth\": 0, \"ticks\": \"\"}, \"colorscale\": [[0.0, \"#0d0887\"], [0.1111111111111111, \"#46039f\"], [0.2222222222222222, \"#7201a8\"], [0.3333333333333333, \"#9c179e\"], [0.4444444444444444, \"#bd3786\"], [0.5555555555555556, \"#d8576b\"], [0.6666666666666666, \"#ed7953\"], [0.7777777777777778, \"#fb9f3a\"], [0.8888888888888888, \"#fdca26\"], [1.0, \"#f0f921\"]], \"type\": \"heatmapgl\"}], \"histogram\": [{\"marker\": {\"colorbar\": {\"outlinewidth\": 0, \"ticks\": \"\"}}, \"type\": \"histogram\"}], \"histogram2d\": [{\"colorbar\": {\"outlinewidth\": 0, \"ticks\": \"\"}, \"colorscale\": [[0.0, \"#0d0887\"], [0.1111111111111111, \"#46039f\"], [0.2222222222222222, \"#7201a8\"], [0.3333333333333333, \"#9c179e\"], [0.4444444444444444, \"#bd3786\"], [0.5555555555555556, \"#d8576b\"], [0.6666666666666666, \"#ed7953\"], [0.7777777777777778, \"#fb9f3a\"], [0.8888888888888888, \"#fdca26\"], [1.0, \"#f0f921\"]], \"type\": \"histogram2d\"}], \"histogram2dcontour\": [{\"colorbar\": {\"outlinewidth\": 0, \"ticks\": \"\"}, \"colorscale\": [[0.0, \"#0d0887\"], [0.1111111111111111, \"#46039f\"], [0.2222222222222222, \"#7201a8\"], [0.3333333333333333, \"#9c179e\"], [0.4444444444444444, \"#bd3786\"], [0.5555555555555556, \"#d8576b\"], [0.6666666666666666, \"#ed7953\"], [0.7777777777777778, \"#fb9f3a\"], [0.8888888888888888, \"#fdca26\"], [1.0, \"#f0f921\"]], \"type\": \"histogram2dcontour\"}], \"mesh3d\": [{\"colorbar\": {\"outlinewidth\": 0, \"ticks\": \"\"}, \"type\": \"mesh3d\"}], \"parcoords\": [{\"line\": {\"colorbar\": {\"outlinewidth\": 0, \"ticks\": \"\"}}, \"type\": \"parcoords\"}], \"pie\": [{\"automargin\": true, \"type\": \"pie\"}], \"scatter\": [{\"marker\": {\"colorbar\": {\"outlinewidth\": 0, \"ticks\": \"\"}}, \"type\": \"scatter\"}], \"scatter3d\": [{\"line\": {\"colorbar\": {\"outlinewidth\": 0, \"ticks\": \"\"}}, \"marker\": {\"colorbar\": {\"outlinewidth\": 0, \"ticks\": \"\"}}, \"type\": \"scatter3d\"}], \"scattercarpet\": [{\"marker\": {\"colorbar\": {\"outlinewidth\": 0, \"ticks\": \"\"}}, \"type\": \"scattercarpet\"}], \"scattergeo\": [{\"marker\": {\"colorbar\": {\"outlinewidth\": 0, \"ticks\": \"\"}}, \"type\": \"scattergeo\"}], \"scattergl\": [{\"marker\": {\"colorbar\": {\"outlinewidth\": 0, \"ticks\": \"\"}}, \"type\": \"scattergl\"}], \"scattermapbox\": [{\"marker\": {\"colorbar\": {\"outlinewidth\": 0, \"ticks\": \"\"}}, \"type\": \"scattermapbox\"}], \"scatterpolar\": [{\"marker\": {\"colorbar\": {\"outlinewidth\": 0, \"ticks\": \"\"}}, \"type\": \"scatterpolar\"}], \"scatterpolargl\": [{\"marker\": {\"colorbar\": {\"outlinewidth\": 0, \"ticks\": \"\"}}, \"type\": \"scatterpolargl\"}], \"scatterternary\": [{\"marker\": {\"colorbar\": {\"outlinewidth\": 0, \"ticks\": \"\"}}, \"type\": \"scatterternary\"}], \"surface\": [{\"colorbar\": {\"outlinewidth\": 0, \"ticks\": \"\"}, \"colorscale\": [[0.0, \"#0d0887\"], [0.1111111111111111, \"#46039f\"], [0.2222222222222222, \"#7201a8\"], [0.3333333333333333, \"#9c179e\"], [0.4444444444444444, \"#bd3786\"], [0.5555555555555556, \"#d8576b\"], [0.6666666666666666, \"#ed7953\"], [0.7777777777777778, \"#fb9f3a\"], [0.8888888888888888, \"#fdca26\"], [1.0, \"#f0f921\"]], \"type\": \"surface\"}], \"table\": [{\"cells\": {\"fill\": {\"color\": \"#EBF0F8\"}, \"line\": {\"color\": \"white\"}}, \"header\": {\"fill\": {\"color\": \"#C8D4E3\"}, \"line\": {\"color\": \"white\"}}, \"type\": \"table\"}]}, \"layout\": {\"annotationdefaults\": {\"arrowcolor\": \"#2a3f5f\", \"arrowhead\": 0, \"arrowwidth\": 1}, \"coloraxis\": {\"colorbar\": {\"outlinewidth\": 0, \"ticks\": \"\"}}, \"colorscale\": {\"diverging\": [[0, \"#8e0152\"], [0.1, \"#c51b7d\"], [0.2, \"#de77ae\"], [0.3, \"#f1b6da\"], [0.4, \"#fde0ef\"], [0.5, \"#f7f7f7\"], [0.6, \"#e6f5d0\"], [0.7, \"#b8e186\"], [0.8, \"#7fbc41\"], [0.9, \"#4d9221\"], [1, \"#276419\"]], \"sequential\": [[0.0, \"#0d0887\"], [0.1111111111111111, \"#46039f\"], [0.2222222222222222, \"#7201a8\"], [0.3333333333333333, \"#9c179e\"], [0.4444444444444444, \"#bd3786\"], [0.5555555555555556, \"#d8576b\"], [0.6666666666666666, \"#ed7953\"], [0.7777777777777778, \"#fb9f3a\"], [0.8888888888888888, \"#fdca26\"], [1.0, \"#f0f921\"]], \"sequentialminus\": [[0.0, \"#0d0887\"], [0.1111111111111111, \"#46039f\"], [0.2222222222222222, \"#7201a8\"], [0.3333333333333333, \"#9c179e\"], [0.4444444444444444, \"#bd3786\"], [0.5555555555555556, \"#d8576b\"], [0.6666666666666666, \"#ed7953\"], [0.7777777777777778, \"#fb9f3a\"], [0.8888888888888888, \"#fdca26\"], [1.0, \"#f0f921\"]]}, \"colorway\": [\"#636efa\", \"#EF553B\", \"#00cc96\", \"#ab63fa\", \"#FFA15A\", \"#19d3f3\", \"#FF6692\", \"#B6E880\", \"#FF97FF\", \"#FECB52\"], \"font\": {\"color\": \"#2a3f5f\"}, \"geo\": {\"bgcolor\": \"white\", \"lakecolor\": \"white\", \"landcolor\": \"#E5ECF6\", \"showlakes\": true, \"showland\": true, \"subunitcolor\": \"white\"}, \"hoverlabel\": {\"align\": \"left\"}, \"hovermode\": \"closest\", \"mapbox\": {\"style\": \"light\"}, \"paper_bgcolor\": \"white\", \"plot_bgcolor\": \"#E5ECF6\", \"polar\": {\"angularaxis\": {\"gridcolor\": \"white\", \"linecolor\": \"white\", \"ticks\": \"\"}, \"bgcolor\": \"#E5ECF6\", \"radialaxis\": {\"gridcolor\": \"white\", \"linecolor\": \"white\", \"ticks\": \"\"}}, \"scene\": {\"xaxis\": {\"backgroundcolor\": \"#E5ECF6\", \"gridcolor\": \"white\", \"gridwidth\": 2, \"linecolor\": \"white\", \"showbackground\": true, \"ticks\": \"\", \"zerolinecolor\": \"white\"}, \"yaxis\": {\"backgroundcolor\": \"#E5ECF6\", \"gridcolor\": \"white\", \"gridwidth\": 2, \"linecolor\": \"white\", \"showbackground\": true, \"ticks\": \"\", \"zerolinecolor\": \"white\"}, \"zaxis\": {\"backgroundcolor\": \"#E5ECF6\", \"gridcolor\": \"white\", \"gridwidth\": 2, \"linecolor\": \"white\", \"showbackground\": true, \"ticks\": \"\", \"zerolinecolor\": \"white\"}}, \"shapedefaults\": {\"line\": {\"color\": \"#2a3f5f\"}}, \"ternary\": {\"aaxis\": {\"gridcolor\": \"white\", \"linecolor\": \"white\", \"ticks\": \"\"}, \"baxis\": {\"gridcolor\": \"white\", \"linecolor\": \"white\", \"ticks\": \"\"}, \"bgcolor\": \"#E5ECF6\", \"caxis\": {\"gridcolor\": \"white\", \"linecolor\": \"white\", \"ticks\": \"\"}}, \"title\": {\"x\": 0.05}, \"xaxis\": {\"automargin\": true, \"gridcolor\": \"white\", \"linecolor\": \"white\", \"ticks\": \"\", \"title\": {\"standoff\": 15}, \"zerolinecolor\": \"white\", \"zerolinewidth\": 2}, \"yaxis\": {\"automargin\": true, \"gridcolor\": \"white\", \"linecolor\": \"white\", \"ticks\": \"\", \"title\": {\"standoff\": 15}, \"zerolinecolor\": \"white\", \"zerolinewidth\": 2}}}},\n",
       "                        {\"responsive\": true}\n",
       "                    ).then(function(){\n",
       "                            \n",
       "var gd = document.getElementById('4694947a-74fe-4f02-81f6-63d3080d2ac6');\n",
       "var x = new MutationObserver(function (mutations, observer) {{\n",
       "        var display = window.getComputedStyle(gd).display;\n",
       "        if (!display || display === 'none') {{\n",
       "            console.log([gd, 'removed!']);\n",
       "            Plotly.purge(gd);\n",
       "            observer.disconnect();\n",
       "        }}\n",
       "}});\n",
       "\n",
       "// Listen for the removal of the full notebook cells\n",
       "var notebookContainer = gd.closest('#notebook-container');\n",
       "if (notebookContainer) {{\n",
       "    x.observe(notebookContainer, {childList: true});\n",
       "}}\n",
       "\n",
       "// Listen for the clearing of the current output cell\n",
       "var outputEl = gd.closest('.output');\n",
       "if (outputEl) {{\n",
       "    x.observe(outputEl, {childList: true});\n",
       "}}\n",
       "\n",
       "                        })\n",
       "                };\n",
       "                });\n",
       "            </script>\n",
       "        </div>"
      ]
     },
     "metadata": {},
     "output_type": "display_data"
    }
   ],
   "source": [
    "by_group = (df.groupby('emission_group')['quantity_ghg_emissions'].sum() / 1000).to_frame().reset_index().sort_values(by='quantity_ghg_emissions')\n",
    "\n",
    "fig = go.Figure(go.Bar(y=by_group['emission_group'], \n",
    "                       x=by_group['quantity_ghg_emissions'], \n",
    "                       orientation='h', \n",
    "                       text=by_group['quantity_ghg_emissions'], \n",
    "                       #text_template=\"%{text:,.0f}\"\n",
    "                      ))\n",
    "#fig.update_data(texttemplate = f\"{text}\")\n",
    "fig.show()"
   ]
  },
  {
   "cell_type": "code",
   "execution_count": null,
   "metadata": {},
   "outputs": [],
   "source": [
    "for col in "
   ]
  },
  {
   "cell_type": "code",
   "execution_count": 130,
   "metadata": {},
   "outputs": [
    {
     "data": {
      "application/vnd.plotly.v1+json": {
       "config": {
        "plotlyServerURL": "https://plot.ly"
       },
       "data": [
        {
         "alignmentgroup": "True",
         "hovertemplate": "emission_group=water<br>quantity_ghg_emissions=%{x}<br>site_location=%{y}<extra></extra>",
         "legendgroup": "water",
         "marker": {
          "color": "#636efa"
         },
         "name": "water",
         "offsetgroup": "water",
         "orientation": "h",
         "showlegend": true,
         "textposition": "auto",
         "type": "bar",
         "x": [
          0.00017342729247140046,
          0.00017342729247140046,
          0.0006937091698856018,
          0.001213991047299804,
          0.0021492696971103266,
          0.002254554802128207,
          0.002601409387071008,
          0.002948263972013807,
          0.002948263972013807,
          0.0032239045456654903,
          0.005202818774142016,
          0.006447809091330981,
          0.0076308008687416195,
          0.007804228161213023,
          0.009191646500984226,
          0.0118209833341068,
          0.014047610690183435,
          0.019549173539270773,
          0.02133155697398226,
          0.029015140910989414,
          0.03421105369372385,
          0.05695564697342366,
          0.07330940077226542,
          0.07845769318533109,
          0.08359195497121504,
          0.10018951438876274,
          0.11913056927472018,
          0.13195692139007772,
          0.15394974162175742,
          0.18327350193066352,
          0.18327350193066352,
          0.19793538208511657,
          0.3127867766283324,
          0.48188427926250077,
          1.1958414707582352,
          2.5309192695604006,
          5.920753403142489
         ],
         "xaxis": "x",
         "y": [
          "Lenoir, nc",
          "Atlanta, ga",
          "Homewood, il",
          "Malibu, ca",
          "Union city, ca",
          "Elkhorn, wi",
          "Aurora, il",
          "Kennewick",
          "Kansas City, ms",
          "Sutton, ma",
          "Tupelo, ms",
          "Summer, wa",
          "Charlotte, nc",
          "Dallas, tx",
          "Marysville, mi",
          "Orlando, fl",
          "Aurora, il, ",
          "Corsicana, tx",
          "Grand rapids, mi",
          "Richmond, va",
          "Wenatchee, wa",
          "Pomona, ca",
          "Port huron, mi",
          "Troyes",
          "Deerfield, il",
          "Conover, nc",
          "Anröchte",
          "Calgary",
          "Hopkinsville, ky",
          "Wurtland, ky",
          "Visalia, ca",
          "Queensbury, ny",
          "Sussex, wi,",
          "Plymouth, in,",
          "Oxford",
          "Basel",
          "Rouen"
         ],
         "yaxis": "y"
        },
        {
         "alignmentgroup": "True",
         "hovertemplate": "emission_group=teleworking<br>quantity_ghg_emissions=%{x}<br>site_location=%{y}<extra></extra>",
         "legendgroup": "teleworking",
         "marker": {
          "color": "#EF553B"
         },
         "name": "teleworking",
         "offsetgroup": "teleworking",
         "orientation": "h",
         "showlegend": true,
         "textposition": "auto",
         "type": "bar",
         "x": [
          0.01109568148675933,
          0.012578267597291934,
          0.01584254963415458,
          0.03613280250754188,
          0.03924895811782666,
          0.041574004212627844,
          0.05776918654043586,
          0.05979021905677247,
          0.0841652146617226,
          0.09134425927564818,
          0.09159110124987534,
          0.11326657138863276,
          0.12317455036299067,
          0.15588974655057958,
          0.1766825896797815,
          0.18185297692834923,
          0.19286963396440704,
          0.3306399837293502,
          0.3395597684434402,
          0.4198910619760522,
          0.47777203929803647,
          0.4886368107512828,
          0.5156364368289675,
          0.5434055724222222,
          0.594200887121457,
          0.6313426454929217,
          0.640199758730943,
          0.6791195368868798,
          0.7920666791787129,
          0.8418119134738369,
          1.053596763218013,
          1.2543497557525694,
          1.505851922612922,
          1.7905707700996876,
          3.2362720030603853,
          4.788563325185037,
          5.009283819152691
         ],
         "xaxis": "x",
         "y": [
          "Atlanta, ga",
          "Lenoir, nc",
          "Union city, ca",
          "Sutton, ma",
          "Summer, wa",
          "Homewood, il",
          "Troyes",
          "Port huron, mi",
          "Anröchte",
          "Corsicana, tx",
          "Wenatchee, wa",
          "Malibu, ca",
          "Orlando, fl",
          "Aurora, il",
          "Kennewick",
          "Elkhorn, wi",
          "Kansas City, ms",
          "Tupelo, ms",
          "Richmond, va",
          "Pomona, ca",
          "Charlotte, nc",
          "Dallas, tx",
          "Conover, nc",
          "Oxford",
          "Visalia, ca",
          "Basel",
          "Queensbury, ny",
          "Calgary",
          "Marysville, mi",
          "Aurora, il, ",
          "Hopkinsville, ky",
          "Wurtland, ky",
          "Grand rapids, mi",
          "Sussex, wi,",
          "Plymouth, in,",
          "Rouen",
          "Deerfield, il"
         ],
         "yaxis": "y"
        },
        {
         "alignmentgroup": "True",
         "hovertemplate": "emission_group=waste<br>quantity_ghg_emissions=%{x}<br>site_location=%{y}<extra></extra>",
         "legendgroup": "waste",
         "marker": {
          "color": "#00cc96"
         },
         "name": "waste",
         "offsetgroup": "waste",
         "orientation": "h",
         "showlegend": true,
         "textposition": "auto",
         "type": "bar",
         "x": [
          0.01593884580280142,
          0.018775887353259288,
          0.054227372519415534,
          0.7960721614999999,
          0.8220572188000006,
          1.4597712433200003,
          1.4597712433200003,
          2.1896440749600012,
          2.9182299396,
          3.246455766000001,
          3.2851983756000007,
          4.2810698096909965,
          4.3191030948,
          4.4803390499999995,
          5.192027659200001,
          5.839033813200001,
          6.9179530308000015,
          7.059346932000002,
          8.541119919600005,
          9.487758470399998,
          10.948220374799998,
          11.895658186800004,
          11.951150943600002,
          12.352677921599998,
          12.352677921599998,
          16.668402581999995,
          21.793129247999996,
          26.015119451999997,
          36.534591904164635,
          46.146087720000004,
          55.01472865200002,
          55.01472865200002,
          58.95805571999998,
          58.95805571999998,
          340.92465097319996,
          352.02215951999983
         ],
         "xaxis": "x",
         "y": [
          "Summer, wa",
          "Troyes",
          "Anröchte",
          "Basel",
          "Rouen",
          "Union city, ca",
          "Homewood, il",
          "Sutton, ma",
          "Pomona, ca",
          "Port huron, mi",
          "Calgary",
          "Oxford",
          "Atlanta, ga",
          "Wenatchee, wa",
          "Richmond, va",
          "Corsicana, tx",
          "Lenoir, nc",
          "Tupelo, ms",
          "Marysville, mi",
          "Elkhorn, wi",
          "Aurora, il",
          "Orlando, fl",
          "Malibu, ca",
          "Kennewick",
          "Kansas City, ms",
          "Conover, nc",
          "Sussex, wi,",
          "Grand rapids, mi",
          "Dallas, tx",
          "Hopkinsville, ky",
          "Wurtland, ky",
          "Visalia, ca",
          "Aurora, il, ",
          "Queensbury, ny",
          "Plymouth, in,",
          "Deerfield, il"
         ],
         "yaxis": "y"
        },
        {
         "alignmentgroup": "True",
         "hovertemplate": "emission_group=electricity<br>quantity_ghg_emissions=%{x}<br>site_location=%{y}<extra></extra>",
         "legendgroup": "electricity",
         "marker": {
          "color": "#ab63fa"
         },
         "name": "electricity",
         "offsetgroup": "electricity",
         "orientation": "h",
         "showlegend": true,
         "textposition": "auto",
         "type": "bar",
         "x": [
          0.41862798159044845,
          1.8126588756081878,
          1.9187603974219862,
          6.146746897149239,
          6.433256733345827,
          6.8939027341597985,
          11.023811719423064,
          12.259567091832286,
          16.829597213358554,
          17.70048133544873,
          37.2272852700003,
          37.56635695375258,
          53.84208948344036,
          66.63469403330919,
          100.74779295126888,
          102.17338860501714,
          163.63671296903564,
          190.98033030539037,
          236.5679563533854,
          255.35926498897237,
          311.27110795371215,
          343.94963224718254,
          402.52086879714625,
          663.8851798826202,
          720.1272704246801,
          1113.5354970750925,
          1217.4513867415694,
          1434.4523993693758,
          1702.1847884096067,
          2176.043388532264,
          3322.0307446849024,
          3402.361463853443,
          3847.188775226981,
          4833.684483017856,
          5916.989365471681,
          7124.6386832503385,
          10371.188408511036,
          14793.92802512424
         ],
         "xaxis": "x",
         "y": [
          "Richmond, va",
          "Troyes",
          "Plymouth, in, ",
          "Lenoir, nc",
          "Summer, wa",
          "Union city, ca",
          "Malibu, ca",
          "Homewood, il",
          "Sutton, ma",
          "Atlanta, ga",
          "Oxford",
          "Dallas, tx",
          "Deerfield, il",
          "Anröchte",
          "Aurora, il",
          "Wenatchee, wa",
          "Aurora, il, ",
          "Elkhorn, wi",
          "Charlotte, nc",
          "Kansas City, ms",
          "Orlando, fl",
          "Basel",
          "Pomona, ca",
          "Corsicana, tx",
          "Kennewick",
          "Port huron, mi",
          "Conover, nc",
          "Queensbury, ny",
          "Tupelo, ms",
          "Visalia, ca",
          "Calgary",
          "Rouen",
          "Hopkinsville, ky",
          "Marysville, mi",
          "Sussex, wi,",
          "Grand rapids, mi",
          "Wurtland, ky",
          "Plymouth, in,"
         ],
         "yaxis": "y"
        },
        {
         "alignmentgroup": "True",
         "hovertemplate": "emission_group=employee_commuting<br>quantity_ghg_emissions=%{x}<br>site_location=%{y}<extra></extra>",
         "legendgroup": "employee_commuting",
         "marker": {
          "color": "#FFA15A"
         },
         "name": "employee_commuting",
         "offsetgroup": "employee_commuting",
         "orientation": "h",
         "showlegend": true,
         "textposition": "auto",
         "type": "bar",
         "x": [
          1.3153754509999998,
          1.6676799748000004,
          3.0329250560999985,
          3.4326245141999996,
          3.51241164141088,
          3.746977384900001,
          4.7739915528,
          5.0520590494999995,
          6.0639204373,
          6.361264387999999,
          7.259281078699999,
          11.023904440399999,
          11.488554428899999,
          11.788138493100002,
          18.719408852699996,
          21.771130049999996,
          24.673939977299995,
          26.18847557416772,
          30.074729782400006,
          31.80938781970001,
          40.054872336100004,
          41.85214168579999,
          46.528279267799995,
          47.5857354703,
          51.2085470674,
          76.83443932989998,
          80.10974467220002,
          88.52719806679998,
          91.53226828010001,
          101.16810525540001,
          105.59738629959999,
          114.7597562868,
          117.56407825539996,
          120.83100546880003,
          181.75041625320003,
          195.4997402739,
          524.5543434323
         ],
         "xaxis": "x",
         "y": [
          "Lenoir, nc",
          "Atlanta, ga",
          "Union city, ca",
          "Troyes",
          "Anröchte",
          "Sutton, ma",
          "Port huron, mi",
          "Summer, wa",
          "Homewood, il",
          "Malibu, ca",
          "Corsicana, tx",
          "Orlando, fl",
          "Elkhorn, wi",
          "Wenatchee, wa",
          "Kansas City, ms",
          "Aurora, il",
          "Kennewick",
          "Basel",
          "Oxford",
          "Hopkinsville, ky",
          "Richmond, va",
          "Tupelo, ms",
          "Charlotte, nc",
          "Dallas, tx",
          "Conover, nc",
          "Pomona, ca",
          "Calgary",
          "Visalia, ca",
          "Marysville, mi",
          "Queensbury, ny",
          "Grand rapids, mi",
          "Wurtland, ky",
          "Aurora, il, ",
          "Rouen",
          "Plymouth, in,",
          "Sussex, wi,",
          "Deerfield, il"
         ],
         "yaxis": "y"
        },
        {
         "alignmentgroup": "True",
         "hovertemplate": "emission_group=natural_gas<br>quantity_ghg_emissions=%{x}<br>site_location=%{y}<extra></extra>",
         "legendgroup": "natural_gas",
         "marker": {
          "color": "#19d3f3"
         },
         "name": "natural_gas",
         "offsetgroup": "natural_gas",
         "orientation": "h",
         "showlegend": true,
         "textposition": "auto",
         "type": "bar",
         "x": [
          1.3253418127183751,
          7.868209184102455,
          13.387318511773007,
          17.385558554381376,
          22.164793109139236,
          31.125764375261113,
          39.31017461685162,
          58.11659974120001,
          89.65672581259928,
          110.94443243363345,
          695.9448346462067,
          778.95016791592,
          832.3730425190865,
          1142.9195461016668,
          1203.200601869118,
          1535.8731143662856,
          1766.6981160437497,
          1839.2193293292298,
          1901.4245218054511,
          2314.025805458422,
          2406.2257712908095,
          2732.0499671798666
         ],
         "xaxis": "x",
         "y": [
          "Homewood, il",
          "Pomona, ca",
          "Summer, wa",
          "Atlanta, ga",
          "Richmond, va",
          "Elkhorn, wi",
          "Plymouth, in,",
          "Oxford",
          "Aurora, il",
          "Charlotte, nc",
          "Wurtland, ky",
          "Basel",
          "Marysville, mi",
          "Rouen",
          "Visalia, ca",
          "Queensbury, ny",
          "Kennewick",
          "Malibu, ca",
          "Grand rapids, mi",
          "Calgary",
          "Conover, nc",
          "Sussex, wi,"
         ],
         "yaxis": "y"
        },
        {
         "alignmentgroup": "True",
         "hovertemplate": "emission_group=business_travel<br>quantity_ghg_emissions=%{x}<br>site_location=%{y}<extra></extra>",
         "legendgroup": "business_travel",
         "marker": {
          "color": "#FF6692"
         },
         "name": "business_travel",
         "offsetgroup": "business_travel",
         "orientation": "h",
         "showlegend": true,
         "textposition": "auto",
         "type": "bar",
         "x": [
          31.3395,
          64.60501489911154,
          453.5258303827586
         ],
         "xaxis": "x",
         "y": [
          "Basel",
          "Oxford",
          "Rouen"
         ],
         "yaxis": "y"
        },
        {
         "alignmentgroup": "True",
         "hovertemplate": "emission_group=fuel<br>quantity_ghg_emissions=%{x}<br>site_location=%{y}<extra></extra>",
         "legendgroup": "fuel",
         "marker": {
          "color": "#B6E880"
         },
         "name": "fuel",
         "offsetgroup": "fuel",
         "orientation": "h",
         "showlegend": true,
         "textposition": "auto",
         "type": "bar",
         "x": [
          106.68137836799994,
          200.6744258663923,
          1370.407618105021
         ],
         "xaxis": "x",
         "y": [
          "Basel",
          "Rouen",
          "Mordor llc (3104)"
         ],
         "yaxis": "y"
        },
        {
         "alignmentgroup": "True",
         "hovertemplate": "emission_group=purchases<br>quantity_ghg_emissions=%{x}<br>site_location=%{y}<extra></extra>",
         "legendgroup": "purchases",
         "marker": {
          "color": "#FF97FF"
         },
         "name": "purchases",
         "offsetgroup": "purchases",
         "orientation": "h",
         "showlegend": true,
         "textposition": "auto",
         "type": "bar",
         "x": [
          171.858418517515,
          184.22343056306767,
          608.9772462037464,
          3832.661719678314,
          6569.5682506225785,
          8199.272038961699,
          16677.633670008712,
          21628.449276777534,
          26503.043943687764,
          111870.0046023826
         ],
         "xaxis": "x",
         "y": [
          "Troyes",
          "Mordor llc (3104)",
          "Basel",
          "Oxford",
          "Rouen",
          "Mordor films (2390)",
          "Mordor sharp (2410)",
          "Mordor intellipack (2370)",
          "Mordor polymask (2388)",
          "Mordor innovative (2305)"
         ],
         "yaxis": "y"
        }
       ],
       "layout": {
        "autosize": true,
        "barmode": "relative",
        "legend": {
         "title": {
          "text": "emission_group"
         },
         "tracegroupgap": 0
        },
        "margin": {
         "t": 60
        },
        "template": {
         "data": {
          "bar": [
           {
            "error_x": {
             "color": "#2a3f5f"
            },
            "error_y": {
             "color": "#2a3f5f"
            },
            "marker": {
             "line": {
              "color": "#E5ECF6",
              "width": 0.5
             }
            },
            "type": "bar"
           }
          ],
          "barpolar": [
           {
            "marker": {
             "line": {
              "color": "#E5ECF6",
              "width": 0.5
             }
            },
            "type": "barpolar"
           }
          ],
          "carpet": [
           {
            "aaxis": {
             "endlinecolor": "#2a3f5f",
             "gridcolor": "white",
             "linecolor": "white",
             "minorgridcolor": "white",
             "startlinecolor": "#2a3f5f"
            },
            "baxis": {
             "endlinecolor": "#2a3f5f",
             "gridcolor": "white",
             "linecolor": "white",
             "minorgridcolor": "white",
             "startlinecolor": "#2a3f5f"
            },
            "type": "carpet"
           }
          ],
          "choropleth": [
           {
            "colorbar": {
             "outlinewidth": 0,
             "ticks": ""
            },
            "type": "choropleth"
           }
          ],
          "contour": [
           {
            "colorbar": {
             "outlinewidth": 0,
             "ticks": ""
            },
            "colorscale": [
             [
              0,
              "#0d0887"
             ],
             [
              0.1111111111111111,
              "#46039f"
             ],
             [
              0.2222222222222222,
              "#7201a8"
             ],
             [
              0.3333333333333333,
              "#9c179e"
             ],
             [
              0.4444444444444444,
              "#bd3786"
             ],
             [
              0.5555555555555556,
              "#d8576b"
             ],
             [
              0.6666666666666666,
              "#ed7953"
             ],
             [
              0.7777777777777778,
              "#fb9f3a"
             ],
             [
              0.8888888888888888,
              "#fdca26"
             ],
             [
              1,
              "#f0f921"
             ]
            ],
            "type": "contour"
           }
          ],
          "contourcarpet": [
           {
            "colorbar": {
             "outlinewidth": 0,
             "ticks": ""
            },
            "type": "contourcarpet"
           }
          ],
          "heatmap": [
           {
            "colorbar": {
             "outlinewidth": 0,
             "ticks": ""
            },
            "colorscale": [
             [
              0,
              "#0d0887"
             ],
             [
              0.1111111111111111,
              "#46039f"
             ],
             [
              0.2222222222222222,
              "#7201a8"
             ],
             [
              0.3333333333333333,
              "#9c179e"
             ],
             [
              0.4444444444444444,
              "#bd3786"
             ],
             [
              0.5555555555555556,
              "#d8576b"
             ],
             [
              0.6666666666666666,
              "#ed7953"
             ],
             [
              0.7777777777777778,
              "#fb9f3a"
             ],
             [
              0.8888888888888888,
              "#fdca26"
             ],
             [
              1,
              "#f0f921"
             ]
            ],
            "type": "heatmap"
           }
          ],
          "heatmapgl": [
           {
            "colorbar": {
             "outlinewidth": 0,
             "ticks": ""
            },
            "colorscale": [
             [
              0,
              "#0d0887"
             ],
             [
              0.1111111111111111,
              "#46039f"
             ],
             [
              0.2222222222222222,
              "#7201a8"
             ],
             [
              0.3333333333333333,
              "#9c179e"
             ],
             [
              0.4444444444444444,
              "#bd3786"
             ],
             [
              0.5555555555555556,
              "#d8576b"
             ],
             [
              0.6666666666666666,
              "#ed7953"
             ],
             [
              0.7777777777777778,
              "#fb9f3a"
             ],
             [
              0.8888888888888888,
              "#fdca26"
             ],
             [
              1,
              "#f0f921"
             ]
            ],
            "type": "heatmapgl"
           }
          ],
          "histogram": [
           {
            "marker": {
             "colorbar": {
              "outlinewidth": 0,
              "ticks": ""
             }
            },
            "type": "histogram"
           }
          ],
          "histogram2d": [
           {
            "colorbar": {
             "outlinewidth": 0,
             "ticks": ""
            },
            "colorscale": [
             [
              0,
              "#0d0887"
             ],
             [
              0.1111111111111111,
              "#46039f"
             ],
             [
              0.2222222222222222,
              "#7201a8"
             ],
             [
              0.3333333333333333,
              "#9c179e"
             ],
             [
              0.4444444444444444,
              "#bd3786"
             ],
             [
              0.5555555555555556,
              "#d8576b"
             ],
             [
              0.6666666666666666,
              "#ed7953"
             ],
             [
              0.7777777777777778,
              "#fb9f3a"
             ],
             [
              0.8888888888888888,
              "#fdca26"
             ],
             [
              1,
              "#f0f921"
             ]
            ],
            "type": "histogram2d"
           }
          ],
          "histogram2dcontour": [
           {
            "colorbar": {
             "outlinewidth": 0,
             "ticks": ""
            },
            "colorscale": [
             [
              0,
              "#0d0887"
             ],
             [
              0.1111111111111111,
              "#46039f"
             ],
             [
              0.2222222222222222,
              "#7201a8"
             ],
             [
              0.3333333333333333,
              "#9c179e"
             ],
             [
              0.4444444444444444,
              "#bd3786"
             ],
             [
              0.5555555555555556,
              "#d8576b"
             ],
             [
              0.6666666666666666,
              "#ed7953"
             ],
             [
              0.7777777777777778,
              "#fb9f3a"
             ],
             [
              0.8888888888888888,
              "#fdca26"
             ],
             [
              1,
              "#f0f921"
             ]
            ],
            "type": "histogram2dcontour"
           }
          ],
          "mesh3d": [
           {
            "colorbar": {
             "outlinewidth": 0,
             "ticks": ""
            },
            "type": "mesh3d"
           }
          ],
          "parcoords": [
           {
            "line": {
             "colorbar": {
              "outlinewidth": 0,
              "ticks": ""
             }
            },
            "type": "parcoords"
           }
          ],
          "pie": [
           {
            "automargin": true,
            "type": "pie"
           }
          ],
          "scatter": [
           {
            "marker": {
             "colorbar": {
              "outlinewidth": 0,
              "ticks": ""
             }
            },
            "type": "scatter"
           }
          ],
          "scatter3d": [
           {
            "line": {
             "colorbar": {
              "outlinewidth": 0,
              "ticks": ""
             }
            },
            "marker": {
             "colorbar": {
              "outlinewidth": 0,
              "ticks": ""
             }
            },
            "type": "scatter3d"
           }
          ],
          "scattercarpet": [
           {
            "marker": {
             "colorbar": {
              "outlinewidth": 0,
              "ticks": ""
             }
            },
            "type": "scattercarpet"
           }
          ],
          "scattergeo": [
           {
            "marker": {
             "colorbar": {
              "outlinewidth": 0,
              "ticks": ""
             }
            },
            "type": "scattergeo"
           }
          ],
          "scattergl": [
           {
            "marker": {
             "colorbar": {
              "outlinewidth": 0,
              "ticks": ""
             }
            },
            "type": "scattergl"
           }
          ],
          "scattermapbox": [
           {
            "marker": {
             "colorbar": {
              "outlinewidth": 0,
              "ticks": ""
             }
            },
            "type": "scattermapbox"
           }
          ],
          "scatterpolar": [
           {
            "marker": {
             "colorbar": {
              "outlinewidth": 0,
              "ticks": ""
             }
            },
            "type": "scatterpolar"
           }
          ],
          "scatterpolargl": [
           {
            "marker": {
             "colorbar": {
              "outlinewidth": 0,
              "ticks": ""
             }
            },
            "type": "scatterpolargl"
           }
          ],
          "scatterternary": [
           {
            "marker": {
             "colorbar": {
              "outlinewidth": 0,
              "ticks": ""
             }
            },
            "type": "scatterternary"
           }
          ],
          "surface": [
           {
            "colorbar": {
             "outlinewidth": 0,
             "ticks": ""
            },
            "colorscale": [
             [
              0,
              "#0d0887"
             ],
             [
              0.1111111111111111,
              "#46039f"
             ],
             [
              0.2222222222222222,
              "#7201a8"
             ],
             [
              0.3333333333333333,
              "#9c179e"
             ],
             [
              0.4444444444444444,
              "#bd3786"
             ],
             [
              0.5555555555555556,
              "#d8576b"
             ],
             [
              0.6666666666666666,
              "#ed7953"
             ],
             [
              0.7777777777777778,
              "#fb9f3a"
             ],
             [
              0.8888888888888888,
              "#fdca26"
             ],
             [
              1,
              "#f0f921"
             ]
            ],
            "type": "surface"
           }
          ],
          "table": [
           {
            "cells": {
             "fill": {
              "color": "#EBF0F8"
             },
             "line": {
              "color": "white"
             }
            },
            "header": {
             "fill": {
              "color": "#C8D4E3"
             },
             "line": {
              "color": "white"
             }
            },
            "type": "table"
           }
          ]
         },
         "layout": {
          "annotationdefaults": {
           "arrowcolor": "#2a3f5f",
           "arrowhead": 0,
           "arrowwidth": 1
          },
          "coloraxis": {
           "colorbar": {
            "outlinewidth": 0,
            "ticks": ""
           }
          },
          "colorscale": {
           "diverging": [
            [
             0,
             "#8e0152"
            ],
            [
             0.1,
             "#c51b7d"
            ],
            [
             0.2,
             "#de77ae"
            ],
            [
             0.3,
             "#f1b6da"
            ],
            [
             0.4,
             "#fde0ef"
            ],
            [
             0.5,
             "#f7f7f7"
            ],
            [
             0.6,
             "#e6f5d0"
            ],
            [
             0.7,
             "#b8e186"
            ],
            [
             0.8,
             "#7fbc41"
            ],
            [
             0.9,
             "#4d9221"
            ],
            [
             1,
             "#276419"
            ]
           ],
           "sequential": [
            [
             0,
             "#0d0887"
            ],
            [
             0.1111111111111111,
             "#46039f"
            ],
            [
             0.2222222222222222,
             "#7201a8"
            ],
            [
             0.3333333333333333,
             "#9c179e"
            ],
            [
             0.4444444444444444,
             "#bd3786"
            ],
            [
             0.5555555555555556,
             "#d8576b"
            ],
            [
             0.6666666666666666,
             "#ed7953"
            ],
            [
             0.7777777777777778,
             "#fb9f3a"
            ],
            [
             0.8888888888888888,
             "#fdca26"
            ],
            [
             1,
             "#f0f921"
            ]
           ],
           "sequentialminus": [
            [
             0,
             "#0d0887"
            ],
            [
             0.1111111111111111,
             "#46039f"
            ],
            [
             0.2222222222222222,
             "#7201a8"
            ],
            [
             0.3333333333333333,
             "#9c179e"
            ],
            [
             0.4444444444444444,
             "#bd3786"
            ],
            [
             0.5555555555555556,
             "#d8576b"
            ],
            [
             0.6666666666666666,
             "#ed7953"
            ],
            [
             0.7777777777777778,
             "#fb9f3a"
            ],
            [
             0.8888888888888888,
             "#fdca26"
            ],
            [
             1,
             "#f0f921"
            ]
           ]
          },
          "colorway": [
           "#636efa",
           "#EF553B",
           "#00cc96",
           "#ab63fa",
           "#FFA15A",
           "#19d3f3",
           "#FF6692",
           "#B6E880",
           "#FF97FF",
           "#FECB52"
          ],
          "font": {
           "color": "#2a3f5f"
          },
          "geo": {
           "bgcolor": "white",
           "lakecolor": "white",
           "landcolor": "#E5ECF6",
           "showlakes": true,
           "showland": true,
           "subunitcolor": "white"
          },
          "hoverlabel": {
           "align": "left"
          },
          "hovermode": "closest",
          "mapbox": {
           "style": "light"
          },
          "paper_bgcolor": "white",
          "plot_bgcolor": "#E5ECF6",
          "polar": {
           "angularaxis": {
            "gridcolor": "white",
            "linecolor": "white",
            "ticks": ""
           },
           "bgcolor": "#E5ECF6",
           "radialaxis": {
            "gridcolor": "white",
            "linecolor": "white",
            "ticks": ""
           }
          },
          "scene": {
           "xaxis": {
            "backgroundcolor": "#E5ECF6",
            "gridcolor": "white",
            "gridwidth": 2,
            "linecolor": "white",
            "showbackground": true,
            "ticks": "",
            "zerolinecolor": "white"
           },
           "yaxis": {
            "backgroundcolor": "#E5ECF6",
            "gridcolor": "white",
            "gridwidth": 2,
            "linecolor": "white",
            "showbackground": true,
            "ticks": "",
            "zerolinecolor": "white"
           },
           "zaxis": {
            "backgroundcolor": "#E5ECF6",
            "gridcolor": "white",
            "gridwidth": 2,
            "linecolor": "white",
            "showbackground": true,
            "ticks": "",
            "zerolinecolor": "white"
           }
          },
          "shapedefaults": {
           "line": {
            "color": "#2a3f5f"
           }
          },
          "ternary": {
           "aaxis": {
            "gridcolor": "white",
            "linecolor": "white",
            "ticks": ""
           },
           "baxis": {
            "gridcolor": "white",
            "linecolor": "white",
            "ticks": ""
           },
           "bgcolor": "#E5ECF6",
           "caxis": {
            "gridcolor": "white",
            "linecolor": "white",
            "ticks": ""
           }
          },
          "title": {
           "x": 0.05
          },
          "xaxis": {
           "automargin": true,
           "gridcolor": "white",
           "linecolor": "white",
           "ticks": "",
           "title": {
            "standoff": 15
           },
           "zerolinecolor": "white",
           "zerolinewidth": 2
          },
          "yaxis": {
           "automargin": true,
           "gridcolor": "white",
           "linecolor": "white",
           "ticks": "",
           "title": {
            "standoff": 15
           },
           "zerolinecolor": "white",
           "zerolinewidth": 2
          }
         }
        },
        "xaxis": {
         "anchor": "y",
         "autorange": true,
         "domain": [
          0,
          1
         ],
         "range": [
          0,
          117757.89958145536
         ],
         "title": {
          "text": "quantity_ghg_emissions"
         },
         "type": "linear"
        },
        "yaxis": {
         "anchor": "x",
         "autorange": true,
         "domain": [
          0,
          1
         ],
         "range": [
          -0.5,
          43.5
         ],
         "title": {
          "text": "site_location"
         },
         "type": "category"
        }
       }
      },
      "image/png": "[encoded data removed]",
      "text/html": [
       "<div>\n",
       "        \n",
       "        \n",
       "            <div id=\"829ad8aa-663a-480f-891f-4050b562e655\" class=\"plotly-graph-div\" style=\"height:525px; width:100%;\"></div>\n",
       "            <script type=\"text/javascript\">\n",
       "                require([\"plotly\"], function(Plotly) {\n",
       "                    window.PLOTLYENV=window.PLOTLYENV || {};\n",
       "                    \n",
       "                if (document.getElementById(\"829ad8aa-663a-480f-891f-4050b562e655\")) {\n",
       "                    Plotly.newPlot(\n",
       "                        '829ad8aa-663a-480f-891f-4050b562e655',\n",
       "                        [{\"alignmentgroup\": \"True\", \"hovertemplate\": \"emission_group=water<br>quantity_ghg_emissions=%{x}<br>site_location=%{y}<extra></extra>\", \"legendgroup\": \"water\", \"marker\": {\"color\": \"#636efa\"}, \"name\": \"water\", \"offsetgroup\": \"water\", \"orientation\": \"h\", \"showlegend\": true, \"textposition\": \"auto\", \"type\": \"bar\", \"x\": [0.00017342729247140046, 0.00017342729247140046, 0.0006937091698856018, 0.001213991047299804, 0.0021492696971103266, 0.002254554802128207, 0.002601409387071008, 0.002948263972013807, 0.002948263972013807, 0.0032239045456654903, 0.005202818774142016, 0.006447809091330981, 0.0076308008687416195, 0.007804228161213023, 0.009191646500984226, 0.0118209833341068, 0.014047610690183435, 0.019549173539270773, 0.02133155697398226, 0.029015140910989414, 0.03421105369372385, 0.05695564697342366, 0.07330940077226542, 0.07845769318533109, 0.08359195497121504, 0.10018951438876274, 0.11913056927472018, 0.13195692139007772, 0.15394974162175742, 0.18327350193066352, 0.18327350193066352, 0.19793538208511657, 0.3127867766283324, 0.48188427926250077, 1.1958414707582352, 2.5309192695604006, 5.920753403142489], \"xaxis\": \"x\", \"y\": [\"Lenoir, nc\", \"Atlanta, ga\", \"Homewood, il\", \"Malibu, ca\", \"Union city, ca\", \"Elkhorn, wi\", \"Aurora, il\", \"Kennewick\", \"Kansas City, ms\", \"Sutton, ma\", \"Tupelo, ms\", \"Summer, wa\", \"Charlotte, nc\", \"Dallas, tx\", \"Marysville, mi\", \"Orlando, fl\", \"Aurora, il, \", \"Corsicana, tx\", \"Grand rapids, mi\", \"Richmond, va\", \"Wenatchee, wa\", \"Pomona, ca\", \"Port huron, mi\", \"Troyes\", \"Deerfield, il\", \"Conover, nc\", \"Anr\\u00f6chte\", \"Calgary\", \"Hopkinsville, ky\", \"Wurtland, ky\", \"Visalia, ca\", \"Queensbury, ny\", \"Sussex, wi,\", \"Plymouth, in,\", \"Oxford\", \"Basel\", \"Rouen\"], \"yaxis\": \"y\"}, {\"alignmentgroup\": \"True\", \"hovertemplate\": \"emission_group=teleworking<br>quantity_ghg_emissions=%{x}<br>site_location=%{y}<extra></extra>\", \"legendgroup\": \"teleworking\", \"marker\": {\"color\": \"#EF553B\"}, \"name\": \"teleworking\", \"offsetgroup\": \"teleworking\", \"orientation\": \"h\", \"showlegend\": true, \"textposition\": \"auto\", \"type\": \"bar\", \"x\": [0.01109568148675933, 0.012578267597291934, 0.01584254963415458, 0.03613280250754188, 0.03924895811782666, 0.041574004212627844, 0.05776918654043586, 0.05979021905677247, 0.0841652146617226, 0.09134425927564818, 0.09159110124987534, 0.11326657138863276, 0.12317455036299067, 0.15588974655057958, 0.1766825896797815, 0.18185297692834923, 0.19286963396440704, 0.3306399837293502, 0.3395597684434402, 0.4198910619760522, 0.47777203929803647, 0.4886368107512828, 0.5156364368289675, 0.5434055724222222, 0.594200887121457, 0.6313426454929217, 0.640199758730943, 0.6791195368868798, 0.7920666791787129, 0.8418119134738369, 1.053596763218013, 1.2543497557525694, 1.505851922612922, 1.7905707700996876, 3.2362720030603853, 4.788563325185037, 5.009283819152691], \"xaxis\": \"x\", \"y\": [\"Atlanta, ga\", \"Lenoir, nc\", \"Union city, ca\", \"Sutton, ma\", \"Summer, wa\", \"Homewood, il\", \"Troyes\", \"Port huron, mi\", \"Anr\\u00f6chte\", \"Corsicana, tx\", \"Wenatchee, wa\", \"Malibu, ca\", \"Orlando, fl\", \"Aurora, il\", \"Kennewick\", \"Elkhorn, wi\", \"Kansas City, ms\", \"Tupelo, ms\", \"Richmond, va\", \"Pomona, ca\", \"Charlotte, nc\", \"Dallas, tx\", \"Conover, nc\", \"Oxford\", \"Visalia, ca\", \"Basel\", \"Queensbury, ny\", \"Calgary\", \"Marysville, mi\", \"Aurora, il, \", \"Hopkinsville, ky\", \"Wurtland, ky\", \"Grand rapids, mi\", \"Sussex, wi,\", \"Plymouth, in,\", \"Rouen\", \"Deerfield, il\"], \"yaxis\": \"y\"}, {\"alignmentgroup\": \"True\", \"hovertemplate\": \"emission_group=waste<br>quantity_ghg_emissions=%{x}<br>site_location=%{y}<extra></extra>\", \"legendgroup\": \"waste\", \"marker\": {\"color\": \"#00cc96\"}, \"name\": \"waste\", \"offsetgroup\": \"waste\", \"orientation\": \"h\", \"showlegend\": true, \"textposition\": \"auto\", \"type\": \"bar\", \"x\": [0.01593884580280142, 0.018775887353259288, 0.054227372519415534, 0.7960721614999999, 0.8220572188000006, 1.4597712433200003, 1.4597712433200003, 2.1896440749600012, 2.9182299396, 3.246455766000001, 3.2851983756000007, 4.2810698096909965, 4.3191030948, 4.4803390499999995, 5.192027659200001, 5.839033813200001, 6.9179530308000015, 7.059346932000002, 8.541119919600005, 9.487758470399998, 10.948220374799998, 11.895658186800004, 11.951150943600002, 12.352677921599998, 12.352677921599998, 16.668402581999995, 21.793129247999996, 26.015119451999997, 36.534591904164635, 46.146087720000004, 55.01472865200002, 55.01472865200002, 58.95805571999998, 58.95805571999998, 340.92465097319996, 352.02215951999983], \"xaxis\": \"x\", \"y\": [\"Summer, wa\", \"Troyes\", \"Anr\\u00f6chte\", \"Basel\", \"Rouen\", \"Union city, ca\", \"Homewood, il\", \"Sutton, ma\", \"Pomona, ca\", \"Port huron, mi\", \"Calgary\", \"Oxford\", \"Atlanta, ga\", \"Wenatchee, wa\", \"Richmond, va\", \"Corsicana, tx\", \"Lenoir, nc\", \"Tupelo, ms\", \"Marysville, mi\", \"Elkhorn, wi\", \"Aurora, il\", \"Orlando, fl\", \"Malibu, ca\", \"Kennewick\", \"Kansas City, ms\", \"Conover, nc\", \"Sussex, wi,\", \"Grand rapids, mi\", \"Dallas, tx\", \"Hopkinsville, ky\", \"Wurtland, ky\", \"Visalia, ca\", \"Aurora, il, \", \"Queensbury, ny\", \"Plymouth, in,\", \"Deerfield, il\"], \"yaxis\": \"y\"}, {\"alignmentgroup\": \"True\", \"hovertemplate\": \"emission_group=electricity<br>quantity_ghg_emissions=%{x}<br>site_location=%{y}<extra></extra>\", \"legendgroup\": \"electricity\", \"marker\": {\"color\": \"#ab63fa\"}, \"name\": \"electricity\", \"offsetgroup\": \"electricity\", \"orientation\": \"h\", \"showlegend\": true, \"textposition\": \"auto\", \"type\": \"bar\", \"x\": [0.41862798159044845, 1.8126588756081878, 1.9187603974219862, 6.146746897149239, 6.433256733345827, 6.8939027341597985, 11.023811719423064, 12.259567091832286, 16.829597213358554, 17.70048133544873, 37.2272852700003, 37.56635695375258, 53.84208948344036, 66.63469403330919, 100.74779295126888, 102.17338860501714, 163.63671296903564, 190.98033030539037, 236.5679563533854, 255.35926498897237, 311.27110795371215, 343.94963224718254, 402.52086879714625, 663.8851798826202, 720.1272704246801, 1113.5354970750925, 1217.4513867415694, 1434.4523993693758, 1702.1847884096067, 2176.043388532264, 3322.0307446849024, 3402.361463853443, 3847.188775226981, 4833.684483017856, 5916.989365471681, 7124.6386832503385, 10371.188408511036, 14793.92802512424], \"xaxis\": \"x\", \"y\": [\"Richmond, va\", \"Troyes\", \"Plymouth, in, \", \"Lenoir, nc\", \"Summer, wa\", \"Union city, ca\", \"Malibu, ca\", \"Homewood, il\", \"Sutton, ma\", \"Atlanta, ga\", \"Oxford\", \"Dallas, tx\", \"Deerfield, il\", \"Anr\\u00f6chte\", \"Aurora, il\", \"Wenatchee, wa\", \"Aurora, il, \", \"Elkhorn, wi\", \"Charlotte, nc\", \"Kansas City, ms\", \"Orlando, fl\", \"Basel\", \"Pomona, ca\", \"Corsicana, tx\", \"Kennewick\", \"Port huron, mi\", \"Conover, nc\", \"Queensbury, ny\", \"Tupelo, ms\", \"Visalia, ca\", \"Calgary\", \"Rouen\", \"Hopkinsville, ky\", \"Marysville, mi\", \"Sussex, wi,\", \"Grand rapids, mi\", \"Wurtland, ky\", \"Plymouth, in,\"], \"yaxis\": \"y\"}, {\"alignmentgroup\": \"True\", \"hovertemplate\": \"emission_group=employee_commuting<br>quantity_ghg_emissions=%{x}<br>site_location=%{y}<extra></extra>\", \"legendgroup\": \"employee_commuting\", \"marker\": {\"color\": \"#FFA15A\"}, \"name\": \"employee_commuting\", \"offsetgroup\": \"employee_commuting\", \"orientation\": \"h\", \"showlegend\": true, \"textposition\": \"auto\", \"type\": \"bar\", \"x\": [1.3153754509999998, 1.6676799748000004, 3.0329250560999985, 3.4326245141999996, 3.51241164141088, 3.746977384900001, 4.7739915528, 5.0520590494999995, 6.0639204373, 6.361264387999999, 7.259281078699999, 11.023904440399999, 11.488554428899999, 11.788138493100002, 18.719408852699996, 21.771130049999996, 24.673939977299995, 26.18847557416772, 30.074729782400006, 31.80938781970001, 40.054872336100004, 41.85214168579999, 46.528279267799995, 47.5857354703, 51.2085470674, 76.83443932989998, 80.10974467220002, 88.52719806679998, 91.53226828010001, 101.16810525540001, 105.59738629959999, 114.7597562868, 117.56407825539996, 120.83100546880003, 181.75041625320003, 195.4997402739, 524.5543434323], \"xaxis\": \"x\", \"y\": [\"Lenoir, nc\", \"Atlanta, ga\", \"Union city, ca\", \"Troyes\", \"Anr\\u00f6chte\", \"Sutton, ma\", \"Port huron, mi\", \"Summer, wa\", \"Homewood, il\", \"Malibu, ca\", \"Corsicana, tx\", \"Orlando, fl\", \"Elkhorn, wi\", \"Wenatchee, wa\", \"Kansas City, ms\", \"Aurora, il\", \"Kennewick\", \"Basel\", \"Oxford\", \"Hopkinsville, ky\", \"Richmond, va\", \"Tupelo, ms\", \"Charlotte, nc\", \"Dallas, tx\", \"Conover, nc\", \"Pomona, ca\", \"Calgary\", \"Visalia, ca\", \"Marysville, mi\", \"Queensbury, ny\", \"Grand rapids, mi\", \"Wurtland, ky\", \"Aurora, il, \", \"Rouen\", \"Plymouth, in,\", \"Sussex, wi,\", \"Deerfield, il\"], \"yaxis\": \"y\"}, {\"alignmentgroup\": \"True\", \"hovertemplate\": \"emission_group=natural_gas<br>quantity_ghg_emissions=%{x}<br>site_location=%{y}<extra></extra>\", \"legendgroup\": \"natural_gas\", \"marker\": {\"color\": \"#19d3f3\"}, \"name\": \"natural_gas\", \"offsetgroup\": \"natural_gas\", \"orientation\": \"h\", \"showlegend\": true, \"textposition\": \"auto\", \"type\": \"bar\", \"x\": [1.3253418127183751, 7.868209184102455, 13.387318511773007, 17.385558554381376, 22.164793109139236, 31.125764375261113, 39.31017461685162, 58.11659974120001, 89.65672581259928, 110.94443243363345, 695.9448346462067, 778.95016791592, 832.3730425190865, 1142.9195461016668, 1203.200601869118, 1535.8731143662856, 1766.6981160437497, 1839.2193293292298, 1901.4245218054511, 2314.025805458422, 2406.2257712908095, 2732.0499671798666], \"xaxis\": \"x\", \"y\": [\"Homewood, il\", \"Pomona, ca\", \"Summer, wa\", \"Atlanta, ga\", \"Richmond, va\", \"Elkhorn, wi\", \"Plymouth, in,\", \"Oxford\", \"Aurora, il\", \"Charlotte, nc\", \"Wurtland, ky\", \"Basel\", \"Marysville, mi\", \"Rouen\", \"Visalia, ca\", \"Queensbury, ny\", \"Kennewick\", \"Malibu, ca\", \"Grand rapids, mi\", \"Calgary\", \"Conover, nc\", \"Sussex, wi,\"], \"yaxis\": \"y\"}, {\"alignmentgroup\": \"True\", \"hovertemplate\": \"emission_group=business_travel<br>quantity_ghg_emissions=%{x}<br>site_location=%{y}<extra></extra>\", \"legendgroup\": \"business_travel\", \"marker\": {\"color\": \"#FF6692\"}, \"name\": \"business_travel\", \"offsetgroup\": \"business_travel\", \"orientation\": \"h\", \"showlegend\": true, \"textposition\": \"auto\", \"type\": \"bar\", \"x\": [31.3395, 64.60501489911154, 453.5258303827586], \"xaxis\": \"x\", \"y\": [\"Basel\", \"Oxford\", \"Rouen\"], \"yaxis\": \"y\"}, {\"alignmentgroup\": \"True\", \"hovertemplate\": \"emission_group=fuel<br>quantity_ghg_emissions=%{x}<br>site_location=%{y}<extra></extra>\", \"legendgroup\": \"fuel\", \"marker\": {\"color\": \"#B6E880\"}, \"name\": \"fuel\", \"offsetgroup\": \"fuel\", \"orientation\": \"h\", \"showlegend\": true, \"textposition\": \"auto\", \"type\": \"bar\", \"x\": [106.68137836799994, 200.6744258663923, 1370.407618105021], \"xaxis\": \"x\", \"y\": [\"Basel\", \"Rouen\", \"Mordor llc (3104)\"], \"yaxis\": \"y\"}, {\"alignmentgroup\": \"True\", \"hovertemplate\": \"emission_group=purchases<br>quantity_ghg_emissions=%{x}<br>site_location=%{y}<extra></extra>\", \"legendgroup\": \"purchases\", \"marker\": {\"color\": \"#FF97FF\"}, \"name\": \"purchases\", \"offsetgroup\": \"purchases\", \"orientation\": \"h\", \"showlegend\": true, \"textposition\": \"auto\", \"type\": \"bar\", \"x\": [171.858418517515, 184.22343056306767, 608.9772462037464, 3832.661719678314, 6569.5682506225785, 8199.272038961699, 16677.633670008712, 21628.449276777534, 26503.043943687764, 111870.0046023826], \"xaxis\": \"x\", \"y\": [\"Troyes\", \"Mordor llc (3104)\", \"Basel\", \"Oxford\", \"Rouen\", \"Mordor films (2390)\", \"Mordor sharp (2410)\", \"Mordor intellipack (2370)\", \"Mordor polymask (2388)\", \"Mordor innovative (2305)\"], \"yaxis\": \"y\"}],\n",
       "                        {\"barmode\": \"relative\", \"legend\": {\"title\": {\"text\": \"emission_group\"}, \"tracegroupgap\": 0}, \"margin\": {\"t\": 60}, \"template\": {\"data\": {\"bar\": [{\"error_x\": {\"color\": \"#2a3f5f\"}, \"error_y\": {\"color\": \"#2a3f5f\"}, \"marker\": {\"line\": {\"color\": \"#E5ECF6\", \"width\": 0.5}}, \"type\": \"bar\"}], \"barpolar\": [{\"marker\": {\"line\": {\"color\": \"#E5ECF6\", \"width\": 0.5}}, \"type\": \"barpolar\"}], \"carpet\": [{\"aaxis\": {\"endlinecolor\": \"#2a3f5f\", \"gridcolor\": \"white\", \"linecolor\": \"white\", \"minorgridcolor\": \"white\", \"startlinecolor\": \"#2a3f5f\"}, \"baxis\": {\"endlinecolor\": \"#2a3f5f\", \"gridcolor\": \"white\", \"linecolor\": \"white\", \"minorgridcolor\": \"white\", \"startlinecolor\": \"#2a3f5f\"}, \"type\": \"carpet\"}], \"choropleth\": [{\"colorbar\": {\"outlinewidth\": 0, \"ticks\": \"\"}, \"type\": \"choropleth\"}], \"contour\": [{\"colorbar\": {\"outlinewidth\": 0, \"ticks\": \"\"}, \"colorscale\": [[0.0, \"#0d0887\"], [0.1111111111111111, \"#46039f\"], [0.2222222222222222, \"#7201a8\"], [0.3333333333333333, \"#9c179e\"], [0.4444444444444444, \"#bd3786\"], [0.5555555555555556, \"#d8576b\"], [0.6666666666666666, \"#ed7953\"], [0.7777777777777778, \"#fb9f3a\"], [0.8888888888888888, \"#fdca26\"], [1.0, \"#f0f921\"]], \"type\": \"contour\"}], \"contourcarpet\": [{\"colorbar\": {\"outlinewidth\": 0, \"ticks\": \"\"}, \"type\": \"contourcarpet\"}], \"heatmap\": [{\"colorbar\": {\"outlinewidth\": 0, \"ticks\": \"\"}, \"colorscale\": [[0.0, \"#0d0887\"], [0.1111111111111111, \"#46039f\"], [0.2222222222222222, \"#7201a8\"], [0.3333333333333333, \"#9c179e\"], [0.4444444444444444, \"#bd3786\"], [0.5555555555555556, \"#d8576b\"], [0.6666666666666666, \"#ed7953\"], [0.7777777777777778, \"#fb9f3a\"], [0.8888888888888888, \"#fdca26\"], [1.0, \"#f0f921\"]], \"type\": \"heatmap\"}], \"heatmapgl\": [{\"colorbar\": {\"outlinewidth\": 0, \"ticks\": \"\"}, \"colorscale\": [[0.0, \"#0d0887\"], [0.1111111111111111, \"#46039f\"], [0.2222222222222222, \"#7201a8\"], [0.3333333333333333, \"#9c179e\"], [0.4444444444444444, \"#bd3786\"], [0.5555555555555556, \"#d8576b\"], [0.6666666666666666, \"#ed7953\"], [0.7777777777777778, \"#fb9f3a\"], [0.8888888888888888, \"#fdca26\"], [1.0, \"#f0f921\"]], \"type\": \"heatmapgl\"}], \"histogram\": [{\"marker\": {\"colorbar\": {\"outlinewidth\": 0, \"ticks\": \"\"}}, \"type\": \"histogram\"}], \"histogram2d\": [{\"colorbar\": {\"outlinewidth\": 0, \"ticks\": \"\"}, \"colorscale\": [[0.0, \"#0d0887\"], [0.1111111111111111, \"#46039f\"], [0.2222222222222222, \"#7201a8\"], [0.3333333333333333, \"#9c179e\"], [0.4444444444444444, \"#bd3786\"], [0.5555555555555556, \"#d8576b\"], [0.6666666666666666, \"#ed7953\"], [0.7777777777777778, \"#fb9f3a\"], [0.8888888888888888, \"#fdca26\"], [1.0, \"#f0f921\"]], \"type\": \"histogram2d\"}], \"histogram2dcontour\": [{\"colorbar\": {\"outlinewidth\": 0, \"ticks\": \"\"}, \"colorscale\": [[0.0, \"#0d0887\"], [0.1111111111111111, \"#46039f\"], [0.2222222222222222, \"#7201a8\"], [0.3333333333333333, \"#9c179e\"], [0.4444444444444444, \"#bd3786\"], [0.5555555555555556, \"#d8576b\"], [0.6666666666666666, \"#ed7953\"], [0.7777777777777778, \"#fb9f3a\"], [0.8888888888888888, \"#fdca26\"], [1.0, \"#f0f921\"]], \"type\": \"histogram2dcontour\"}], \"mesh3d\": [{\"colorbar\": {\"outlinewidth\": 0, \"ticks\": \"\"}, \"type\": \"mesh3d\"}], \"parcoords\": [{\"line\": {\"colorbar\": {\"outlinewidth\": 0, \"ticks\": \"\"}}, \"type\": \"parcoords\"}], \"pie\": [{\"automargin\": true, \"type\": \"pie\"}], \"scatter\": [{\"marker\": {\"colorbar\": {\"outlinewidth\": 0, \"ticks\": \"\"}}, \"type\": \"scatter\"}], \"scatter3d\": [{\"line\": {\"colorbar\": {\"outlinewidth\": 0, \"ticks\": \"\"}}, \"marker\": {\"colorbar\": {\"outlinewidth\": 0, \"ticks\": \"\"}}, \"type\": \"scatter3d\"}], \"scattercarpet\": [{\"marker\": {\"colorbar\": {\"outlinewidth\": 0, \"ticks\": \"\"}}, \"type\": \"scattercarpet\"}], \"scattergeo\": [{\"marker\": {\"colorbar\": {\"outlinewidth\": 0, \"ticks\": \"\"}}, \"type\": \"scattergeo\"}], \"scattergl\": [{\"marker\": {\"colorbar\": {\"outlinewidth\": 0, \"ticks\": \"\"}}, \"type\": \"scattergl\"}], \"scattermapbox\": [{\"marker\": {\"colorbar\": {\"outlinewidth\": 0, \"ticks\": \"\"}}, \"type\": \"scattermapbox\"}], \"scatterpolar\": [{\"marker\": {\"colorbar\": {\"outlinewidth\": 0, \"ticks\": \"\"}}, \"type\": \"scatterpolar\"}], \"scatterpolargl\": [{\"marker\": {\"colorbar\": {\"outlinewidth\": 0, \"ticks\": \"\"}}, \"type\": \"scatterpolargl\"}], \"scatterternary\": [{\"marker\": {\"colorbar\": {\"outlinewidth\": 0, \"ticks\": \"\"}}, \"type\": \"scatterternary\"}], \"surface\": [{\"colorbar\": {\"outlinewidth\": 0, \"ticks\": \"\"}, \"colorscale\": [[0.0, \"#0d0887\"], [0.1111111111111111, \"#46039f\"], [0.2222222222222222, \"#7201a8\"], [0.3333333333333333, \"#9c179e\"], [0.4444444444444444, \"#bd3786\"], [0.5555555555555556, \"#d8576b\"], [0.6666666666666666, \"#ed7953\"], [0.7777777777777778, \"#fb9f3a\"], [0.8888888888888888, \"#fdca26\"], [1.0, \"#f0f921\"]], \"type\": \"surface\"}], \"table\": [{\"cells\": {\"fill\": {\"color\": \"#EBF0F8\"}, \"line\": {\"color\": \"white\"}}, \"header\": {\"fill\": {\"color\": \"#C8D4E3\"}, \"line\": {\"color\": \"white\"}}, \"type\": \"table\"}]}, \"layout\": {\"annotationdefaults\": {\"arrowcolor\": \"#2a3f5f\", \"arrowhead\": 0, \"arrowwidth\": 1}, \"coloraxis\": {\"colorbar\": {\"outlinewidth\": 0, \"ticks\": \"\"}}, \"colorscale\": {\"diverging\": [[0, \"#8e0152\"], [0.1, \"#c51b7d\"], [0.2, \"#de77ae\"], [0.3, \"#f1b6da\"], [0.4, \"#fde0ef\"], [0.5, \"#f7f7f7\"], [0.6, \"#e6f5d0\"], [0.7, \"#b8e186\"], [0.8, \"#7fbc41\"], [0.9, \"#4d9221\"], [1, \"#276419\"]], \"sequential\": [[0.0, \"#0d0887\"], [0.1111111111111111, \"#46039f\"], [0.2222222222222222, \"#7201a8\"], [0.3333333333333333, \"#9c179e\"], [0.4444444444444444, \"#bd3786\"], [0.5555555555555556, \"#d8576b\"], [0.6666666666666666, \"#ed7953\"], [0.7777777777777778, \"#fb9f3a\"], [0.8888888888888888, \"#fdca26\"], [1.0, \"#f0f921\"]], \"sequentialminus\": [[0.0, \"#0d0887\"], [0.1111111111111111, \"#46039f\"], [0.2222222222222222, \"#7201a8\"], [0.3333333333333333, \"#9c179e\"], [0.4444444444444444, \"#bd3786\"], [0.5555555555555556, \"#d8576b\"], [0.6666666666666666, \"#ed7953\"], [0.7777777777777778, \"#fb9f3a\"], [0.8888888888888888, \"#fdca26\"], [1.0, \"#f0f921\"]]}, \"colorway\": [\"#636efa\", \"#EF553B\", \"#00cc96\", \"#ab63fa\", \"#FFA15A\", \"#19d3f3\", \"#FF6692\", \"#B6E880\", \"#FF97FF\", \"#FECB52\"], \"font\": {\"color\": \"#2a3f5f\"}, \"geo\": {\"bgcolor\": \"white\", \"lakecolor\": \"white\", \"landcolor\": \"#E5ECF6\", \"showlakes\": true, \"showland\": true, \"subunitcolor\": \"white\"}, \"hoverlabel\": {\"align\": \"left\"}, \"hovermode\": \"closest\", \"mapbox\": {\"style\": \"light\"}, \"paper_bgcolor\": \"white\", \"plot_bgcolor\": \"#E5ECF6\", \"polar\": {\"angularaxis\": {\"gridcolor\": \"white\", \"linecolor\": \"white\", \"ticks\": \"\"}, \"bgcolor\": \"#E5ECF6\", \"radialaxis\": {\"gridcolor\": \"white\", \"linecolor\": \"white\", \"ticks\": \"\"}}, \"scene\": {\"xaxis\": {\"backgroundcolor\": \"#E5ECF6\", \"gridcolor\": \"white\", \"gridwidth\": 2, \"linecolor\": \"white\", \"showbackground\": true, \"ticks\": \"\", \"zerolinecolor\": \"white\"}, \"yaxis\": {\"backgroundcolor\": \"#E5ECF6\", \"gridcolor\": \"white\", \"gridwidth\": 2, \"linecolor\": \"white\", \"showbackground\": true, \"ticks\": \"\", \"zerolinecolor\": \"white\"}, \"zaxis\": {\"backgroundcolor\": \"#E5ECF6\", \"gridcolor\": \"white\", \"gridwidth\": 2, \"linecolor\": \"white\", \"showbackground\": true, \"ticks\": \"\", \"zerolinecolor\": \"white\"}}, \"shapedefaults\": {\"line\": {\"color\": \"#2a3f5f\"}}, \"ternary\": {\"aaxis\": {\"gridcolor\": \"white\", \"linecolor\": \"white\", \"ticks\": \"\"}, \"baxis\": {\"gridcolor\": \"white\", \"linecolor\": \"white\", \"ticks\": \"\"}, \"bgcolor\": \"#E5ECF6\", \"caxis\": {\"gridcolor\": \"white\", \"linecolor\": \"white\", \"ticks\": \"\"}}, \"title\": {\"x\": 0.05}, \"xaxis\": {\"automargin\": true, \"gridcolor\": \"white\", \"linecolor\": \"white\", \"ticks\": \"\", \"title\": {\"standoff\": 15}, \"zerolinecolor\": \"white\", \"zerolinewidth\": 2}, \"yaxis\": {\"automargin\": true, \"gridcolor\": \"white\", \"linecolor\": \"white\", \"ticks\": \"\", \"title\": {\"standoff\": 15}, \"zerolinecolor\": \"white\", \"zerolinewidth\": 2}}}, \"xaxis\": {\"anchor\": \"y\", \"domain\": [0.0, 1.0], \"title\": {\"text\": \"quantity_ghg_emissions\"}}, \"yaxis\": {\"anchor\": \"x\", \"domain\": [0.0, 1.0], \"title\": {\"text\": \"site_location\"}}},\n",
       "                        {\"responsive\": true}\n",
       "                    ).then(function(){\n",
       "                            \n",
       "var gd = document.getElementById('829ad8aa-663a-480f-891f-4050b562e655');\n",
       "var x = new MutationObserver(function (mutations, observer) {{\n",
       "        var display = window.getComputedStyle(gd).display;\n",
       "        if (!display || display === 'none') {{\n",
       "            console.log([gd, 'removed!']);\n",
       "            Plotly.purge(gd);\n",
       "            observer.disconnect();\n",
       "        }}\n",
       "}});\n",
       "\n",
       "// Listen for the removal of the full notebook cells\n",
       "var notebookContainer = gd.closest('#notebook-container');\n",
       "if (notebookContainer) {{\n",
       "    x.observe(notebookContainer, {childList: true});\n",
       "}}\n",
       "\n",
       "// Listen for the clearing of the current output cell\n",
       "var outputEl = gd.closest('.output');\n",
       "if (outputEl) {{\n",
       "    x.observe(outputEl, {childList: true});\n",
       "}}\n",
       "\n",
       "                        })\n",
       "                };\n",
       "                });\n",
       "            </script>\n",
       "        </div>"
      ]
     },
     "metadata": {},
     "output_type": "display_data"
    }
   ],
   "source": [
    "by_geography = (df.groupby(['site_location', 'emission_group'])['quantity_ghg_emissions'].sum() / 1000).to_frame().reset_index().sort_values(by='quantity_ghg_emissions')\n",
    "\n",
    "fig = px.bar(by_geography,\n",
    "             y='site_location', \n",
    "             x='quantity_ghg_emissions', \n",
    "             color='emission_group',\n",
    "             orientation='h'\n",
    "             #text=by_geography['quantity_ghg_emissions'], \n",
    "                       #text_template=\"%{text:,.0f}\"\n",
    "                      )\n",
    "#fig.update_data(texttemplate = f\"{text}\")\n",
    "fig.show()"
   ]
  },
  {
   "cell_type": "code",
   "execution_count": null,
   "metadata": {},
   "outputs": [],
   "source": [
    "df[df['site_location'] == 'Mordor polymask'].groupby('')"
   ]
  },
  {
   "cell_type": "code",
   "execution_count": 117,
   "metadata": {},
   "outputs": [
    {
     "data": {
      "text/plain": [
       "['business_travel',\n",
       " 'electricity',\n",
       " 'purchases',\n",
       " 'employee_commuting',\n",
       " 'fuel',\n",
       " 'natural_gas',\n",
       " 'teleworking',\n",
       " 'waste',\n",
       " 'water']"
      ]
     },
     "execution_count": 117,
     "metadata": {},
     "output_type": "execute_result"
    }
   ],
   "source": [
    "df['emission_group'].unique().tolist()"
   ]
  },
  {
   "cell_type": "code",
   "execution_count": 139,
   "metadata": {},
   "outputs": [
    {
     "data": {
      "text/html": [
       "<div>\n",
       "<style scoped>\n",
       "    .dataframe tbody tr th:only-of-type {\n",
       "        vertical-align: middle;\n",
       "    }\n",
       "\n",
       "    .dataframe tbody tr th {\n",
       "        vertical-align: top;\n",
       "    }\n",
       "\n",
       "    .dataframe thead th {\n",
       "        text-align: right;\n",
       "    }\n",
       "</style>\n",
       "<table border=\"1\" class=\"dataframe\">\n",
       "  <thead>\n",
       "    <tr style=\"text-align: right;\">\n",
       "      <th></th>\n",
       "      <th>name</th>\n",
       "      <th>quantity_ghg_emissions</th>\n",
       "      <th>dimension</th>\n",
       "    </tr>\n",
       "  </thead>\n",
       "  <tbody>\n",
       "    <tr>\n",
       "      <th>2</th>\n",
       "      <td>3</td>\n",
       "      <td>205666.034920</td>\n",
       "      <td>scope</td>\n",
       "    </tr>\n",
       "    <tr>\n",
       "      <th>0</th>\n",
       "      <td>Purchased goods and services</td>\n",
       "      <td>196245.692597</td>\n",
       "      <td>source_type</td>\n",
       "    </tr>\n",
       "    <tr>\n",
       "      <th>7</th>\n",
       "      <td>Purchased goods and services</td>\n",
       "      <td>174509.249343</td>\n",
       "      <td>category</td>\n",
       "    </tr>\n",
       "    <tr>\n",
       "      <th>21</th>\n",
       "      <td>Mordor innovative (2305)</td>\n",
       "      <td>111870.004602</td>\n",
       "      <td>site_location</td>\n",
       "    </tr>\n",
       "    <tr>\n",
       "      <th>1</th>\n",
       "      <td>2</td>\n",
       "      <td>62163.946597</td>\n",
       "      <td>scope</td>\n",
       "    </tr>\n",
       "    <tr>\n",
       "      <th>6</th>\n",
       "      <td>Purchased electricity</td>\n",
       "      <td>62163.946597</td>\n",
       "      <td>category</td>\n",
       "    </tr>\n",
       "    <tr>\n",
       "      <th>115</th>\n",
       "      <td>Plastics, basic</td>\n",
       "      <td>54984.386622</td>\n",
       "      <td>emission_factor</td>\n",
       "    </tr>\n",
       "    <tr>\n",
       "      <th>123</th>\n",
       "      <td>Manufacture of plastics and synthetic rubber i...</td>\n",
       "      <td>54984.222391</td>\n",
       "      <td>isic</td>\n",
       "    </tr>\n",
       "    <tr>\n",
       "      <th>68</th>\n",
       "      <td>Manufacture of chemicals and chemical products</td>\n",
       "      <td>38661.891693</td>\n",
       "      <td>isic</td>\n",
       "    </tr>\n",
       "    <tr>\n",
       "      <th>12</th>\n",
       "      <td>Aggregated emission factor - join of: i24.a, i...</td>\n",
       "      <td>38334.474123</td>\n",
       "      <td>emission_factor</td>\n",
       "    </tr>\n",
       "    <tr>\n",
       "      <th>24</th>\n",
       "      <td>Mordor polymask (2388)</td>\n",
       "      <td>26503.043944</td>\n",
       "      <td>site_location</td>\n",
       "    </tr>\n",
       "    <tr>\n",
       "      <th>22</th>\n",
       "      <td>Mordor intellipack (2370)</td>\n",
       "      <td>21628.449277</td>\n",
       "      <td>site_location</td>\n",
       "    </tr>\n",
       "    <tr>\n",
       "      <th>121</th>\n",
       "      <td>Manufacture of paper and paper products</td>\n",
       "      <td>21193.374808</td>\n",
       "      <td>isic</td>\n",
       "    </tr>\n",
       "    <tr>\n",
       "      <th>167</th>\n",
       "      <td>Use of gaseous fuel, natural gas</td>\n",
       "      <td>19553.937724</td>\n",
       "      <td>emission_factor</td>\n",
       "    </tr>\n",
       "    <tr>\n",
       "      <th>0</th>\n",
       "      <td>1</td>\n",
       "      <td>18705.794045</td>\n",
       "      <td>scope</td>\n",
       "    </tr>\n",
       "    <tr>\n",
       "      <th>97</th>\n",
       "      <td>Manufacture of rubber and plastic products (25)</td>\n",
       "      <td>18555.433541</td>\n",
       "      <td>emission_factor</td>\n",
       "    </tr>\n",
       "    <tr>\n",
       "      <th>124</th>\n",
       "      <td>Manufacture of plastics products</td>\n",
       "      <td>17571.754612</td>\n",
       "      <td>isic</td>\n",
       "    </tr>\n",
       "    <tr>\n",
       "      <th>8</th>\n",
       "      <td>Stationary combustion</td>\n",
       "      <td>17561.463551</td>\n",
       "      <td>category</td>\n",
       "    </tr>\n",
       "    <tr>\n",
       "      <th>25</th>\n",
       "      <td>Mordor sharp (2410)</td>\n",
       "      <td>16677.633670</td>\n",
       "      <td>site_location</td>\n",
       "    </tr>\n",
       "    <tr>\n",
       "      <th>28</th>\n",
       "      <td>Plymouth, in,</td>\n",
       "      <td>15359.631423</td>\n",
       "      <td>site_location</td>\n",
       "    </tr>\n",
       "  </tbody>\n",
       "</table>\n",
       "</div>"
      ],
      "text/plain": [
       "                                                  name  \\\n",
       "2                                                    3   \n",
       "0                         Purchased goods and services   \n",
       "7                         Purchased goods and services   \n",
       "21                            Mordor innovative (2305)   \n",
       "1                                                    2   \n",
       "6                                Purchased electricity   \n",
       "115                                    Plastics, basic   \n",
       "123  Manufacture of plastics and synthetic rubber i...   \n",
       "68      Manufacture of chemicals and chemical products   \n",
       "12   Aggregated emission factor - join of: i24.a, i...   \n",
       "24                              Mordor polymask (2388)   \n",
       "22                           Mordor intellipack (2370)   \n",
       "121            Manufacture of paper and paper products   \n",
       "167                   Use of gaseous fuel, natural gas   \n",
       "0                                                    1   \n",
       "97     Manufacture of rubber and plastic products (25)   \n",
       "124                   Manufacture of plastics products   \n",
       "8                                Stationary combustion   \n",
       "25                                 Mordor sharp (2410)   \n",
       "28                                       Plymouth, in,   \n",
       "\n",
       "     quantity_ghg_emissions        dimension  \n",
       "2             205666.034920            scope  \n",
       "0             196245.692597      source_type  \n",
       "7             174509.249343         category  \n",
       "21            111870.004602    site_location  \n",
       "1              62163.946597            scope  \n",
       "6              62163.946597         category  \n",
       "115            54984.386622  emission_factor  \n",
       "123            54984.222391             isic  \n",
       "68             38661.891693             isic  \n",
       "12             38334.474123  emission_factor  \n",
       "24             26503.043944    site_location  \n",
       "22             21628.449277    site_location  \n",
       "121            21193.374808             isic  \n",
       "167            19553.937724  emission_factor  \n",
       "0              18705.794045            scope  \n",
       "97             18555.433541  emission_factor  \n",
       "124            17571.754612             isic  \n",
       "8              17561.463551         category  \n",
       "25             16677.633670    site_location  \n",
       "28             15359.631423    site_location  "
      ]
     },
     "execution_count": 139,
     "metadata": {},
     "output_type": "execute_result"
    }
   ],
   "source": [
    "top_cat_df = pd.DataFrame()\n",
    "\n",
    "for col in ['site_location', 'scope', 'category', 'emission_factor', 'source_type', 'isic']:\n",
    "    temp_df = df.groupby(col)['quantity_ghg_emissions'].sum() / 1000\n",
    "    temp_df = temp_df.to_frame().reset_index()\n",
    "    temp_df = temp_df.rename(columns={col: 'name'})\n",
    "    temp_df['dimension'] = col\n",
    "    top_cat_df = pd.concat([top_cat_df, temp_df])\n",
    "    \n",
    "top_cat_df.sort_values(by='quantity_ghg_emissions', ascending=False).head(20)\n",
    "    "
   ]
  },
  {
   "cell_type": "code",
   "execution_count": null,
   "metadata": {},
   "outputs": [],
   "source": []
  },
  {
   "cell_type": "code",
   "execution_count": 141,
   "metadata": {},
   "outputs": [
    {
     "data": {
      "text/plain": [
       "['none',\n",
       " 'site_location',\n",
       " 'scope',\n",
       " 'category',\n",
       " 'emission_group',\n",
       " 'source_type',\n",
       " 'isic',\n",
       " 'emission_factor']"
      ]
     },
     "execution_count": 141,
     "metadata": {},
     "output_type": "execute_result"
    }
   ],
   "source": [
    "cats = ['site_location', 'scope', 'category', 'emission_group', 'source_type', 'isic', 'emission_factor']\n",
    "\n",
    "['none'] + cats"
   ]
  }
 ],
 "metadata": {
  "kernelspec": {
   "display_name": "Python 3",
   "language": "python",
   "name": "python3"
  },
  "language_info": {
   "codemirror_mode": {
    "name": "ipython",
    "version": 3
   },
   "file_extension": ".py",
   "mimetype": "text/x-python",
   "name": "python",
   "nbconvert_exporter": "python",
   "pygments_lexer": "ipython3",
   "version": "3.7.7"
  }
 },
 "nbformat": 4,
 "nbformat_minor": 4
}
