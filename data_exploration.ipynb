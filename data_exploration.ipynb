{
 "cells": [
  {
   "cell_type": "code",
   "execution_count": 2,
   "metadata": {},
   "outputs": [],
   "source": [
    "import pandas as pd\n",
    "import plotly.express as px\n",
    "from tqdm.notebook import tqdm"
   ]
  },
  {
   "cell_type": "code",
   "execution_count": 2,
   "metadata": {},
   "outputs": [],
   "source": [
    "xlsx = pd.ExcelFile('Mordor LLC Emissions Calculations Report 08-12-2021.xlsx')"
   ]
  },
  {
   "cell_type": "code",
   "execution_count": 38,
   "metadata": {},
   "outputs": [
    {
     "data": {
      "application/vnd.jupyter.widget-view+json": {
       "model_id": "4a7601993d994d85a8a011826202dd41",
       "version_major": 2,
       "version_minor": 0
      },
      "text/plain": [
       "HBox(children=(FloatProgress(value=0.0, max=10.0), HTML(value='')))"
      ]
     },
     "metadata": {},
     "output_type": "display_data"
    },
    {
     "name": "stderr",
     "output_type": "stream",
     "text": [
      "/usr/local/lib/python3.7/site-packages/openpyxl/worksheet/_reader.py:300: UserWarning: Unknown extension is not supported and will be removed\n",
      "  warn(msg)\n"
     ]
    },
    {
     "name": "stdout",
     "output_type": "stream",
     "text": [
      "\n"
     ]
    },
    {
     "data": {
      "text/html": [
       "<div>\n",
       "<style scoped>\n",
       "    .dataframe tbody tr th:only-of-type {\n",
       "        vertical-align: middle;\n",
       "    }\n",
       "\n",
       "    .dataframe tbody tr th {\n",
       "        vertical-align: top;\n",
       "    }\n",
       "\n",
       "    .dataframe thead th {\n",
       "        text-align: right;\n",
       "    }\n",
       "</style>\n",
       "<table border=\"1\" class=\"dataframe\">\n",
       "  <thead>\n",
       "    <tr style=\"text-align: right;\">\n",
       "      <th></th>\n",
       "      <th>date</th>\n",
       "      <th>site_location</th>\n",
       "      <th>quantity</th>\n",
       "      <th>source_unit</th>\n",
       "      <th>conversion</th>\n",
       "      <th>quantity_ghg_emissions</th>\n",
       "      <th>emissions_unit</th>\n",
       "      <th>emission_factor</th>\n",
       "      <th>emission_factor_unit</th>\n",
       "      <th>source_of_emission_factor</th>\n",
       "      <th>scope</th>\n",
       "      <th>category</th>\n",
       "      <th>emission_group</th>\n",
       "      <th>source_type</th>\n",
       "      <th>isic</th>\n",
       "    </tr>\n",
       "  </thead>\n",
       "  <tbody>\n",
       "    <tr>\n",
       "      <th>0</th>\n",
       "      <td>01/01/2019</td>\n",
       "      <td>Rouen</td>\n",
       "      <td>83333.33333</td>\n",
       "      <td>Km</td>\n",
       "      <td>NaN</td>\n",
       "      <td>14036.666666</td>\n",
       "      <td>Kgco2e</td>\n",
       "      <td>Use of passengers by car, average car (diesel)</td>\n",
       "      <td>Km</td>\n",
       "      <td>Defra</td>\n",
       "      <td>3</td>\n",
       "      <td>Business travel</td>\n",
       "      <td>business_travel</td>\n",
       "      <td>NaN</td>\n",
       "      <td>NaN</td>\n",
       "    </tr>\n",
       "    <tr>\n",
       "      <th>1</th>\n",
       "      <td>01/01/2019</td>\n",
       "      <td>Rouen</td>\n",
       "      <td>83333.33333</td>\n",
       "      <td>Km</td>\n",
       "      <td>NaN</td>\n",
       "      <td>3374.166667</td>\n",
       "      <td>Kgco2e</td>\n",
       "      <td>Use of passengers by car, average car (diesel)</td>\n",
       "      <td>Km</td>\n",
       "      <td>Defra</td>\n",
       "      <td>3</td>\n",
       "      <td>Fuel and energy related services</td>\n",
       "      <td>business_travel</td>\n",
       "      <td>NaN</td>\n",
       "      <td>NaN</td>\n",
       "    </tr>\n",
       "    <tr>\n",
       "      <th>2</th>\n",
       "      <td>01/01/2019</td>\n",
       "      <td>Rouen</td>\n",
       "      <td>83333.33333</td>\n",
       "      <td>Km</td>\n",
       "      <td>NaN</td>\n",
       "      <td>14524.999999</td>\n",
       "      <td>Kgco2e</td>\n",
       "      <td>Use of passengers by car, average car (petrol)</td>\n",
       "      <td>Km</td>\n",
       "      <td>Defra</td>\n",
       "      <td>3</td>\n",
       "      <td>Business travel</td>\n",
       "      <td>business_travel</td>\n",
       "      <td>NaN</td>\n",
       "      <td>NaN</td>\n",
       "    </tr>\n",
       "    <tr>\n",
       "      <th>3</th>\n",
       "      <td>01/01/2019</td>\n",
       "      <td>Rouen</td>\n",
       "      <td>83333.33333</td>\n",
       "      <td>Km</td>\n",
       "      <td>NaN</td>\n",
       "      <td>3984.166667</td>\n",
       "      <td>Kgco2e</td>\n",
       "      <td>Use of passengers by car, average car (petrol)</td>\n",
       "      <td>Km</td>\n",
       "      <td>Defra</td>\n",
       "      <td>3</td>\n",
       "      <td>Fuel and energy related services</td>\n",
       "      <td>business_travel</td>\n",
       "      <td>NaN</td>\n",
       "      <td>NaN</td>\n",
       "    </tr>\n",
       "    <tr>\n",
       "      <th>4</th>\n",
       "      <td>01/01/2019</td>\n",
       "      <td>Oxford</td>\n",
       "      <td>12500.00000</td>\n",
       "      <td>Km</td>\n",
       "      <td>NaN</td>\n",
       "      <td>2105.500000</td>\n",
       "      <td>Kgco2e</td>\n",
       "      <td>Use of passengers by car, average car (diesel)</td>\n",
       "      <td>Km</td>\n",
       "      <td>Defra</td>\n",
       "      <td>3</td>\n",
       "      <td>Business travel</td>\n",
       "      <td>business_travel</td>\n",
       "      <td>NaN</td>\n",
       "      <td>NaN</td>\n",
       "    </tr>\n",
       "  </tbody>\n",
       "</table>\n",
       "</div>"
      ],
      "text/plain": [
       "         date site_location     quantity source_unit conversion  \\\n",
       "0  01/01/2019         Rouen  83333.33333          Km        NaN   \n",
       "1  01/01/2019         Rouen  83333.33333          Km        NaN   \n",
       "2  01/01/2019         Rouen  83333.33333          Km        NaN   \n",
       "3  01/01/2019         Rouen  83333.33333          Km        NaN   \n",
       "4  01/01/2019        Oxford  12500.00000          Km        NaN   \n",
       "\n",
       "   quantity_ghg_emissions emissions_unit  \\\n",
       "0            14036.666666         Kgco2e   \n",
       "1             3374.166667         Kgco2e   \n",
       "2            14524.999999         Kgco2e   \n",
       "3             3984.166667         Kgco2e   \n",
       "4             2105.500000         Kgco2e   \n",
       "\n",
       "                                  emission_factor emission_factor_unit  \\\n",
       "0  Use of passengers by car, average car (diesel)                   Km   \n",
       "1  Use of passengers by car, average car (diesel)                   Km   \n",
       "2  Use of passengers by car, average car (petrol)                   Km   \n",
       "3  Use of passengers by car, average car (petrol)                   Km   \n",
       "4  Use of passengers by car, average car (diesel)                   Km   \n",
       "\n",
       "  source_of_emission_factor  scope                          category  \\\n",
       "0                     Defra      3                   Business travel   \n",
       "1                     Defra      3  Fuel and energy related services   \n",
       "2                     Defra      3                   Business travel   \n",
       "3                     Defra      3  Fuel and energy related services   \n",
       "4                     Defra      3                   Business travel   \n",
       "\n",
       "    emission_group source_type isic  \n",
       "0  business_travel         NaN  NaN  \n",
       "1  business_travel         NaN  NaN  \n",
       "2  business_travel         NaN  NaN  \n",
       "3  business_travel         NaN  NaN  \n",
       "4  business_travel         NaN  NaN  "
      ]
     },
     "execution_count": 38,
     "metadata": {},
     "output_type": "execute_result"
    }
   ],
   "source": [
    "df = pd.DataFrame()\n",
    "sheets = xlsx.sheet_names\n",
    "\n",
    "for sheet in tqdm(sheets):\n",
    "    if sheet != 'Notes':\n",
    "        temp_df = pd.read_excel(xlsx, sheet)\n",
    "        \n",
    "        column_names = [col.strip()\n",
    "                          .lower()\n",
    "                          .replace(' ', '_')\n",
    "                          .replace('(', '')\n",
    "                          .replace(')', '') for col in temp_df.columns]\n",
    "        \n",
    "        temp_df.columns = column_names\n",
    "        \n",
    "        temp_df = temp_df[[col for col in column_names if 'unnamed' not in col]]\n",
    "        \n",
    "        temp_df['emission_group'] = sheet.lower().replace(' ', '_')\n",
    "        \n",
    "        df = pd.concat([df, temp_df], ignore_index=True)\n",
    "\n",
    "df.date = pd.to_datetime(df.date)   \n",
    "df.month = df.date.to_period('M').astype('str')\n",
    "df.head()"
   ]
  },
  {
   "cell_type": "code",
   "execution_count": 84,
   "metadata": {},
   "outputs": [
    {
     "data": {
      "text/plain": [
       "286535.77556205954"
      ]
     },
     "execution_count": 84,
     "metadata": {},
     "output_type": "execute_result"
    }
   ],
   "source": [
    "df['quantity_ghg_emissions'].sum() / 1000"
   ]
  },
  {
   "cell_type": "code",
   "execution_count": 4,
   "metadata": {},
   "outputs": [
    {
     "name": "stderr",
     "output_type": "stream",
     "text": [
      "/var/folders/rg/s50tlyns0bv_dxxslnjf9l8w0000gn/T/ipykernel_56450/2992130303.py:1: DtypeWarning: Columns (14,15) have mixed types. Specify dtype option on import or set low_memory=False.\n",
      "  df2 = pd.read_csv('data.csv')\n"
     ]
    },
    {
     "data": {
      "text/plain": [
       "Unnamed: 0                     int64\n",
       "date                          object\n",
       "site_location                 object\n",
       "quantity                     float64\n",
       "source_unit                   object\n",
       "conversion                    object\n",
       "quantity_ghg_emissions       float64\n",
       "emissions_unit                object\n",
       "emission_factor               object\n",
       "emission_factor_unit          object\n",
       "source_of_emission_factor     object\n",
       "scope                        float64\n",
       "category                      object\n",
       "emission_group                object\n",
       "source_type                   object\n",
       "isic                          object\n",
       "dtype: object"
      ]
     },
     "execution_count": 4,
     "metadata": {},
     "output_type": "execute_result"
    }
   ],
   "source": [
    "df2 = pd.read_csv('data.csv')\n",
    "df2.dtypes"
   ]
  },
  {
   "cell_type": "code",
   "execution_count": 44,
   "metadata": {},
   "outputs": [
    {
     "data": {
      "text/plain": [
       "emission_group\n",
       "purchases             196245.692597\n",
       "electricity            65023.604751\n",
       "natural_gas            19540.189737\n",
       "employee_commuting      2259.714238\n",
       "fuel                    1677.763422\n",
       "waste                   1199.933989\n",
       "business_travel          549.470345\n",
       "teleworking               27.417640\n",
       "water                     11.988842\n",
       "Name: quantity_ghg_emissions, dtype: float64"
      ]
     },
     "execution_count": 44,
     "metadata": {},
     "output_type": "execute_result"
    }
   ],
   "source": [
    "(df.groupby('emission_group')['quantity_ghg_emissions'].sum() / 1000).sort_values(ascending=False)"
   ]
  },
  {
   "cell_type": "code",
   "execution_count": 55,
   "metadata": {},
   "outputs": [
    {
     "data": {
      "text/html": [
       "<div>\n",
       "<style scoped>\n",
       "    .dataframe tbody tr th:only-of-type {\n",
       "        vertical-align: middle;\n",
       "    }\n",
       "\n",
       "    .dataframe tbody tr th {\n",
       "        vertical-align: top;\n",
       "    }\n",
       "\n",
       "    .dataframe thead th {\n",
       "        text-align: right;\n",
       "    }\n",
       "</style>\n",
       "<table border=\"1\" class=\"dataframe\">\n",
       "  <thead>\n",
       "    <tr style=\"text-align: right;\">\n",
       "      <th></th>\n",
       "      <th>scope</th>\n",
       "      <th>quantity_ghg_emissions</th>\n",
       "      <th>pc_ghg_emissions</th>\n",
       "    </tr>\n",
       "  </thead>\n",
       "  <tbody>\n",
       "    <tr>\n",
       "      <th>0</th>\n",
       "      <td>3</td>\n",
       "      <td>205666.034920</td>\n",
       "      <td>0.717767</td>\n",
       "    </tr>\n",
       "    <tr>\n",
       "      <th>1</th>\n",
       "      <td>2</td>\n",
       "      <td>62163.946597</td>\n",
       "      <td>0.216950</td>\n",
       "    </tr>\n",
       "    <tr>\n",
       "      <th>2</th>\n",
       "      <td>1</td>\n",
       "      <td>18705.794045</td>\n",
       "      <td>0.065283</td>\n",
       "    </tr>\n",
       "  </tbody>\n",
       "</table>\n",
       "</div>"
      ],
      "text/plain": [
       "   scope  quantity_ghg_emissions  pc_ghg_emissions\n",
       "0      3           205666.034920          0.717767\n",
       "1      2            62163.946597          0.216950\n",
       "2      1            18705.794045          0.065283"
      ]
     },
     "execution_count": 55,
     "metadata": {},
     "output_type": "execute_result"
    }
   ],
   "source": [
    "scope_summary = (df.groupby('scope')['quantity_ghg_emissions'].sum() / 1000).sort_values(ascending=False).to_frame().reset_index()\n",
    "scope_summary['pc_ghg_emissions'] = scope_summary['quantity_ghg_emissions'] / scope_summary['quantity_ghg_emissions'].sum()\n",
    "scope_summary"
   ]
  },
  {
   "cell_type": "code",
   "execution_count": 47,
   "metadata": {},
   "outputs": [
    {
     "data": {
      "text/plain": [
       "site_location              emission_group\n",
       "Mordor innovative (2305)   purchases         111870.004602\n",
       "Mordor polymask (2388)     purchases          26503.043944\n",
       "Mordor intellipack (2370)  purchases          21628.449277\n",
       "Mordor sharp (2410)        purchases          16677.633670\n",
       "Plymouth, in,              electricity        14793.928025\n",
       "                                                 ...      \n",
       "Union city, ca             water                  0.002149\n",
       "Malibu, ca                 water                  0.001214\n",
       "Homewood, il               water                  0.000694\n",
       "Lenoir, nc                 water                  0.000173\n",
       "Atlanta, ga                water                  0.000173\n",
       "Name: quantity_ghg_emissions, Length: 223, dtype: float64"
      ]
     },
     "execution_count": 47,
     "metadata": {},
     "output_type": "execute_result"
    }
   ],
   "source": [
    "(df.groupby(['site_location', 'emission_group'])['quantity_ghg_emissions'].sum() / 1000).sort_values(ascending=False)"
   ]
  },
  {
   "cell_type": "code",
   "execution_count": 72,
   "metadata": {},
   "outputs": [
    {
     "data": {
      "application/vnd.plotly.v1+json": {
       "config": {
        "plotlyServerURL": "https://plot.ly"
       },
       "data": [
        {
         "alignmentgroup": "True",
         "hovertemplate": "emission_group=fuel<br>scope=%{x}<br>quantity_ghg_emissions=%{y}<extra></extra>",
         "legendgroup": "fuel",
         "marker": {
          "color": "#636efa"
         },
         "name": "fuel",
         "offsetgroup": "fuel",
         "orientation": "v",
         "showlegend": true,
         "textposition": "auto",
         "type": "bar",
         "x": [
          1,
          3
         ],
         "xaxis": "x",
         "y": [
          1304.4321160461145,
          373.33130629331595
         ],
         "yaxis": "y"
        },
        {
         "alignmentgroup": "True",
         "hovertemplate": "emission_group=natural_gas<br>scope=%{x}<br>quantity_ghg_emissions=%{y}<extra></extra>",
         "legendgroup": "natural_gas",
         "marker": {
          "color": "#EF553B"
         },
         "name": "natural_gas",
         "offsetgroup": "natural_gas",
         "orientation": "v",
         "showlegend": true,
         "textposition": "auto",
         "type": "bar",
         "x": [
          1,
          3
         ],
         "xaxis": "x",
         "y": [
          17291.917894933973,
          2248.271841743412
         ],
         "yaxis": "y"
        },
        {
         "alignmentgroup": "True",
         "hovertemplate": "emission_group=purchases<br>scope=%{x}<br>quantity_ghg_emissions=%{y}<extra></extra>",
         "legendgroup": "purchases",
         "marker": {
          "color": "#00cc96"
         },
         "name": "purchases",
         "offsetgroup": "purchases",
         "orientation": "v",
         "showlegend": true,
         "textposition": "auto",
         "type": "bar",
         "x": [
          1,
          3
         ],
         "xaxis": "x",
         "y": [
          109.44403419453533,
          196136.2485632074
         ],
         "yaxis": "y"
        },
        {
         "alignmentgroup": "True",
         "hovertemplate": "emission_group=electricity<br>scope=%{x}<br>quantity_ghg_emissions=%{y}<extra></extra>",
         "legendgroup": "electricity",
         "marker": {
          "color": "#ab63fa"
         },
         "name": "electricity",
         "offsetgroup": "electricity",
         "orientation": "v",
         "showlegend": true,
         "textposition": "auto",
         "type": "bar",
         "x": [
          2,
          3
         ],
         "xaxis": "x",
         "y": [
          62163.94659706417,
          2859.6581544022174
         ],
         "yaxis": "y"
        },
        {
         "alignmentgroup": "True",
         "hovertemplate": "emission_group=business_travel<br>scope=%{x}<br>quantity_ghg_emissions=%{y}<extra></extra>",
         "legendgroup": "business_travel",
         "marker": {
          "color": "#FFA15A"
         },
         "name": "business_travel",
         "offsetgroup": "business_travel",
         "orientation": "v",
         "showlegend": true,
         "textposition": "auto",
         "type": "bar",
         "x": [
          3
         ],
         "xaxis": "x",
         "y": [
          549.4703452818704
         ],
         "yaxis": "y"
        },
        {
         "alignmentgroup": "True",
         "hovertemplate": "emission_group=employee_commuting<br>scope=%{x}<br>quantity_ghg_emissions=%{y}<extra></extra>",
         "legendgroup": "employee_commuting",
         "marker": {
          "color": "#19d3f3"
         },
         "name": "employee_commuting",
         "offsetgroup": "employee_commuting",
         "orientation": "v",
         "showlegend": true,
         "textposition": "auto",
         "type": "bar",
         "x": [
          3
         ],
         "xaxis": "x",
         "y": [
          2259.7142376491847
         ],
         "yaxis": "y"
        },
        {
         "alignmentgroup": "True",
         "hovertemplate": "emission_group=teleworking<br>scope=%{x}<br>quantity_ghg_emissions=%{y}<extra></extra>",
         "legendgroup": "teleworking",
         "marker": {
          "color": "#FF6692"
         },
         "name": "teleworking",
         "offsetgroup": "teleworking",
         "orientation": "v",
         "showlegend": true,
         "textposition": "auto",
         "type": "bar",
         "x": [
          3
         ],
         "xaxis": "x",
         "y": [
          27.417639766630813
         ],
         "yaxis": "y"
        },
        {
         "alignmentgroup": "True",
         "hovertemplate": "emission_group=waste<br>scope=%{x}<br>quantity_ghg_emissions=%{y}<extra></extra>",
         "legendgroup": "waste",
         "marker": {
          "color": "#B6E880"
         },
         "name": "waste",
         "offsetgroup": "waste",
         "orientation": "v",
         "showlegend": true,
         "textposition": "auto",
         "type": "bar",
         "x": [
          3
         ],
         "xaxis": "x",
         "y": [
          1199.9339894002335
         ],
         "yaxis": "y"
        },
        {
         "alignmentgroup": "True",
         "hovertemplate": "emission_group=water<br>scope=%{x}<br>quantity_ghg_emissions=%{y}<extra></extra>",
         "legendgroup": "water",
         "marker": {
          "color": "#FF97FF"
         },
         "name": "water",
         "offsetgroup": "water",
         "orientation": "v",
         "showlegend": true,
         "textposition": "auto",
         "type": "bar",
         "x": [
          3
         ],
         "xaxis": "x",
         "y": [
          11.988842071592769
         ],
         "yaxis": "y"
        }
       ],
       "layout": {
        "autosize": true,
        "barmode": "relative",
        "legend": {
         "title": {
          "text": "emission_group"
         },
         "tracegroupgap": 0
        },
        "margin": {
         "t": 60
        },
        "template": {
         "data": {
          "bar": [
           {
            "error_x": {
             "color": "#2a3f5f"
            },
            "error_y": {
             "color": "#2a3f5f"
            },
            "marker": {
             "line": {
              "color": "#E5ECF6",
              "width": 0.5
             }
            },
            "type": "bar"
           }
          ],
          "barpolar": [
           {
            "marker": {
             "line": {
              "color": "#E5ECF6",
              "width": 0.5
             }
            },
            "type": "barpolar"
           }
          ],
          "carpet": [
           {
            "aaxis": {
             "endlinecolor": "#2a3f5f",
             "gridcolor": "white",
             "linecolor": "white",
             "minorgridcolor": "white",
             "startlinecolor": "#2a3f5f"
            },
            "baxis": {
             "endlinecolor": "#2a3f5f",
             "gridcolor": "white",
             "linecolor": "white",
             "minorgridcolor": "white",
             "startlinecolor": "#2a3f5f"
            },
            "type": "carpet"
           }
          ],
          "choropleth": [
           {
            "colorbar": {
             "outlinewidth": 0,
             "ticks": ""
            },
            "type": "choropleth"
           }
          ],
          "contour": [
           {
            "colorbar": {
             "outlinewidth": 0,
             "ticks": ""
            },
            "colorscale": [
             [
              0,
              "#0d0887"
             ],
             [
              0.1111111111111111,
              "#46039f"
             ],
             [
              0.2222222222222222,
              "#7201a8"
             ],
             [
              0.3333333333333333,
              "#9c179e"
             ],
             [
              0.4444444444444444,
              "#bd3786"
             ],
             [
              0.5555555555555556,
              "#d8576b"
             ],
             [
              0.6666666666666666,
              "#ed7953"
             ],
             [
              0.7777777777777778,
              "#fb9f3a"
             ],
             [
              0.8888888888888888,
              "#fdca26"
             ],
             [
              1,
              "#f0f921"
             ]
            ],
            "type": "contour"
           }
          ],
          "contourcarpet": [
           {
            "colorbar": {
             "outlinewidth": 0,
             "ticks": ""
            },
            "type": "contourcarpet"
           }
          ],
          "heatmap": [
           {
            "colorbar": {
             "outlinewidth": 0,
             "ticks": ""
            },
            "colorscale": [
             [
              0,
              "#0d0887"
             ],
             [
              0.1111111111111111,
              "#46039f"
             ],
             [
              0.2222222222222222,
              "#7201a8"
             ],
             [
              0.3333333333333333,
              "#9c179e"
             ],
             [
              0.4444444444444444,
              "#bd3786"
             ],
             [
              0.5555555555555556,
              "#d8576b"
             ],
             [
              0.6666666666666666,
              "#ed7953"
             ],
             [
              0.7777777777777778,
              "#fb9f3a"
             ],
             [
              0.8888888888888888,
              "#fdca26"
             ],
             [
              1,
              "#f0f921"
             ]
            ],
            "type": "heatmap"
           }
          ],
          "heatmapgl": [
           {
            "colorbar": {
             "outlinewidth": 0,
             "ticks": ""
            },
            "colorscale": [
             [
              0,
              "#0d0887"
             ],
             [
              0.1111111111111111,
              "#46039f"
             ],
             [
              0.2222222222222222,
              "#7201a8"
             ],
             [
              0.3333333333333333,
              "#9c179e"
             ],
             [
              0.4444444444444444,
              "#bd3786"
             ],
             [
              0.5555555555555556,
              "#d8576b"
             ],
             [
              0.6666666666666666,
              "#ed7953"
             ],
             [
              0.7777777777777778,
              "#fb9f3a"
             ],
             [
              0.8888888888888888,
              "#fdca26"
             ],
             [
              1,
              "#f0f921"
             ]
            ],
            "type": "heatmapgl"
           }
          ],
          "histogram": [
           {
            "marker": {
             "colorbar": {
              "outlinewidth": 0,
              "ticks": ""
             }
            },
            "type": "histogram"
           }
          ],
          "histogram2d": [
           {
            "colorbar": {
             "outlinewidth": 0,
             "ticks": ""
            },
            "colorscale": [
             [
              0,
              "#0d0887"
             ],
             [
              0.1111111111111111,
              "#46039f"
             ],
             [
              0.2222222222222222,
              "#7201a8"
             ],
             [
              0.3333333333333333,
              "#9c179e"
             ],
             [
              0.4444444444444444,
              "#bd3786"
             ],
             [
              0.5555555555555556,
              "#d8576b"
             ],
             [
              0.6666666666666666,
              "#ed7953"
             ],
             [
              0.7777777777777778,
              "#fb9f3a"
             ],
             [
              0.8888888888888888,
              "#fdca26"
             ],
             [
              1,
              "#f0f921"
             ]
            ],
            "type": "histogram2d"
           }
          ],
          "histogram2dcontour": [
           {
            "colorbar": {
             "outlinewidth": 0,
             "ticks": ""
            },
            "colorscale": [
             [
              0,
              "#0d0887"
             ],
             [
              0.1111111111111111,
              "#46039f"
             ],
             [
              0.2222222222222222,
              "#7201a8"
             ],
             [
              0.3333333333333333,
              "#9c179e"
             ],
             [
              0.4444444444444444,
              "#bd3786"
             ],
             [
              0.5555555555555556,
              "#d8576b"
             ],
             [
              0.6666666666666666,
              "#ed7953"
             ],
             [
              0.7777777777777778,
              "#fb9f3a"
             ],
             [
              0.8888888888888888,
              "#fdca26"
             ],
             [
              1,
              "#f0f921"
             ]
            ],
            "type": "histogram2dcontour"
           }
          ],
          "mesh3d": [
           {
            "colorbar": {
             "outlinewidth": 0,
             "ticks": ""
            },
            "type": "mesh3d"
           }
          ],
          "parcoords": [
           {
            "line": {
             "colorbar": {
              "outlinewidth": 0,
              "ticks": ""
             }
            },
            "type": "parcoords"
           }
          ],
          "pie": [
           {
            "automargin": true,
            "type": "pie"
           }
          ],
          "scatter": [
           {
            "marker": {
             "colorbar": {
              "outlinewidth": 0,
              "ticks": ""
             }
            },
            "type": "scatter"
           }
          ],
          "scatter3d": [
           {
            "line": {
             "colorbar": {
              "outlinewidth": 0,
              "ticks": ""
             }
            },
            "marker": {
             "colorbar": {
              "outlinewidth": 0,
              "ticks": ""
             }
            },
            "type": "scatter3d"
           }
          ],
          "scattercarpet": [
           {
            "marker": {
             "colorbar": {
              "outlinewidth": 0,
              "ticks": ""
             }
            },
            "type": "scattercarpet"
           }
          ],
          "scattergeo": [
           {
            "marker": {
             "colorbar": {
              "outlinewidth": 0,
              "ticks": ""
             }
            },
            "type": "scattergeo"
           }
          ],
          "scattergl": [
           {
            "marker": {
             "colorbar": {
              "outlinewidth": 0,
              "ticks": ""
             }
            },
            "type": "scattergl"
           }
          ],
          "scattermapbox": [
           {
            "marker": {
             "colorbar": {
              "outlinewidth": 0,
              "ticks": ""
             }
            },
            "type": "scattermapbox"
           }
          ],
          "scatterpolar": [
           {
            "marker": {
             "colorbar": {
              "outlinewidth": 0,
              "ticks": ""
             }
            },
            "type": "scatterpolar"
           }
          ],
          "scatterpolargl": [
           {
            "marker": {
             "colorbar": {
              "outlinewidth": 0,
              "ticks": ""
             }
            },
            "type": "scatterpolargl"
           }
          ],
          "scatterternary": [
           {
            "marker": {
             "colorbar": {
              "outlinewidth": 0,
              "ticks": ""
             }
            },
            "type": "scatterternary"
           }
          ],
          "surface": [
           {
            "colorbar": {
             "outlinewidth": 0,
             "ticks": ""
            },
            "colorscale": [
             [
              0,
              "#0d0887"
             ],
             [
              0.1111111111111111,
              "#46039f"
             ],
             [
              0.2222222222222222,
              "#7201a8"
             ],
             [
              0.3333333333333333,
              "#9c179e"
             ],
             [
              0.4444444444444444,
              "#bd3786"
             ],
             [
              0.5555555555555556,
              "#d8576b"
             ],
             [
              0.6666666666666666,
              "#ed7953"
             ],
             [
              0.7777777777777778,
              "#fb9f3a"
             ],
             [
              0.8888888888888888,
              "#fdca26"
             ],
             [
              1,
              "#f0f921"
             ]
            ],
            "type": "surface"
           }
          ],
          "table": [
           {
            "cells": {
             "fill": {
              "color": "#EBF0F8"
             },
             "line": {
              "color": "white"
             }
            },
            "header": {
             "fill": {
              "color": "#C8D4E3"
             },
             "line": {
              "color": "white"
             }
            },
            "type": "table"
           }
          ]
         },
         "layout": {
          "annotationdefaults": {
           "arrowcolor": "#2a3f5f",
           "arrowhead": 0,
           "arrowwidth": 1
          },
          "coloraxis": {
           "colorbar": {
            "outlinewidth": 0,
            "ticks": ""
           }
          },
          "colorscale": {
           "diverging": [
            [
             0,
             "#8e0152"
            ],
            [
             0.1,
             "#c51b7d"
            ],
            [
             0.2,
             "#de77ae"
            ],
            [
             0.3,
             "#f1b6da"
            ],
            [
             0.4,
             "#fde0ef"
            ],
            [
             0.5,
             "#f7f7f7"
            ],
            [
             0.6,
             "#e6f5d0"
            ],
            [
             0.7,
             "#b8e186"
            ],
            [
             0.8,
             "#7fbc41"
            ],
            [
             0.9,
             "#4d9221"
            ],
            [
             1,
             "#276419"
            ]
           ],
           "sequential": [
            [
             0,
             "#0d0887"
            ],
            [
             0.1111111111111111,
             "#46039f"
            ],
            [
             0.2222222222222222,
             "#7201a8"
            ],
            [
             0.3333333333333333,
             "#9c179e"
            ],
            [
             0.4444444444444444,
             "#bd3786"
            ],
            [
             0.5555555555555556,
             "#d8576b"
            ],
            [
             0.6666666666666666,
             "#ed7953"
            ],
            [
             0.7777777777777778,
             "#fb9f3a"
            ],
            [
             0.8888888888888888,
             "#fdca26"
            ],
            [
             1,
             "#f0f921"
            ]
           ],
           "sequentialminus": [
            [
             0,
             "#0d0887"
            ],
            [
             0.1111111111111111,
             "#46039f"
            ],
            [
             0.2222222222222222,
             "#7201a8"
            ],
            [
             0.3333333333333333,
             "#9c179e"
            ],
            [
             0.4444444444444444,
             "#bd3786"
            ],
            [
             0.5555555555555556,
             "#d8576b"
            ],
            [
             0.6666666666666666,
             "#ed7953"
            ],
            [
             0.7777777777777778,
             "#fb9f3a"
            ],
            [
             0.8888888888888888,
             "#fdca26"
            ],
            [
             1,
             "#f0f921"
            ]
           ]
          },
          "colorway": [
           "#636efa",
           "#EF553B",
           "#00cc96",
           "#ab63fa",
           "#FFA15A",
           "#19d3f3",
           "#FF6692",
           "#B6E880",
           "#FF97FF",
           "#FECB52"
          ],
          "font": {
           "color": "#2a3f5f"
          },
          "geo": {
           "bgcolor": "white",
           "lakecolor": "white",
           "landcolor": "#E5ECF6",
           "showlakes": true,
           "showland": true,
           "subunitcolor": "white"
          },
          "hoverlabel": {
           "align": "left"
          },
          "hovermode": "closest",
          "mapbox": {
           "style": "light"
          },
          "paper_bgcolor": "white",
          "plot_bgcolor": "#E5ECF6",
          "polar": {
           "angularaxis": {
            "gridcolor": "white",
            "linecolor": "white",
            "ticks": ""
           },
           "bgcolor": "#E5ECF6",
           "radialaxis": {
            "gridcolor": "white",
            "linecolor": "white",
            "ticks": ""
           }
          },
          "scene": {
           "xaxis": {
            "backgroundcolor": "#E5ECF6",
            "gridcolor": "white",
            "gridwidth": 2,
            "linecolor": "white",
            "showbackground": true,
            "ticks": "",
            "zerolinecolor": "white"
           },
           "yaxis": {
            "backgroundcolor": "#E5ECF6",
            "gridcolor": "white",
            "gridwidth": 2,
            "linecolor": "white",
            "showbackground": true,
            "ticks": "",
            "zerolinecolor": "white"
           },
           "zaxis": {
            "backgroundcolor": "#E5ECF6",
            "gridcolor": "white",
            "gridwidth": 2,
            "linecolor": "white",
            "showbackground": true,
            "ticks": "",
            "zerolinecolor": "white"
           }
          },
          "shapedefaults": {
           "line": {
            "color": "#2a3f5f"
           }
          },
          "ternary": {
           "aaxis": {
            "gridcolor": "white",
            "linecolor": "white",
            "ticks": ""
           },
           "baxis": {
            "gridcolor": "white",
            "linecolor": "white",
            "ticks": ""
           },
           "bgcolor": "#E5ECF6",
           "caxis": {
            "gridcolor": "white",
            "linecolor": "white",
            "ticks": ""
           }
          },
          "title": {
           "x": 0.05
          },
          "xaxis": {
           "automargin": true,
           "gridcolor": "white",
           "linecolor": "white",
           "ticks": "",
           "title": {
            "standoff": 15
           },
           "zerolinecolor": "white",
           "zerolinewidth": 2
          },
          "yaxis": {
           "automargin": true,
           "gridcolor": "white",
           "linecolor": "white",
           "ticks": "",
           "title": {
            "standoff": 15
           },
           "zerolinecolor": "white",
           "zerolinewidth": 2
          }
         }
        },
        "xaxis": {
         "anchor": "y",
         "autorange": true,
         "domain": [
          0,
          1
         ],
         "range": [
          0.5,
          3.5
         ],
         "title": {
          "text": "scope"
         },
         "type": "linear"
        },
        "yaxis": {
         "anchor": "x",
         "autorange": true,
         "domain": [
          0,
          1
         ],
         "range": [
          0,
          216490.56307349043
         ],
         "title": {
          "text": "quantity_ghg_emissions"
         },
         "type": "linear"
        }
       }
      },
      "image/png": "[encoded data removed]",
      "text/html": [
       "<div>\n",
       "        \n",
       "        \n",
       "            <div id=\"8cada5b8-83a4-44fd-a0c5-b45fe772deb6\" class=\"plotly-graph-div\" style=\"height:525px; width:100%;\"></div>\n",
       "            <script type=\"text/javascript\">\n",
       "                require([\"plotly\"], function(Plotly) {\n",
       "                    window.PLOTLYENV=window.PLOTLYENV || {};\n",
       "                    \n",
       "                if (document.getElementById(\"8cada5b8-83a4-44fd-a0c5-b45fe772deb6\")) {\n",
       "                    Plotly.newPlot(\n",
       "                        '8cada5b8-83a4-44fd-a0c5-b45fe772deb6',\n",
       "                        [{\"alignmentgroup\": \"True\", \"hovertemplate\": \"emission_group=fuel<br>scope=%{x}<br>quantity_ghg_emissions=%{y}<extra></extra>\", \"legendgroup\": \"fuel\", \"marker\": {\"color\": \"#636efa\"}, \"name\": \"fuel\", \"offsetgroup\": \"fuel\", \"orientation\": \"v\", \"showlegend\": true, \"textposition\": \"auto\", \"type\": \"bar\", \"x\": [1, 3], \"xaxis\": \"x\", \"y\": [1304.4321160461145, 373.33130629331595], \"yaxis\": \"y\"}, {\"alignmentgroup\": \"True\", \"hovertemplate\": \"emission_group=natural_gas<br>scope=%{x}<br>quantity_ghg_emissions=%{y}<extra></extra>\", \"legendgroup\": \"natural_gas\", \"marker\": {\"color\": \"#EF553B\"}, \"name\": \"natural_gas\", \"offsetgroup\": \"natural_gas\", \"orientation\": \"v\", \"showlegend\": true, \"textposition\": \"auto\", \"type\": \"bar\", \"x\": [1, 3], \"xaxis\": \"x\", \"y\": [17291.917894933973, 2248.271841743412], \"yaxis\": \"y\"}, {\"alignmentgroup\": \"True\", \"hovertemplate\": \"emission_group=purchases<br>scope=%{x}<br>quantity_ghg_emissions=%{y}<extra></extra>\", \"legendgroup\": \"purchases\", \"marker\": {\"color\": \"#00cc96\"}, \"name\": \"purchases\", \"offsetgroup\": \"purchases\", \"orientation\": \"v\", \"showlegend\": true, \"textposition\": \"auto\", \"type\": \"bar\", \"x\": [1, 3], \"xaxis\": \"x\", \"y\": [109.44403419453533, 196136.2485632074], \"yaxis\": \"y\"}, {\"alignmentgroup\": \"True\", \"hovertemplate\": \"emission_group=electricity<br>scope=%{x}<br>quantity_ghg_emissions=%{y}<extra></extra>\", \"legendgroup\": \"electricity\", \"marker\": {\"color\": \"#ab63fa\"}, \"name\": \"electricity\", \"offsetgroup\": \"electricity\", \"orientation\": \"v\", \"showlegend\": true, \"textposition\": \"auto\", \"type\": \"bar\", \"x\": [2, 3], \"xaxis\": \"x\", \"y\": [62163.94659706417, 2859.6581544022174], \"yaxis\": \"y\"}, {\"alignmentgroup\": \"True\", \"hovertemplate\": \"emission_group=business_travel<br>scope=%{x}<br>quantity_ghg_emissions=%{y}<extra></extra>\", \"legendgroup\": \"business_travel\", \"marker\": {\"color\": \"#FFA15A\"}, \"name\": \"business_travel\", \"offsetgroup\": \"business_travel\", \"orientation\": \"v\", \"showlegend\": true, \"textposition\": \"auto\", \"type\": \"bar\", \"x\": [3], \"xaxis\": \"x\", \"y\": [549.4703452818704], \"yaxis\": \"y\"}, {\"alignmentgroup\": \"True\", \"hovertemplate\": \"emission_group=employee_commuting<br>scope=%{x}<br>quantity_ghg_emissions=%{y}<extra></extra>\", \"legendgroup\": \"employee_commuting\", \"marker\": {\"color\": \"#19d3f3\"}, \"name\": \"employee_commuting\", \"offsetgroup\": \"employee_commuting\", \"orientation\": \"v\", \"showlegend\": true, \"textposition\": \"auto\", \"type\": \"bar\", \"x\": [3], \"xaxis\": \"x\", \"y\": [2259.7142376491847], \"yaxis\": \"y\"}, {\"alignmentgroup\": \"True\", \"hovertemplate\": \"emission_group=teleworking<br>scope=%{x}<br>quantity_ghg_emissions=%{y}<extra></extra>\", \"legendgroup\": \"teleworking\", \"marker\": {\"color\": \"#FF6692\"}, \"name\": \"teleworking\", \"offsetgroup\": \"teleworking\", \"orientation\": \"v\", \"showlegend\": true, \"textposition\": \"auto\", \"type\": \"bar\", \"x\": [3], \"xaxis\": \"x\", \"y\": [27.417639766630813], \"yaxis\": \"y\"}, {\"alignmentgroup\": \"True\", \"hovertemplate\": \"emission_group=waste<br>scope=%{x}<br>quantity_ghg_emissions=%{y}<extra></extra>\", \"legendgroup\": \"waste\", \"marker\": {\"color\": \"#B6E880\"}, \"name\": \"waste\", \"offsetgroup\": \"waste\", \"orientation\": \"v\", \"showlegend\": true, \"textposition\": \"auto\", \"type\": \"bar\", \"x\": [3], \"xaxis\": \"x\", \"y\": [1199.9339894002335], \"yaxis\": \"y\"}, {\"alignmentgroup\": \"True\", \"hovertemplate\": \"emission_group=water<br>scope=%{x}<br>quantity_ghg_emissions=%{y}<extra></extra>\", \"legendgroup\": \"water\", \"marker\": {\"color\": \"#FF97FF\"}, \"name\": \"water\", \"offsetgroup\": \"water\", \"orientation\": \"v\", \"showlegend\": true, \"textposition\": \"auto\", \"type\": \"bar\", \"x\": [3], \"xaxis\": \"x\", \"y\": [11.988842071592769], \"yaxis\": \"y\"}],\n",
       "                        {\"barmode\": \"relative\", \"legend\": {\"title\": {\"text\": \"emission_group\"}, \"tracegroupgap\": 0}, \"margin\": {\"t\": 60}, \"template\": {\"data\": {\"bar\": [{\"error_x\": {\"color\": \"#2a3f5f\"}, \"error_y\": {\"color\": \"#2a3f5f\"}, \"marker\": {\"line\": {\"color\": \"#E5ECF6\", \"width\": 0.5}}, \"type\": \"bar\"}], \"barpolar\": [{\"marker\": {\"line\": {\"color\": \"#E5ECF6\", \"width\": 0.5}}, \"type\": \"barpolar\"}], \"carpet\": [{\"aaxis\": {\"endlinecolor\": \"#2a3f5f\", \"gridcolor\": \"white\", \"linecolor\": \"white\", \"minorgridcolor\": \"white\", \"startlinecolor\": \"#2a3f5f\"}, \"baxis\": {\"endlinecolor\": \"#2a3f5f\", \"gridcolor\": \"white\", \"linecolor\": \"white\", \"minorgridcolor\": \"white\", \"startlinecolor\": \"#2a3f5f\"}, \"type\": \"carpet\"}], \"choropleth\": [{\"colorbar\": {\"outlinewidth\": 0, \"ticks\": \"\"}, \"type\": \"choropleth\"}], \"contour\": [{\"colorbar\": {\"outlinewidth\": 0, \"ticks\": \"\"}, \"colorscale\": [[0.0, \"#0d0887\"], [0.1111111111111111, \"#46039f\"], [0.2222222222222222, \"#7201a8\"], [0.3333333333333333, \"#9c179e\"], [0.4444444444444444, \"#bd3786\"], [0.5555555555555556, \"#d8576b\"], [0.6666666666666666, \"#ed7953\"], [0.7777777777777778, \"#fb9f3a\"], [0.8888888888888888, \"#fdca26\"], [1.0, \"#f0f921\"]], \"type\": \"contour\"}], \"contourcarpet\": [{\"colorbar\": {\"outlinewidth\": 0, \"ticks\": \"\"}, \"type\": \"contourcarpet\"}], \"heatmap\": [{\"colorbar\": {\"outlinewidth\": 0, \"ticks\": \"\"}, \"colorscale\": [[0.0, \"#0d0887\"], [0.1111111111111111, \"#46039f\"], [0.2222222222222222, \"#7201a8\"], [0.3333333333333333, \"#9c179e\"], [0.4444444444444444, \"#bd3786\"], [0.5555555555555556, \"#d8576b\"], [0.6666666666666666, \"#ed7953\"], [0.7777777777777778, \"#fb9f3a\"], [0.8888888888888888, \"#fdca26\"], [1.0, \"#f0f921\"]], \"type\": \"heatmap\"}], \"heatmapgl\": [{\"colorbar\": {\"outlinewidth\": 0, \"ticks\": \"\"}, \"colorscale\": [[0.0, \"#0d0887\"], [0.1111111111111111, \"#46039f\"], [0.2222222222222222, \"#7201a8\"], [0.3333333333333333, \"#9c179e\"], [0.4444444444444444, \"#bd3786\"], [0.5555555555555556, \"#d8576b\"], [0.6666666666666666, \"#ed7953\"], [0.7777777777777778, \"#fb9f3a\"], [0.8888888888888888, \"#fdca26\"], [1.0, \"#f0f921\"]], \"type\": \"heatmapgl\"}], \"histogram\": [{\"marker\": {\"colorbar\": {\"outlinewidth\": 0, \"ticks\": \"\"}}, \"type\": \"histogram\"}], \"histogram2d\": [{\"colorbar\": {\"outlinewidth\": 0, \"ticks\": \"\"}, \"colorscale\": [[0.0, \"#0d0887\"], [0.1111111111111111, \"#46039f\"], [0.2222222222222222, \"#7201a8\"], [0.3333333333333333, \"#9c179e\"], [0.4444444444444444, \"#bd3786\"], [0.5555555555555556, \"#d8576b\"], [0.6666666666666666, \"#ed7953\"], [0.7777777777777778, \"#fb9f3a\"], [0.8888888888888888, \"#fdca26\"], [1.0, \"#f0f921\"]], \"type\": \"histogram2d\"}], \"histogram2dcontour\": [{\"colorbar\": {\"outlinewidth\": 0, \"ticks\": \"\"}, \"colorscale\": [[0.0, \"#0d0887\"], [0.1111111111111111, \"#46039f\"], [0.2222222222222222, \"#7201a8\"], [0.3333333333333333, \"#9c179e\"], [0.4444444444444444, \"#bd3786\"], [0.5555555555555556, \"#d8576b\"], [0.6666666666666666, \"#ed7953\"], [0.7777777777777778, \"#fb9f3a\"], [0.8888888888888888, \"#fdca26\"], [1.0, \"#f0f921\"]], \"type\": \"histogram2dcontour\"}], \"mesh3d\": [{\"colorbar\": {\"outlinewidth\": 0, \"ticks\": \"\"}, \"type\": \"mesh3d\"}], \"parcoords\": [{\"line\": {\"colorbar\": {\"outlinewidth\": 0, \"ticks\": \"\"}}, \"type\": \"parcoords\"}], \"pie\": [{\"automargin\": true, \"type\": \"pie\"}], \"scatter\": [{\"marker\": {\"colorbar\": {\"outlinewidth\": 0, \"ticks\": \"\"}}, \"type\": \"scatter\"}], \"scatter3d\": [{\"line\": {\"colorbar\": {\"outlinewidth\": 0, \"ticks\": \"\"}}, \"marker\": {\"colorbar\": {\"outlinewidth\": 0, \"ticks\": \"\"}}, \"type\": \"scatter3d\"}], \"scattercarpet\": [{\"marker\": {\"colorbar\": {\"outlinewidth\": 0, \"ticks\": \"\"}}, \"type\": \"scattercarpet\"}], \"scattergeo\": [{\"marker\": {\"colorbar\": {\"outlinewidth\": 0, \"ticks\": \"\"}}, \"type\": \"scattergeo\"}], \"scattergl\": [{\"marker\": {\"colorbar\": {\"outlinewidth\": 0, \"ticks\": \"\"}}, \"type\": \"scattergl\"}], \"scattermapbox\": [{\"marker\": {\"colorbar\": {\"outlinewidth\": 0, \"ticks\": \"\"}}, \"type\": \"scattermapbox\"}], \"scatterpolar\": [{\"marker\": {\"colorbar\": {\"outlinewidth\": 0, \"ticks\": \"\"}}, \"type\": \"scatterpolar\"}], \"scatterpolargl\": [{\"marker\": {\"colorbar\": {\"outlinewidth\": 0, \"ticks\": \"\"}}, \"type\": \"scatterpolargl\"}], \"scatterternary\": [{\"marker\": {\"colorbar\": {\"outlinewidth\": 0, \"ticks\": \"\"}}, \"type\": \"scatterternary\"}], \"surface\": [{\"colorbar\": {\"outlinewidth\": 0, \"ticks\": \"\"}, \"colorscale\": [[0.0, \"#0d0887\"], [0.1111111111111111, \"#46039f\"], [0.2222222222222222, \"#7201a8\"], [0.3333333333333333, \"#9c179e\"], [0.4444444444444444, \"#bd3786\"], [0.5555555555555556, \"#d8576b\"], [0.6666666666666666, \"#ed7953\"], [0.7777777777777778, \"#fb9f3a\"], [0.8888888888888888, \"#fdca26\"], [1.0, \"#f0f921\"]], \"type\": \"surface\"}], \"table\": [{\"cells\": {\"fill\": {\"color\": \"#EBF0F8\"}, \"line\": {\"color\": \"white\"}}, \"header\": {\"fill\": {\"color\": \"#C8D4E3\"}, \"line\": {\"color\": \"white\"}}, \"type\": \"table\"}]}, \"layout\": {\"annotationdefaults\": {\"arrowcolor\": \"#2a3f5f\", \"arrowhead\": 0, \"arrowwidth\": 1}, \"coloraxis\": {\"colorbar\": {\"outlinewidth\": 0, \"ticks\": \"\"}}, \"colorscale\": {\"diverging\": [[0, \"#8e0152\"], [0.1, \"#c51b7d\"], [0.2, \"#de77ae\"], [0.3, \"#f1b6da\"], [0.4, \"#fde0ef\"], [0.5, \"#f7f7f7\"], [0.6, \"#e6f5d0\"], [0.7, \"#b8e186\"], [0.8, \"#7fbc41\"], [0.9, \"#4d9221\"], [1, \"#276419\"]], \"sequential\": [[0.0, \"#0d0887\"], [0.1111111111111111, \"#46039f\"], [0.2222222222222222, \"#7201a8\"], [0.3333333333333333, \"#9c179e\"], [0.4444444444444444, \"#bd3786\"], [0.5555555555555556, \"#d8576b\"], [0.6666666666666666, \"#ed7953\"], [0.7777777777777778, \"#fb9f3a\"], [0.8888888888888888, \"#fdca26\"], [1.0, \"#f0f921\"]], \"sequentialminus\": [[0.0, \"#0d0887\"], [0.1111111111111111, \"#46039f\"], [0.2222222222222222, \"#7201a8\"], [0.3333333333333333, \"#9c179e\"], [0.4444444444444444, \"#bd3786\"], [0.5555555555555556, \"#d8576b\"], [0.6666666666666666, \"#ed7953\"], [0.7777777777777778, \"#fb9f3a\"], [0.8888888888888888, \"#fdca26\"], [1.0, \"#f0f921\"]]}, \"colorway\": [\"#636efa\", \"#EF553B\", \"#00cc96\", \"#ab63fa\", \"#FFA15A\", \"#19d3f3\", \"#FF6692\", \"#B6E880\", \"#FF97FF\", \"#FECB52\"], \"font\": {\"color\": \"#2a3f5f\"}, \"geo\": {\"bgcolor\": \"white\", \"lakecolor\": \"white\", \"landcolor\": \"#E5ECF6\", \"showlakes\": true, \"showland\": true, \"subunitcolor\": \"white\"}, \"hoverlabel\": {\"align\": \"left\"}, \"hovermode\": \"closest\", \"mapbox\": {\"style\": \"light\"}, \"paper_bgcolor\": \"white\", \"plot_bgcolor\": \"#E5ECF6\", \"polar\": {\"angularaxis\": {\"gridcolor\": \"white\", \"linecolor\": \"white\", \"ticks\": \"\"}, \"bgcolor\": \"#E5ECF6\", \"radialaxis\": {\"gridcolor\": \"white\", \"linecolor\": \"white\", \"ticks\": \"\"}}, \"scene\": {\"xaxis\": {\"backgroundcolor\": \"#E5ECF6\", \"gridcolor\": \"white\", \"gridwidth\": 2, \"linecolor\": \"white\", \"showbackground\": true, \"ticks\": \"\", \"zerolinecolor\": \"white\"}, \"yaxis\": {\"backgroundcolor\": \"#E5ECF6\", \"gridcolor\": \"white\", \"gridwidth\": 2, \"linecolor\": \"white\", \"showbackground\": true, \"ticks\": \"\", \"zerolinecolor\": \"white\"}, \"zaxis\": {\"backgroundcolor\": \"#E5ECF6\", \"gridcolor\": \"white\", \"gridwidth\": 2, \"linecolor\": \"white\", \"showbackground\": true, \"ticks\": \"\", \"zerolinecolor\": \"white\"}}, \"shapedefaults\": {\"line\": {\"color\": \"#2a3f5f\"}}, \"ternary\": {\"aaxis\": {\"gridcolor\": \"white\", \"linecolor\": \"white\", \"ticks\": \"\"}, \"baxis\": {\"gridcolor\": \"white\", \"linecolor\": \"white\", \"ticks\": \"\"}, \"bgcolor\": \"#E5ECF6\", \"caxis\": {\"gridcolor\": \"white\", \"linecolor\": \"white\", \"ticks\": \"\"}}, \"title\": {\"x\": 0.05}, \"xaxis\": {\"automargin\": true, \"gridcolor\": \"white\", \"linecolor\": \"white\", \"ticks\": \"\", \"title\": {\"standoff\": 15}, \"zerolinecolor\": \"white\", \"zerolinewidth\": 2}, \"yaxis\": {\"automargin\": true, \"gridcolor\": \"white\", \"linecolor\": \"white\", \"ticks\": \"\", \"title\": {\"standoff\": 15}, \"zerolinecolor\": \"white\", \"zerolinewidth\": 2}}}, \"xaxis\": {\"anchor\": \"y\", \"domain\": [0.0, 1.0], \"title\": {\"text\": \"scope\"}}, \"yaxis\": {\"anchor\": \"x\", \"domain\": [0.0, 1.0], \"title\": {\"text\": \"quantity_ghg_emissions\"}}},\n",
       "                        {\"responsive\": true}\n",
       "                    ).then(function(){\n",
       "                            \n",
       "var gd = document.getElementById('8cada5b8-83a4-44fd-a0c5-b45fe772deb6');\n",
       "var x = new MutationObserver(function (mutations, observer) {{\n",
       "        var display = window.getComputedStyle(gd).display;\n",
       "        if (!display || display === 'none') {{\n",
       "            console.log([gd, 'removed!']);\n",
       "            Plotly.purge(gd);\n",
       "            observer.disconnect();\n",
       "        }}\n",
       "}});\n",
       "\n",
       "// Listen for the removal of the full notebook cells\n",
       "var notebookContainer = gd.closest('#notebook-container');\n",
       "if (notebookContainer) {{\n",
       "    x.observe(notebookContainer, {childList: true});\n",
       "}}\n",
       "\n",
       "// Listen for the clearing of the current output cell\n",
       "var outputEl = gd.closest('.output');\n",
       "if (outputEl) {{\n",
       "    x.observe(outputEl, {childList: true});\n",
       "}}\n",
       "\n",
       "                        })\n",
       "                };\n",
       "                });\n",
       "            </script>\n",
       "        </div>"
      ]
     },
     "metadata": {},
     "output_type": "display_data"
    }
   ],
   "source": [
    "emissions_ts = (df.groupby(['scope', 'emission_group'])['quantity_ghg_emissions'].sum() / 1000).to_frame().reset_index()\n",
    "px.bar(emissions_ts, x='scope', y='quantity_ghg_emissions', color='emission_group')"
   ]
  },
  {
   "cell_type": "code",
   "execution_count": 79,
   "metadata": {},
   "outputs": [
    {
     "data": {
      "text/html": [
       "<div>\n",
       "<style scoped>\n",
       "    .dataframe tbody tr th:only-of-type {\n",
       "        vertical-align: middle;\n",
       "    }\n",
       "\n",
       "    .dataframe tbody tr th {\n",
       "        vertical-align: top;\n",
       "    }\n",
       "\n",
       "    .dataframe thead th {\n",
       "        text-align: right;\n",
       "    }\n",
       "</style>\n",
       "<table border=\"1\" class=\"dataframe\">\n",
       "  <thead>\n",
       "    <tr style=\"text-align: right;\">\n",
       "      <th></th>\n",
       "      <th>date</th>\n",
       "      <th>site_location</th>\n",
       "      <th>quantity</th>\n",
       "      <th>source_unit</th>\n",
       "      <th>conversion</th>\n",
       "      <th>quantity_ghg_emissions</th>\n",
       "      <th>emissions_unit</th>\n",
       "      <th>emission_factor</th>\n",
       "      <th>emission_factor_unit</th>\n",
       "      <th>source_of_emission_factor</th>\n",
       "      <th>scope</th>\n",
       "      <th>category</th>\n",
       "      <th>emission_group</th>\n",
       "      <th>source_type</th>\n",
       "      <th>isic</th>\n",
       "      <th>month</th>\n",
       "    </tr>\n",
       "  </thead>\n",
       "  <tbody>\n",
       "    <tr>\n",
       "      <th>168</th>\n",
       "      <td>2019-01-01</td>\n",
       "      <td>Rouen</td>\n",
       "      <td>12919.870968</td>\n",
       "      <td>Kwh</td>\n",
       "      <td>NaN</td>\n",
       "      <td>8125.292532</td>\n",
       "      <td>Kgco2e</td>\n",
       "      <td>Market for electricity, medium voltage</td>\n",
       "      <td>Kwh</td>\n",
       "      <td>Ecoinvent</td>\n",
       "      <td>2</td>\n",
       "      <td>Purchased electricity</td>\n",
       "      <td>electricity</td>\n",
       "      <td>NaN</td>\n",
       "      <td>NaN</td>\n",
       "      <td>2019-01</td>\n",
       "    </tr>\n",
       "    <tr>\n",
       "      <th>169</th>\n",
       "      <td>2019-01-01</td>\n",
       "      <td>Rouen</td>\n",
       "      <td>12919.870968</td>\n",
       "      <td>Kwh</td>\n",
       "      <td>NaN</td>\n",
       "      <td>26.622946</td>\n",
       "      <td>Kgco2e</td>\n",
       "      <td>Market for electricity, medium voltage</td>\n",
       "      <td>Kwh</td>\n",
       "      <td>Ecoinvent</td>\n",
       "      <td>3</td>\n",
       "      <td>Fuel and energy related services</td>\n",
       "      <td>electricity</td>\n",
       "      <td>NaN</td>\n",
       "      <td>NaN</td>\n",
       "      <td>2019-01</td>\n",
       "    </tr>\n",
       "    <tr>\n",
       "      <th>170</th>\n",
       "      <td>2019-01-01</td>\n",
       "      <td>Kansas City, ms</td>\n",
       "      <td>30377.000000</td>\n",
       "      <td>Kwh</td>\n",
       "      <td>NaN</td>\n",
       "      <td>13396.275516</td>\n",
       "      <td>Kgco2e</td>\n",
       "      <td>Egrid 2018 for us state: az</td>\n",
       "      <td>Kwh</td>\n",
       "      <td>Egrid</td>\n",
       "      <td>2</td>\n",
       "      <td>Purchased electricity</td>\n",
       "      <td>electricity</td>\n",
       "      <td>NaN</td>\n",
       "      <td>NaN</td>\n",
       "      <td>2019-01</td>\n",
       "    </tr>\n",
       "    <tr>\n",
       "      <th>171</th>\n",
       "      <td>2019-01-01</td>\n",
       "      <td>Kansas City, ms</td>\n",
       "      <td>30377.000000</td>\n",
       "      <td>Kwh</td>\n",
       "      <td>NaN</td>\n",
       "      <td>643.021225</td>\n",
       "      <td>Kgco2e</td>\n",
       "      <td>Egrid 2018 for us state: az</td>\n",
       "      <td>Kwh</td>\n",
       "      <td>Egrid</td>\n",
       "      <td>3</td>\n",
       "      <td>Fuel and energy related services</td>\n",
       "      <td>electricity</td>\n",
       "      <td>NaN</td>\n",
       "      <td>NaN</td>\n",
       "      <td>2019-01</td>\n",
       "    </tr>\n",
       "    <tr>\n",
       "      <th>172</th>\n",
       "      <td>2019-01-01</td>\n",
       "      <td>Elkhorn, wi</td>\n",
       "      <td>24000.000000</td>\n",
       "      <td>Kwh</td>\n",
       "      <td>NaN</td>\n",
       "      <td>15199.844445</td>\n",
       "      <td>Kgco2e</td>\n",
       "      <td>Egrid 2018 for us state: wi</td>\n",
       "      <td>Kwh</td>\n",
       "      <td>Egrid</td>\n",
       "      <td>2</td>\n",
       "      <td>Purchased electricity</td>\n",
       "      <td>electricity</td>\n",
       "      <td>NaN</td>\n",
       "      <td>NaN</td>\n",
       "      <td>2019-01</td>\n",
       "    </tr>\n",
       "  </tbody>\n",
       "</table>\n",
       "</div>"
      ],
      "text/plain": [
       "          date    site_location      quantity source_unit conversion  \\\n",
       "168 2019-01-01            Rouen  12919.870968         Kwh        NaN   \n",
       "169 2019-01-01            Rouen  12919.870968         Kwh        NaN   \n",
       "170 2019-01-01  Kansas City, ms  30377.000000         Kwh        NaN   \n",
       "171 2019-01-01  Kansas City, ms  30377.000000         Kwh        NaN   \n",
       "172 2019-01-01      Elkhorn, wi  24000.000000         Kwh        NaN   \n",
       "\n",
       "     quantity_ghg_emissions emissions_unit  \\\n",
       "168             8125.292532         Kgco2e   \n",
       "169               26.622946         Kgco2e   \n",
       "170            13396.275516         Kgco2e   \n",
       "171              643.021225         Kgco2e   \n",
       "172            15199.844445         Kgco2e   \n",
       "\n",
       "                            emission_factor emission_factor_unit  \\\n",
       "168  Market for electricity, medium voltage                  Kwh   \n",
       "169  Market for electricity, medium voltage                  Kwh   \n",
       "170             Egrid 2018 for us state: az                  Kwh   \n",
       "171             Egrid 2018 for us state: az                  Kwh   \n",
       "172             Egrid 2018 for us state: wi                  Kwh   \n",
       "\n",
       "    source_of_emission_factor  scope                          category  \\\n",
       "168                 Ecoinvent      2             Purchased electricity   \n",
       "169                 Ecoinvent      3  Fuel and energy related services   \n",
       "170                     Egrid      2             Purchased electricity   \n",
       "171                     Egrid      3  Fuel and energy related services   \n",
       "172                     Egrid      2             Purchased electricity   \n",
       "\n",
       "    emission_group source_type isic    month  \n",
       "168    electricity         NaN  NaN  2019-01  \n",
       "169    electricity         NaN  NaN  2019-01  \n",
       "170    electricity         NaN  NaN  2019-01  \n",
       "171    electricity         NaN  NaN  2019-01  \n",
       "172    electricity         NaN  NaN  2019-01  "
      ]
     },
     "execution_count": 79,
     "metadata": {},
     "output_type": "execute_result"
    }
   ],
   "source": [
    "(df[df['emission_group'] == 'electricity'].groupby('emission_factor')['quantity_ghg_emissions'].sum() / 1000).sort_values(ascending=False)\n",
    "df[df['emission_group'] == 'electricity'].head()"
   ]
  },
  {
   "cell_type": "code",
   "execution_count": 81,
   "metadata": {},
   "outputs": [
    {
     "data": {
      "text/plain": [
       "Restaurants and mobile food service activities                                                                                              30183\n",
       "Short term accommodation activities                                                                                                         18101\n",
       "Forging, pressing, stamping and roll-forming of metal; powder metallurgy                                                                     6204\n",
       "Passenger air transport                                                                                                                      5558\n",
       "Retail sale of automotive fuel in specialized stores                                                                                         5515\n",
       "                                                                                                                                            ...  \n",
       "Wholesale trade, except of motor vehicles and motorcycles                                                                                       1\n",
       "Sale, maintenance and repair of motorcycles and related parts and accessories                                                                   1\n",
       "Manufacture of measuring, testing, navigating and control equipment; watches and clocks                                                         1\n",
       "Regulation of the activities of providing health care, education, cultural services and other social services, excluding social security        1\n",
       "Other social work activities without accommodation                                                                                              1\n",
       "Name: isic, Length: 289, dtype: int64"
      ]
     },
     "execution_count": 81,
     "metadata": {},
     "output_type": "execute_result"
    }
   ],
   "source": [
    "df.isic.value_counts()"
   ]
  }
 ],
 "metadata": {
  "kernelspec": {
   "display_name": "Python 3 (ipykernel)",
   "language": "python",
   "name": "python3"
  },
  "language_info": {
   "codemirror_mode": {
    "name": "ipython",
    "version": 3
   },
   "file_extension": ".py",
   "mimetype": "text/x-python",
   "name": "python",
   "nbconvert_exporter": "python",
   "pygments_lexer": "ipython3",
   "version": "3.10.2"
  }
 },
 "nbformat": 4,
 "nbformat_minor": 4
}
